{
 "cells": [
  {
   "cell_type": "code",
   "execution_count": null,
   "metadata": {},
   "outputs": [
    {
     "name": "stdout",
     "output_type": "stream",
     "text": [
      "nrows, ncols 1 2\n",
      "rundir mw_mr_2_21\n",
      "rundir mw_mr_2_21\n",
      "loading file : /home/tkc004/oasis/bw/mw/mw_mr_2_21//output//snapshot_490.hdf5\n",
      "npart_file:  [3178530 3500000 2000000 1000000  691754       1]\n",
      "npart_total: [3178530 3500000 2000000 1000000  691754       1]\n",
      "flag_cooling 1\n",
      "this time 0.48999999994653115\n",
      "hubble 1.0\n",
      "loading file : /home/tkc004/oasis/bw/mw/mw_mr_2_21//output//snapshot_490.hdf5\n",
      "npart_file:  [3178530 3500000 2000000 1000000  691754       1]\n",
      "npart_total: [3178530 3500000 2000000 1000000  691754       1]\n",
      "flag_cooling 1\n",
      "xvcen, yvcen, zvcen 0 0 0\n",
      "Gvx,Gvy,Gvz -42.16806719996569 -36.895888672326684 1.6933634346663535\n",
      "np.sum(Hadd) 650032220.3871177\n",
      "xedges [-7.   -6.78 -6.56 -6.34 -6.12 -5.9  -5.68 -5.46 -5.24 -5.02 -4.8  -4.58\n",
      " -4.36 -4.14 -3.92 -3.7  -3.48 -3.26 -3.04 -2.82 -2.6  -2.38 -2.16 -1.94\n",
      " -1.72 -1.5  -1.28 -1.06 -0.84 -0.62 -0.4  -0.18  0.04  0.26  0.48  0.7\n",
      "  0.92  1.14  1.36  1.58  1.8   2.02  2.24  2.46  2.68  2.9   3.12  3.34\n",
      "  3.56  3.78  4.  ]\n",
      "extent [-7, 4, 1, 9]\n",
      "rundir mw_cr_mr_dc27_2_21_M1_c500\n",
      "rundir mw_cr_mr_dc27_2_21_M1_c500\n",
      "loading file : /home/tkc004/oasis/bw/mw/mw_cr_mr_dc27_2_21_M1_c500//output//snapshot_490.hdf5\n",
      "npart_file:  [3369816 3500000 2000000 1000000  500270       1]\n",
      "npart_total: [3369816 3500000 2000000 1000000  500270       1]\n",
      "flag_cooling 1\n",
      "this time 0.48999999929219484\n",
      "hubble 1.0\n",
      "loading file : /home/tkc004/oasis/bw/mw/mw_cr_mr_dc27_2_21_M1_c500//output//snapshot_490.hdf5\n",
      "npart_file:  [3369816 3500000 2000000 1000000  500270       1]\n",
      "npart_total: [3369816 3500000 2000000 1000000  500270       1]\n",
      "flag_cooling 1\n"
     ]
    },
    {
     "name": "stderr",
     "output_type": "stream",
     "text": [
      "/home/tkc004/samsonprogram/tools/crgridfunction.py:215: RuntimeWarning: divide by zero encountered in log10\n",
      "  im = gridag[idir].contourf(xedges[:-1], yedges[:-1], np.log10(Hadd),\\\n",
      "/oasis/tscc/scratch/tkc004/yt/yt-conda/lib/python2.7/site-packages/matplotlib/contour.py:1004: UserWarning: The following kwargs were not used by contour: 'aspect'\n",
      "  s)\n"
     ]
    },
    {
     "name": "stdout",
     "output_type": "stream",
     "text": [
      "xvcen, yvcen, zvcen 0 0 0\n",
      "Gvx,Gvy,Gvz 6.423116487920342 -2.843770794021427 -0.8803747212910511\n"
     ]
    }
   ],
   "source": [
    "from stdmodandoption import *\n",
    "from mpl_toolkits.axes_grid1 import AxesGrid\n",
    "import plot_setup as PS\n",
    "from crgridfunction import crgridfunction\n",
    "\n",
    "dirneed=['bwmwmr','bwmwmrdc27']\n",
    "wanted='rhoT'\n",
    "startno=490\n",
    "Nsnap=500\n",
    "snapsep=10\n",
    "title=''\n",
    "nrows=1\n",
    "ncols=len(dirneed)\n",
    "#if len(dirneed)>3:\n",
    "#        nrows = 2\n",
    "#        ncols = 3\n",
    "#if len(dirneed)>6:\n",
    "#        nrows = 3\n",
    "#        ncols = 3\n",
    "\n",
    "print 'nrows, ncols', nrows, ncols\n",
    "\n",
    "fig, gridag = PS.setupaxesgrid(nrows=nrows, ncols=ncols)\n",
    "\n",
    "plotupt=[]\n",
    "plotit=[]\n",
    "\n",
    "for idir, runtodo in enumerate(dirneed):\n",
    "    im, plotupt,plotit,cblabel,totalname\\\n",
    "    = crgridfunction(gridag,runtodo,wanted,idir,plotupt,plotit,startno,Nsnap,snapsep,cbcolor='YlOrRd')\n",
    "\n",
    "\n",
    "PS.finishaxesgrid(im,cblabel,gridag,plotit,plotupt)\n",
    "        \n",
    "#cbar = grid.cbar_axes[0].colorbar(im,extend='both', norm=mpl.colors.Normalize(vmin=vmin, vmax=vmax)\n",
    "#cbar = gridag.cbar_axes[0].colorbar(im, extend='max')\n",
    "#cbar.ax.set_ylabel(cblabel, rotation=270,fontsize=12, labelpad=15)\n",
    "#cbar.ax.tick_params(labelsize=10)\n",
    "\n",
    "#for ax, im_title, up_title in zip(gridag, plotit, plotupt):\n",
    "#      t = PS.add_inner_title(ax, \"\\n\".join(wrap(im_title,17)), loc=3)\n",
    "#      t.patch.set_alpha(0.5)\n",
    "#      ax.set_title(up_title)\n",
    "\n",
    "#plt.axes().set_aspect('equal', 'datalim')\n",
    "\n",
    "print 'totalname', totalname\n",
    "plt.savefig(totalname,bbox_inches='tight',pad_inches = 0.1)"
   ]
  },
  {
   "cell_type": "code",
   "execution_count": null,
   "metadata": {},
   "outputs": [],
   "source": []
  },
  {
   "cell_type": "code",
   "execution_count": null,
   "metadata": {},
   "outputs": [],
   "source": []
  }
 ],
 "metadata": {
  "kernelspec": {
   "display_name": "Python 2",
   "language": "python",
   "name": "python2"
  },
  "language_info": {
   "codemirror_mode": {
    "name": "ipython",
    "version": 2
   },
   "file_extension": ".py",
   "mimetype": "text/x-python",
   "name": "python",
   "nbconvert_exporter": "python",
   "pygments_lexer": "ipython2",
   "version": "2.7.15"
  }
 },
 "nbformat": 4,
 "nbformat_minor": 2
}
