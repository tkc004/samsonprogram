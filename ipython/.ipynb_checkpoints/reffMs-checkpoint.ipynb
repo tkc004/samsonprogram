{
 "cells": [
  {
   "cell_type": "code",
   "execution_count": null,
   "metadata": {},
   "outputs": [],
   "source": [
    "from stdmodandoption import *\n",
    "import plot_setup as PS\n",
    "import collections\n",
    "from calreffdis_tools import calreff\n",
    "\n",
    "dirneed=['f476','m11bmhdcv','m11bcr_b_70','m11bcr_700']\n",
    "Nsnap=600\n",
    "figdir='figures/reffMs/'\n",
    "plotneed='reffMs'\n",
    "markerl=['o','s','^','d']\n",
    "dcl = [0,1,2,3]\n",
    "labell = dirneed\n",
    "    \n",
    "Msl = np.array([])\n",
    "reffl = np.array([])\n",
    "for runtodo in dirneed:\n",
    "    S = SSF.readsnapfromrun(runtodo,Nsnap,4,rotface=0,datasup=0)\n",
    "    Sdata = calreff(S)\n",
    "    reff = Sdata['reff']\n",
    "    data = SSF.readcenfromrun(runtodo,Nsnap,4) #only work for cosmo=1\n",
    "    halosingle = data['halosingle']\n",
    "    Ms = halosingle['Ms']\n",
    "    print 'Ms,reff', Ms,reff\n",
    "    Msl.append(Ms); reffl.append(reffl);\n",
    "    \n",
    "plotdict = collections.defaultdict(dict)\n",
    "plotdict[plotneed]['xlab'] = r'$M_{*}\\,[{\\rm M}_{\\odot}]$'\n",
    "plotdict[plotneed]['xnl'] = msl\n",
    "plotdict[plotneed]['ylab'] = r'$r_{\\rm eff} {\\rm [kpc]}$'\n",
    "plotdict[plotneed]['ynl'] = reffl\n",
    "plotdict[plotneed]['selectl'] = dcl\n",
    "plotdict[plotneed]['filename'] = figdir+'/reffMs_'+fmeat+'.pdf'\n",
    "if neederr==1:\n",
    "    plotdict[plotneed]['yld'] = mlld\n",
    "    plotdict[plotneed]['ylu'] = mllu\n",
    "    \n",
    "for plotneed in plotlist:\n",
    "    PS.dopointplot(plotdict,plotneed,markerl,colorl,labell,neederr=neederr)\n",
    "    "
   ]
  },
  {
   "cell_type": "code",
   "execution_count": null,
   "metadata": {},
   "outputs": [],
   "source": []
  },
  {
   "cell_type": "code",
   "execution_count": null,
   "metadata": {},
   "outputs": [],
   "source": []
  }
 ],
 "metadata": {
  "kernelspec": {
   "display_name": "Python 2",
   "language": "python",
   "name": "python2"
  },
  "language_info": {
   "codemirror_mode": {
    "name": "ipython",
    "version": 2
   },
   "file_extension": ".py",
   "mimetype": "text/x-python",
   "name": "python",
   "nbconvert_exporter": "python",
   "pygments_lexer": "ipython2",
   "version": "2.7.15"
  }
 },
 "nbformat": 4,
 "nbformat_minor": 2
}
