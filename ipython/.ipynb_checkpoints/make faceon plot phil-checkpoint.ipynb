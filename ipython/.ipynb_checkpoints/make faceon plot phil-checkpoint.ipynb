{
 "cells": [
  {
   "cell_type": "code",
   "execution_count": null,
   "metadata": {},
   "outputs": [],
   "source": [
    "import samson_functions as SSF\n",
    "import numpy as np\n",
    "from mmfunc import runmmfromrun, runimfromrun\n",
    "runtodo = 'm11gcr_b_70'; i_snap_max = Nsnap = 600; i_snap_min = Nsnap-10; ptype = 1;\n",
    "theta, phi = SSF.calangLfromrun(runtodo,Nsnap,ptype,rin=5.)\n",
    "print 'theta,phi', theta,phi\n",
    "theta0 = int(theta/np.pi*180.); phi0 = int(phi/np.pi*180.)\n",
    "print 'theta,phi (in deg)', theta0, phi0\n",
    "#runmmfromrun(runtodo,i_snap_min,i_snap_max,theta0=theta0,phi0=phi0)\n",
    "runimfromrun(runtodo,i_snap_max,theta0=theta0,phi0=phi0)\n"
   ]
  },
  {
   "cell_type": "code",
   "execution_count": null,
   "metadata": {},
   "outputs": [],
   "source": []
  },
  {
   "cell_type": "code",
   "execution_count": null,
   "metadata": {},
   "outputs": [],
   "source": []
  }
 ],
 "metadata": {
  "kernelspec": {
   "display_name": "Python 2",
   "language": "python",
   "name": "python2"
  },
  "language_info": {
   "codemirror_mode": {
    "name": "ipython",
    "version": 2
   },
   "file_extension": ".py",
   "mimetype": "text/x-python",
   "name": "python",
   "nbconvert_exporter": "python",
   "pygments_lexer": "ipython2",
   "version": "2.7.15"
  }
 },
 "nbformat": 4,
 "nbformat_minor": 2
}
