{
 "cells": [
  {
   "cell_type": "code",
   "execution_count": 4,
   "metadata": {},
   "outputs": [
    {
     "name": "stdout",
     "output_type": "stream",
     "text": [
      "rundir /m12m_mass56000/mhdcv/\n",
      "loading file : /home/tkc004//oasis/philruns///m12m_mass56000/mhdcv///output//snapdir_600/snapshot_600.0.hdf5\n",
      "npart_file:  [1646993 2216968  619551       0  501900       0]\n",
      "npart_total: [13523533 17621672  4399020        0  4201730        0]\n",
      "flag_cooling 1\n",
      "this time 1.0\n",
      "hubble 0.702\n",
      "atime 1.0\n",
      "loading file : /home/tkc004//oasis/philruns///m12m_mass56000/mhdcv///output//snapdir_600/snapshot_600.0.hdf5\n",
      "npart_file:  [1646993 2216968  619551       0  501900       0]\n",
      "npart_total: [13523533 17621672  4399020        0  4201730        0]\n",
      "flag_cooling 1\n",
      "xvcen, yvcen, zvcen -180.42 -6.52 140.31\n",
      "Menc [1.40724224e+06 4.10633285e+08 2.06358002e+09 4.91155685e+09\n",
      " 8.73362677e+09 1.33809035e+10 1.87661381e+10 2.47058262e+10\n",
      " 3.11436779e+10 3.79032253e+10 4.50047325e+10 5.23553216e+10\n",
      " 5.98657734e+10 6.74797983e+10 7.51045182e+10 8.27832762e+10\n",
      " 9.04414884e+10 9.80214580e+10 1.05541198e+11 1.12967496e+11\n",
      " 1.20179894e+11 1.27247909e+11 1.34179703e+11 1.41021433e+11\n",
      " 1.47629843e+11 1.54152973e+11 1.60477120e+11 1.66666453e+11\n",
      " 1.72701552e+11 1.78699500e+11]\n",
      "pot [6.05267675e+11 2.24644567e+13 6.02795575e+13 9.78636613e+13\n",
      " 1.32043582e+14 1.62990428e+14 1.91392568e+14 2.16708727e+14\n",
      " 2.39642313e+14 2.59765455e+14 2.78034368e+14 2.94425829e+14\n",
      " 3.08943146e+14 3.21745627e+14 3.32785414e+14 3.42591023e+14\n",
      " 3.51102234e+14 3.58334607e+14 3.64561789e+14 3.69832561e+14\n",
      " 3.73914562e+14 3.77182505e+14 3.79769771e+14 3.81889579e+14\n",
      " 3.83228132e+14 3.84247652e+14 3.84712159e+14 3.84831160e+14\n",
      " 3.84598233e+14 3.84301395e+14]\n",
      "dpotdr [ 7.08407974e-08  1.22990002e-08  8.29767246e-09  5.38703566e-09\n",
      "  3.70956485e-09  2.72352108e-09  2.06401665e-09  1.59445705e-09\n",
      "  1.24817478e-09  9.91259534e-10  8.06704215e-10  6.54843748e-10\n",
      "  5.31151275e-10  4.28279431e-10  3.47975882e-10  2.85577663e-10\n",
      "  2.30255635e-10  1.85369842e-10  1.49627184e-10  1.15354037e-10\n",
      "  8.61520027e-11  6.53858987e-11  5.01909429e-11  3.52828623e-11\n",
      "  2.30611634e-11  1.39361237e-11  5.26999679e-12 -9.91030403e-13\n",
      " -4.44462803e-12 -4.80994079e-12]\n",
      "[  7.77989508  47.39668414  77.6399108   98.92606395 114.91021799\n",
      " 127.66770462 138.34470267 147.21030109 154.80384769 161.17240931\n",
      " 166.74362605 171.58841145 175.76778598 179.37269224 182.4240701\n",
      " 185.09214543 187.37722216 189.29728117 190.93501222 192.31031207\n",
      " 193.36870521 194.21187023 194.87682544 195.41995271 195.76213426\n",
      " 196.02235892 196.14080642 196.17113955 196.11176229 196.03606671]\n",
      "[46.75381161 54.62338777 61.40000188 59.90159618 57.06433507 54.47429925\n",
      " 51.82581376 49.11707698 46.39866795 43.81327179 41.62954132 39.31207039\n",
      " 36.95930045 34.52699497 32.2842034  30.2628653  28.05671362 25.94181479\n",
      " 23.97702515 21.62495391 19.1702166  17.11024457 15.34124147 13.1498311\n",
      " 10.85834424  8.61402147  5.40142551         nan         nan         nan]\n"
     ]
    },
    {
     "name": "stderr",
     "output_type": "stream",
     "text": [
      "/oasis/tscc/scratch/tkc004/yt/yt-conda/lib/python2.7/site-packages/ipykernel_launcher.py:21: RuntimeWarning: invalid value encountered in sqrt\n"
     ]
    }
   ],
   "source": [
    "from samson_functions import *\n",
    "import numpy as np\n",
    "import matplotlib.pyplot as plt\n",
    "nogrid=30\n",
    "rmax=20.\n",
    "\n",
    "runtodo = 'm12mmhdcv'\n",
    "Nsnap=600\n",
    "ptype=1\n",
    "\n",
    "DM=readsnapfromrun(runtodo,Nsnap,ptype)\n",
    "\n",
    "DMdata = DMtosphpot(DM,cutrout=rmax, nogrid=nogrid)\n",
    "\n",
    "\n",
    "\n",
    "print 'Menc', DMdata['Menc']\n",
    "print 'pot', DMdata['Phi']\n",
    "print 'dpotdr', DMdata['dPhidr']\n",
    "#print np.sqrt(DMdata['Phi'])/km_in_cm\n",
    "#print np.sqrt(DMdata['dPhidr']*DMdata['rsph']*kpc_in_cm)/km_in_cm\n"
   ]
  },
  {
   "cell_type": "code",
   "execution_count": null,
   "metadata": {},
   "outputs": [],
   "source": []
  }
 ],
 "metadata": {
  "kernelspec": {
   "display_name": "Python 2",
   "language": "python",
   "name": "python2"
  },
  "language_info": {
   "codemirror_mode": {
    "name": "ipython",
    "version": 2
   },
   "file_extension": ".py",
   "mimetype": "text/x-python",
   "name": "python",
   "nbconvert_exporter": "python",
   "pygments_lexer": "ipython2",
   "version": "2.7.15"
  }
 },
 "nbformat": 4,
 "nbformat_minor": 2
}
