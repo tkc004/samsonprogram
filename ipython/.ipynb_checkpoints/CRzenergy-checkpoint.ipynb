{
 "cells": [
  {
   "cell_type": "code",
   "execution_count": 3,
   "metadata": {},
   "outputs": [
    {
     "name": "stdout",
     "output_type": "stream",
     "text": [
      "noplots 1\n",
      "runtodo m11bcr_700\n",
      "runtodo m11bcr_700\n",
      "rundir /m11b/cr_700/\n",
      "rundir /m11b/cr_700/\n",
      "loading file : /home/tkc004//oasis/philruns///m11b/cr_700///output//snapshot_600.hdf5\n",
      "npart_file:  [12703203 12771424 19289221        0    68230        0]\n",
      "npart_total: [12703203 12771424 19289221        0    68230        0]\n",
      "flag_cooling 1\n",
      "this time 1.0\n",
      "hubble 0.702\n",
      "atime 1.0\n",
      "loading file : /home/tkc004//oasis/philruns///m11b/cr_700///output//snapshot_600.hdf5\n",
      "npart_file:  [12703203 12771424 19289221        0    68230        0]\n",
      "npart_total: [12703203 12771424 19289221        0    68230        0]\n",
      "flag_cooling 1\n",
      "xvcen, yvcen, zvcen -222.77 -330.9 -224.67\n",
      "Gvx,Gvy,Gvz 2.2086066836956677 1.7544504902666858 0.08726033455276726\n",
      "radlist [10.          9.47421053  8.94842105  8.42263158  7.89684211  7.37105263\n",
      "  6.84526316  6.31947368  5.79368421  5.26789474  4.74210526  4.21631579\n",
      "  3.69052632  3.16473684  2.63894737  2.11315789  1.58736842  1.06157895\n",
      "  0.53578947  0.01      ]\n",
      "gasdenlist [0.         0.02261508 0.02630536 0.03196786 0.04041364 0.05095622\n",
      " 0.07129014 0.09100613 0.09100613 0.09100613 0.09100613 0.09100613\n",
      " 0.09100613 0.09100613 0.09100613 0.12079556 0.15817062 0.25855014\n",
      " 0.28468577 0.37089403]\n",
      "radius that has nism = 1cm^-3 0.01\n",
      "filename CRplot/crdenz/CRz_m11bcr_700_sn590_600.pdf\n"
     ]
    },
    {
     "data": {
      "text/plain": [
       "<Figure size 504x360 with 0 Axes>"
      ]
     },
     "metadata": {},
     "output_type": "display_data"
    }
   ],
   "source": [
    "from stdmodandoption import *\n",
    "import plot_setup as PS\n",
    "import collections\n",
    "from CR_z_energy_distribution import CR_z_energy_distribution\n",
    "\n",
    "\n",
    "def main():\n",
    "    startno=590\n",
    "    Nsnap=600\n",
    "    snapsep=10\n",
    "    wanted='rhog'\n",
    "    \n",
    "    dirdict = collections.defaultdict(dict)\n",
    "    keylist=['plot3']\n",
    "#    keylist=['plot1','plot2','plot3']\n",
    "#    dirdict['plot2']=['bwsbclr','bwsbclrdc27','bwsbclrdc28','bwsbclrdc29']\n",
    "    dirdict['plot3']=['m12mmhdcv']\n",
    "    #    dirdict['plot3']=['bwmwmr','bwmwmrdc27','bwmwmrdc28','bwmwmrdc29']\n",
    "#    dirdict['plot1']=['bwsmclr','bwsmclrdc27','bwsmclrdc28','bwsmclrdc29']\n",
    "    noplots=len(dirdict.keys())\n",
    "    print 'noplots', noplots\n",
    "    fig, ax = PS.setupfig(nrows=noplots, ncols=1,sharex=True,sharey=False)\n",
    "    fmeat='m12mmhdcv'\n",
    "    for i, key in enumerate(keylist):\n",
    "        items=dirdict[key]\n",
    "        for j, runtodo in enumerate(items):\n",
    "            print 'runtodo', runtodo\n",
    "            plotdict = CR_z_energy_distribution(runtodo,wanted,startno,Nsnap,snapsep,fmeat)\n",
    "            xlab = plotdict[wanted]['xlab'];\n",
    "            ylab = plotdict[wanted]['ylab'];\n",
    "            ptitle = plotdict[wanted]['ptitle']\n",
    "            filename = plotdict[wanted]['filename'];\n",
    "            for k,inkey in enumerate(plotdict[wanted]['xnl']):\n",
    "                xnl = plotdict[wanted]['xnl'][inkey];\n",
    "                ynl = plotdict[wanted]['ynl'][inkey];\n",
    "                labelneed = plotdict[wanted]['labelneed'];\n",
    "                color = plotdict[wanted]['color'];\n",
    "                lsn = plotdict[wanted]['lsn'];\n",
    "                lw = plotdict[wanted]['lw'][inkey];\n",
    "                marker = plotdict[wanted]['marker'][inkey];\n",
    "                linelabel = plotdict[wanted]['linelab'][inkey];\n",
    "                legendneed = plotdict[wanted]['legendneed']\n",
    "                if i==0 and j==1: \n",
    "                    label = linelabel\n",
    "                elif i==1 and k==0:\n",
    "                    label = labelneed\n",
    "                else:\n",
    "                    label = '_nolegend_' \n",
    "                if noplots==1:\n",
    "                    ax.plot(xnl,ynl,label=label,lw=lw,ls=lsn,color=color,marker=marker)\n",
    "                else:\n",
    "                    ax[i].plot(xnl,ynl,label=label,lw=lw,ls=lsn,color=color,marker=marker)\n",
    "        if i<noplots-1: xlab=''\n",
    "        if noplots==1:\n",
    "            ax.text(0.25, 0.95, ptitle, horizontalalignment='center',\n",
    "            verticalalignment='center', transform=ax.transAxes,fontsize=22)            \n",
    "        else:\n",
    "            ax[i].text(0.25, 0.95, ptitle, horizontalalignment='center',\n",
    "            verticalalignment='center', transform=ax[i].transAxes,fontsize=22)\n",
    "        if noplots==1:\n",
    "            PS.miscsetup(ax,logx=0,logy=1,xlab=xlab,ylab=ylab,legendneed=legendneed,labfs=22,legfs=12)\n",
    "        else:\n",
    "            PS.miscsetup(ax[i],logx=0,logy=1,xlab=xlab,ylab=ylab,legendneed=legendneed,labfs=22,legfs=12)        \n",
    "    PS.finishsave(plt,filename)\n",
    "\n",
    "\n",
    "        \n",
    "if __name__ == '__main__':\n",
    "    main()"
   ]
  },
  {
   "cell_type": "code",
   "execution_count": null,
   "metadata": {},
   "outputs": [],
   "source": []
  },
  {
   "cell_type": "code",
   "execution_count": null,
   "metadata": {},
   "outputs": [],
   "source": []
  }
 ],
 "metadata": {
  "kernelspec": {
   "display_name": "Python 2",
   "language": "python",
   "name": "python2"
  },
  "language_info": {
   "codemirror_mode": {
    "name": "ipython",
    "version": 2
   },
   "file_extension": ".py",
   "mimetype": "text/x-python",
   "name": "python",
   "nbconvert_exporter": "python",
   "pygments_lexer": "ipython2",
   "version": "2.7.15"
  }
 },
 "nbformat": 4,
 "nbformat_minor": 2
}
