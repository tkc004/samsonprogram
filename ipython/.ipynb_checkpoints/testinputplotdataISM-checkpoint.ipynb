{
 "cells": [
  {
   "cell_type": "code",
   "execution_count": null,
   "metadata": {},
   "outputs": [],
   "source": [
    "import collections\n",
    "from importplotfunctionsISM import *\n",
    "from inputplotdataISM import inputplotdict\n",
    "plotlist = ['figetur_smc']\n",
    "#plotlist = ['figanisodiffmod_smcsm','figanisodiffmod_smcgamma',\n",
    "#    'figanisodiffmod_mwsm','figanisodiffmod_mwgamma']\n",
    "#plotlist = ['figanisodiffmod_smcsm']\n",
    "#print inputplotdict\n",
    "for plotneed in plotlist:\n",
    "    inputplotdict[plotneed]['_plotfunction'](inputplotdict[plotneed])"
   ]
  },
  {
   "cell_type": "code",
   "execution_count": null,
   "metadata": {},
   "outputs": [],
   "source": []
  },
  {
   "cell_type": "code",
   "execution_count": null,
   "metadata": {},
   "outputs": [],
   "source": []
  }
 ],
 "metadata": {
  "kernelspec": {
   "display_name": "Python 2",
   "language": "python",
   "name": "python2"
  },
  "language_info": {
   "codemirror_mode": {
    "name": "ipython",
    "version": 2
   },
   "file_extension": ".py",
   "mimetype": "text/x-python",
   "name": "python",
   "nbconvert_exporter": "python",
   "pygments_lexer": "ipython2",
   "version": "2.7.15"
  }
 },
 "nbformat": 4,
 "nbformat_minor": 2
}
