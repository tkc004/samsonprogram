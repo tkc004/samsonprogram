{
 "cells": [
  {
   "cell_type": "code",
   "execution_count": 1,
   "metadata": {},
   "outputs": [
    {
     "name": "stdout",
     "output_type": "stream",
     "text": [
      "noplots 3\n",
      "runtodo m12mmhdcv\n",
      "wanted nHmidplane\n",
      "runtodo m12mmhdcv\n",
      "rundir /m12m_mass56000/mhdcv/\n",
      "loading file : /home/tkc004//oasis/philruns///m12m_mass56000/mhdcv///output//snapdir_590/snapshot_590.0.hdf5\n",
      "npart_file:  [1699578 2259972  509715       0  559795       0]\n",
      "npart_total: [13529355 17621672  4399020        0  4195491        0]\n",
      "flag_cooling 1\n",
      "this time 0.9984075952600424\n",
      "hubble 0.702\n",
      "atime 0.9984075952600424\n",
      "loading file : /home/tkc004//oasis/philruns///m12m_mass56000/mhdcv///output//snapdir_590/snapshot_590.0.hdf5\n",
      "npart_file:  [1699578 2259972  509715       0  559795       0]\n",
      "npart_total: [13529355 17621672  4399020        0  4195491        0]\n",
      "flag_cooling 1\n",
      "xvcen, yvcen, zvcen -180.50775742521907 -6.551911790988749 140.34988973873595\n",
      "Gvx,Gvy,Gvz -19.75282833473879 28.249787455831527 5.110060582911195\n",
      "runtodo m12mcr_b_70\n",
      "wanted nHmidplane\n",
      "runtodo m12mcr_b_70\n",
      "rundir /m12m_mass56000/cr_b_70/\n",
      "loading file : /home/tkc004//oasis/philruns///m12m_mass56000/cr_b_70///output//snapdir_590/snapshot_590.0.hdf5\n",
      "npart_file:  [1820679 2209888  655978       0  426604       0]\n",
      "npart_total: [14250887 17621672  4399020        0  3474118        0]\n",
      "flag_cooling 1\n",
      "this time 0.9984075952600424\n",
      "hubble 0.702\n",
      "atime 0.9984075952600424\n",
      "loading file : /home/tkc004//oasis/philruns///m12m_mass56000/cr_b_70///output//snapdir_590/snapshot_590.0.hdf5\n",
      "npart_file:  [1820679 2209888  655978       0  426604       0]\n",
      "npart_total: [14250887 17621672  4399020        0  3474118        0]\n",
      "flag_cooling 1\n",
      "xvcen, yvcen, zvcen -181.46180152972468 -9.257867686483124 140.84595589549437\n",
      "Gvx,Gvy,Gvz -16.382635615868825 42.18467294128631 -8.55866512387935\n",
      "runtodo m12mcr_700\n",
      "wanted nHmidplane\n",
      "runtodo m12mcr_700\n",
      "rundir /m12m_mass56000/cr_700/\n",
      "loading file : /home/tkc004//oasis/philruns///m12m_mass56000/cr_700///output//snapdir_590/snapshot_590.0.hdf5\n",
      "npart_file:  [2004137 2278896  520282       0  231016       0]\n",
      "npart_total: [15883638 17621672  4399020        0  1755713        0]\n",
      "flag_cooling 1\n",
      "this time 0.9984075952600424\n",
      "hubble 0.702\n",
      "atime 0.9984075952600424\n",
      "loading file : /home/tkc004//oasis/philruns///m12m_mass56000/cr_700///output//snapdir_590/snapshot_590.0.hdf5\n",
      "npart_file:  [2004137 2278896  520282       0  231016       0]\n",
      "npart_total: [15883638 17621672  4399020        0  1755713        0]\n",
      "flag_cooling 1\n",
      "xvcen, yvcen, zvcen -182.28977947747188 -8.715955895494375 141.19584563423032\n",
      "Gvx,Gvy,Gvz -14.09577293478963 30.693551018184465 8.652554063355744\n",
      "filename /home/tkc004//samsonprogramdata/CRplot/nHmidplane/nH_midplane_m12mcr_700_sn590_600.pdf\n"
     ]
    }
   ],
   "source": [
    "import collections\n",
    "from importplotfunctionsISM import *\n",
    "from inputplotdataISM import inputplotdict\n",
    "plotlist = ['figetur_smc']\n",
    "for plotneed in plotlist:\n",
    "    inputplotdict[plotneed]['_plotfunction'](inputplotdict[plotneed])"
   ]
  },
  {
   "cell_type": "code",
   "execution_count": null,
   "metadata": {},
   "outputs": [],
   "source": []
  },
  {
   "cell_type": "code",
   "execution_count": null,
   "metadata": {},
   "outputs": [],
   "source": []
  }
 ],
 "metadata": {
  "kernelspec": {
   "display_name": "Python 2",
   "language": "python",
   "name": "python2"
  },
  "language_info": {
   "codemirror_mode": {
    "name": "ipython",
    "version": 2
   },
   "file_extension": ".py",
   "mimetype": "text/x-python",
   "name": "python",
   "nbconvert_exporter": "python",
   "pygments_lexer": "ipython2",
   "version": "2.7.15"
  }
 },
 "nbformat": 4,
 "nbformat_minor": 2
}
