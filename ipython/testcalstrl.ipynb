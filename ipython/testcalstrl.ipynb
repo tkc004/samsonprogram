{
 "cells": [
  {
   "cell_type": "code",
   "execution_count": 1,
   "metadata": {},
   "outputs": [
    {
     "name": "stdout",
     "output_type": "stream",
     "text": [
      "rundir mw_cr_mr_dc28_2_21_M1_mhd_c1000\n",
      "loading file : /home/tkc004/oasis/bw/mw/mw_cr_mr_dc28_2_21_M1_mhd_c1000//output//snapshot_500.hdf5\n",
      "npart_file:  [3278743 3500000 2000000 1000000  592034       1]\n",
      "npart_total: [3278743 3500000 2000000 1000000  592034       1]\n",
      "flag_cooling 1\n",
      "this time 0.5\n",
      "hubble 1.0\n",
      "loading file : /home/tkc004/oasis/bw/mw/mw_cr_mr_dc28_2_21_M1_mhd_c1000//output//snapshot_500.hdf5\n",
      "npart_file:  [3278743 3500000 2000000 1000000  592034       1]\n",
      "npart_total: [3278743 3500000 2000000 1000000  592034       1]\n",
      "flag_cooling 1\n",
      "xvcen, yvcen, zvcen 0 0 0\n",
      "totstrl -4.558033456412719e+40\n",
      "dPcr_dr [-1.17661747e-34 -1.77232367e-33 -1.20009042e-33 -6.60921025e-34\n",
      " -3.44905637e-34 -3.17336681e-34 -2.44682689e-34 -1.71176784e-34\n",
      " -1.62969653e-34 -1.28947513e-34 -1.13635328e-34 -1.07141105e-34\n",
      " -9.30653057e-35 -7.10835393e-35 -6.27170184e-35 -4.97277961e-35\n",
      " -3.92105826e-35 -3.21910028e-35 -2.67007410e-35 -2.29521892e-35\n",
      " -2.07297097e-35 -1.57368961e-35 -1.24076193e-35 -1.02813487e-35\n",
      " -8.88028090e-36 -8.10433788e-36 -6.57194884e-36 -5.39429510e-36]\n",
      "radlm [ 0.35465517  1.04396552  1.73327586  2.42258621  3.11189655  3.8012069\n",
      "  4.49051724  5.17982759  5.86913793  6.55844828  7.24775862  7.93706897\n",
      "  8.62637931  9.31568966 10.005      10.69431034 11.38362069 12.07293103\n",
      " 12.76224138 13.45155172 14.14086207 14.83017241 15.51948276 16.2087931\n",
      " 16.89810345 17.58741379 18.27672414 18.96603448 19.65534483]\n"
     ]
    }
   ],
   "source": [
    "from stdmodandoption import *\n",
    "runtodo = 'bwmwmrdc28mhd'\n",
    "Nsnap=500\n",
    "\n",
    "G = SSF.readsnapfromrun(runtodo,Nsnap,0,rotface=0,datasup=0)\n",
    "data = CRTF.calstrloss(G)\n",
    "print 'totstrl', data['totstrl']\n",
    "#print 'vAlm', data['vAlm']/km_in_cm\n",
    "print 'dPcr_dr', data['dPcr_dr']\n",
    "print 'radlm', data['radlm']"
   ]
  },
  {
   "cell_type": "code",
   "execution_count": null,
   "metadata": {},
   "outputs": [],
   "source": []
  }
 ],
 "metadata": {
  "kernelspec": {
   "display_name": "Python 2",
   "language": "python",
   "name": "python2"
  },
  "language_info": {
   "codemirror_mode": {
    "name": "ipython",
    "version": 2
   },
   "file_extension": ".py",
   "mimetype": "text/x-python",
   "name": "python",
   "nbconvert_exporter": "python",
   "pygments_lexer": "ipython2",
   "version": "2.7.15"
  }
 },
 "nbformat": 4,
 "nbformat_minor": 2
}
