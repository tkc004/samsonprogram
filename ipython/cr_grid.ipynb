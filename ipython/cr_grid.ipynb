{
 "cells": [
  {
   "cell_type": "code",
   "execution_count": 1,
   "metadata": {},
   "outputs": [
    {
     "name": "stderr",
     "output_type": "stream",
     "text": [
      "/home/tkc004/samsonprogram/tools/crgridfunction.py:68: SyntaxWarning: import * only allowed at module level\n",
      "  def crgridfunction(gridag,runtodo,wanted,idir,plotupt,plotit,startno,Nsnap,snapsep,cbcolor='hot',\n"
     ]
    },
    {
     "name": "stdout",
     "output_type": "stream",
     "text": [
      "nrows, ncols 1 3\n",
      "rundir /m12i_mass7000_MHDCR_tkFIX/mhdcv/\n",
      "rundir /m12i_mass7000_MHDCR_tkFIX/mhdcv/\n",
      "the_snapdir /home/tkc004//oasis/philruns///m12i_mass7000_MHDCR_tkFIX/mhdcv///output/\n",
      "Nsnapstring 600\n",
      "loading file : /home/tkc004//oasis/philruns///m12i_mass7000_MHDCR_tkFIX/mhdcv///output//snapdir_600/snapshot_600.0.hdf5\n",
      "npart_file:  [15557681 23025661  1676566        0  3386732        0]\n",
      "npart_total: [55633181 70514272  5513331        0 15355656        0]\n",
      "flag_cooling 1\n",
      "this time 1.0\n",
      "hubble 0.702\n",
      "atime 1.0\n",
      "loading file : /home/tkc004//oasis/philruns///m12i_mass7000_MHDCR_tkFIX/mhdcv///output//snapdir_600/snapshot_600.0.hdf5\n",
      "npart_file:  [15557681 23025661  1676566        0  3386732        0]\n",
      "npart_total: [55633181 70514272  5513331        0 15355656        0]\n",
      "flag_cooling 1\n",
      "xvcen, yvcen, zvcen -48.68 71.9 95.28\n",
      "Gvx,Gvy,Gvz -8.724718888117273 21.80007113811088 -7.683464160429457\n",
      "np.sum(Hadd) 7795490923.055834\n",
      "xedges [-4.   -3.84 -3.68 -3.52 -3.36 -3.2  -3.04 -2.88 -2.72 -2.56 -2.4  -2.24\n",
      " -2.08 -1.92 -1.76 -1.6  -1.44 -1.28 -1.12 -0.96 -0.8  -0.64 -0.48 -0.32\n",
      " -0.16  0.    0.16  0.32  0.48  0.64  0.8   0.96  1.12  1.28  1.44  1.6\n",
      "  1.76  1.92  2.08  2.24  2.4   2.56  2.72  2.88  3.04  3.2   3.36  3.52\n",
      "  3.68  3.84  4.  ]\n",
      "extent [-4, 4, -10, -3]\n",
      "rundir /m12i_mass7000_MHDCR_tkFIX/cr_b_70/\n",
      "rundir /m12i_mass7000_MHDCR_tkFIX/cr_b_70/\n",
      "the_snapdir /home/tkc004//oasis/philruns///m12i_mass7000_MHDCR_tkFIX/cr_b_70///output/\n",
      "Nsnapstring 600\n",
      "loading file : /home/tkc004//oasis/philruns///m12i_mass7000_MHDCR_tkFIX/cr_b_70///output//snapdir_600/snapshot_600.0.hdf5\n",
      "npart_file:  [13413734 19946198  1116275        0  5018041        0]\n",
      "npart_total: [52425345 70514272  5513331        0 20133592        0]\n",
      "flag_cooling 1\n",
      "this time 1.0\n",
      "hubble 0.702\n",
      "atime 1.0\n",
      "loading file : /home/tkc004//oasis/philruns///m12i_mass7000_MHDCR_tkFIX/cr_b_70///output//snapdir_600/snapshot_600.0.hdf5\n",
      "npart_file:  [13413734 19946198  1116275        0  5018041        0]\n",
      "npart_total: [52425345 70514272  5513331        0 20133592        0]\n",
      "flag_cooling 1\n"
     ]
    },
    {
     "name": "stderr",
     "output_type": "stream",
     "text": [
      "/home/tkc004/samsonprogram/tools/crgridfunction.py:225: RuntimeWarning: divide by zero encountered in log10\n",
      "  im = gridag[idir].contourf(xedges[:-1], yedges[:-1], np.log10(Hadd),\\\n",
      "/oasis/tscc/scratch/tkc004/yt/yt-conda/lib/python2.7/site-packages/matplotlib/contour.py:1004: UserWarning: The following kwargs were not used by contour: 'aspect'\n",
      "  s)\n"
     ]
    },
    {
     "name": "stdout",
     "output_type": "stream",
     "text": [
      "xvcen, yvcen, zvcen -48.58 72.06 96.3\n",
      "Gvx,Gvy,Gvz -7.951577193652735 -32.654436453771446 5.8587531186578214\n",
      "np.sum(Hadd) 3292547625.8600826\n",
      "xedges [-4.   -3.84 -3.68 -3.52 -3.36 -3.2  -3.04 -2.88 -2.72 -2.56 -2.4  -2.24\n",
      " -2.08 -1.92 -1.76 -1.6  -1.44 -1.28 -1.12 -0.96 -0.8  -0.64 -0.48 -0.32\n",
      " -0.16  0.    0.16  0.32  0.48  0.64  0.8   0.96  1.12  1.28  1.44  1.6\n",
      "  1.76  1.92  2.08  2.24  2.4   2.56  2.72  2.88  3.04  3.2   3.36  3.52\n",
      "  3.68  3.84  4.  ]\n",
      "extent [-4, 4, -10, -3]\n",
      "rundir /m12i_mass7000_MHDCR_tkFIX/cr_700/\n",
      "rundir /m12i_mass7000_MHDCR_tkFIX/cr_700/\n",
      "the_snapdir /home/tkc004//oasis/philruns///m12i_mass7000_MHDCR_tkFIX/cr_700///output/\n",
      "Nsnapstring 600\n",
      "loading file : /home/tkc004//oasis/philruns///m12i_mass7000_MHDCR_tkFIX/cr_700///output//snapdir_600/snapshot_600.0.hdf5\n",
      "npart_file:  [17197632 19107204  1167628        0  1376337        0]\n",
      "npart_total: [65046705 70514272  5513331        0  5550264        0]\n",
      "flag_cooling 1\n",
      "this time 1.0\n",
      "hubble 0.702\n",
      "atime 1.0\n",
      "loading file : /home/tkc004//oasis/philruns///m12i_mass7000_MHDCR_tkFIX/cr_700///output//snapdir_600/snapshot_600.0.hdf5\n",
      "npart_file:  [17197632 19107204  1167628        0  1376337        0]\n",
      "npart_total: [65046705 70514272  5513331        0  5550264        0]\n",
      "flag_cooling 1\n",
      "xvcen, yvcen, zvcen -48.4 73.38 95.92\n",
      "Gvx,Gvy,Gvz -23.258068254118538 13.947029834029795 -3.9100486875875857\n",
      "np.sum(Hadd) 4143052179.3017764\n",
      "xedges [-4.   -3.84 -3.68 -3.52 -3.36 -3.2  -3.04 -2.88 -2.72 -2.56 -2.4  -2.24\n",
      " -2.08 -1.92 -1.76 -1.6  -1.44 -1.28 -1.12 -0.96 -0.8  -0.64 -0.48 -0.32\n",
      " -0.16  0.    0.16  0.32  0.48  0.64  0.8   0.96  1.12  1.28  1.44  1.6\n",
      "  1.76  1.92  2.08  2.24  2.4   2.56  2.72  2.88  3.04  3.2   3.36  3.52\n",
      "  3.68  3.84  4.  ]\n",
      "extent [-4, 4, -10, -3]\n",
      "totalname /home/tkc004//samsonprogramdata//CRplot/rhoB/rhoB_m12icr_700hr_sn600_601_contourag.pdf\n"
     ]
    },
    {
     "name": "stderr",
     "output_type": "stream",
     "text": [
      "/oasis/tscc/scratch/tkc004/yt/yt-conda/lib/python2.7/site-packages/matplotlib/figure.py:2299: UserWarning: This figure includes Axes that are not compatible with tight_layout, so results might be incorrect.\n",
      "  warnings.warn(\"This figure includes Axes that are not compatible \"\n"
     ]
    }
   ],
   "source": [
    "from stdmodandoption import *\n",
    "from mpl_toolkits.axes_grid1 import AxesGrid\n",
    "import plot_setup as PS\n",
    "from crgridfunction import crgridfunction\n",
    "\n",
    "#dirneed=['bwsbclrmhd']\n",
    "\n",
    "#dirneed=['bwmwmr','bwmwmrdc0','bwmwmrdc27','bwmwmrdc28','bwmwmrdc29']\n",
    "dirneed=['m12imhdcvhr','m12icr_b_70hr','m12icr_700hr']\n",
    "wanted='rhoB'\n",
    "startno=600\n",
    "Nsnap=601\n",
    "snapsep=10\n",
    "title=''\n",
    "nrows=1\n",
    "ncols=len(dirneed)\n",
    "if len(dirneed)>3:\n",
    "        nrows = 2\n",
    "        ncols = 3\n",
    "#if len(dirneed)>6:\n",
    "#        nrows = 3\n",
    "#        ncols = 3\n",
    "\n",
    "print 'nrows, ncols', nrows, ncols\n",
    "\n",
    "fig, gridag = PS.setupaxesgrid(nrows=nrows, ncols=ncols)\n",
    "\n",
    "plotupt=[]\n",
    "plotit=[]\n",
    "\n",
    "for idir, runtodo in enumerate(dirneed):\n",
    "    im, plotupt,plotit,cblabel,totalname\\\n",
    "    = crgridfunction(gridag,runtodo,wanted,idir,plotupt,plotit,startno,Nsnap,snapsep,cbcolor='YlOrRd',\n",
    "                   rotface=1,\n",
    "                   Tcut=-1.0, #K\n",
    "                   highTcut=1e10,\n",
    "                   vcut=-1e10, #outflow velocity cut\n",
    "                   vhcut=1e10, #upper outflow velocity cut\n",
    "                   withinr=8.0, \n",
    "                   withoutr=0.0,\n",
    "                   zup=10.5,\n",
    "                   zdown=-10.5,\n",
    "                   userad=0,\n",
    "                   trackgas=0)\n",
    "plotupt=['','m12i whole','']\n",
    "PS.finishaxesgrid(im,cblabel,gridag,plotit,plotupt,loc='upper left')\n",
    "\n",
    "print 'totalname', totalname\n",
    "plt.savefig(totalname,bbox_inches='tight',pad_inches = 0.1)\n",
    "plt.clf()"
   ]
  },
  {
   "cell_type": "code",
   "execution_count": null,
   "metadata": {},
   "outputs": [],
   "source": []
  },
  {
   "cell_type": "code",
   "execution_count": null,
   "metadata": {},
   "outputs": [],
   "source": []
  }
 ],
 "metadata": {
  "kernelspec": {
   "display_name": "Python 2",
   "language": "python",
   "name": "python2"
  },
  "language_info": {
   "codemirror_mode": {
    "name": "ipython",
    "version": 2
   },
   "file_extension": ".py",
   "mimetype": "text/x-python",
   "name": "python",
   "nbconvert_exporter": "python",
   "pygments_lexer": "ipython2",
   "version": "2.7.15"
  }
 },
 "nbformat": 4,
 "nbformat_minor": 2
}
