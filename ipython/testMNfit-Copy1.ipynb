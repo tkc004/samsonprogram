{
 "cells": [
  {
   "cell_type": "code",
   "execution_count": 3,
   "metadata": {},
   "outputs": [
    {
     "name": "stdout",
     "output_type": "stream",
     "text": [
      "rundir smc_lr_2_21\n",
      "loading file : /home/tkc004/oasis/bw/smc/smc_lr_2_21//output//snapshot_500.hdf5\n",
      "npart_file:  [ 326390 1000000   57000    4200    3610       1]\n",
      "npart_total: [ 326390 1000000   57000    4200    3610       1]\n",
      "flag_cooling 1\n",
      "this time 0.5\n",
      "hubble 1.0\n",
      "loading file : /home/tkc004/oasis/bw/smc/smc_lr_2_21//output//snapshot_500.hdf5\n",
      "npart_file:  [ 326390 1000000   57000    4200    3610       1]\n",
      "npart_total: [ 326390 1000000   57000    4200    3610       1]\n",
      "flag_cooling 1\n",
      "xvcen, yvcen, zvcen 0 0 0\n",
      "rundir smc_lr_2_21\n",
      "Gvx,Gvy,Gvz -2.0530679875185824 -2.275044114018581 3.46307949428499\n"
     ]
    },
    {
     "data": {
      "image/png": "[encoded data removed]",
      "text/plain": [
       "<Figure size 432x288 with 1 Axes>"
      ]
     },
     "metadata": {
      "needs_background": "light"
     },
     "output_type": "display_data"
    }
   ],
   "source": [
    "from samson_functions import *\n",
    "import numpy as np\n",
    "import matplotlib.pyplot as plt\n",
    "import matplotlib.cm as cm\n",
    "import scipy.optimize as opt\n",
    "\n",
    "\n",
    "\n",
    "runtodo = 'bwsmclr'\n",
    "Nsnap=500\n",
    "ptype=0\n",
    "\n",
    "G=readsnapfromrun(runtodo,Nsnap,ptype,rotface=1,loccen=1)\n",
    "\n",
    "rmax=20.; zmax=3.; nogrid=30\n",
    "\n",
    "\n",
    "\n",
    "rlist = np.linspace(0.01,rmax, num=nogrid)\n",
    "\n",
    "zlist = np.linspace(0.01,zmax, num=nogrid)\n",
    "\n",
    "rl, zl = np.meshgrid(rlist,zlist)\n",
    "\n",
    "dr = rlist[1]-rlist[0]\n",
    "\n",
    "dz = zlist[1]-zlist[0]\n",
    "\n",
    "data = densityRZ(G, rl.ravel(), zl.ravel(), dr, dz)\n",
    "\n",
    "rho_real = data['rhol'].reshape(nogrid,nogrid)\n",
    "\n",
    "fig, ax = plt.subplots();\n",
    "\n",
    "ax.pcolor(rl, zl, rho_real, cmap=cm.RdYlGn,\n",
    "             vmin=abs(rho_real).min(), vmax=abs(rho_real).max());\n",
    "\n",
    "ztest = calstraightline(rlist, point1=(1.,0.), slope= 3.0)\n",
    "\n",
    "ax.plot(rlist,ztest)\n",
    "\n",
    "ax.annotate('test', (10.0,1.0))\n",
    "\n",
    "plt.gcf().canvas.draw()\n",
    "plt.show()\n",
    "\n"
   ]
  },
  {
   "cell_type": "code",
   "execution_count": null,
   "metadata": {},
   "outputs": [],
   "source": []
  }
 ],
 "metadata": {
  "kernelspec": {
   "display_name": "Python 2",
   "language": "python",
   "name": "python2"
  },
  "language_info": {
   "codemirror_mode": {
    "name": "ipython",
    "version": 2
   },
   "file_extension": ".py",
   "mimetype": "text/x-python",
   "name": "python",
   "nbconvert_exporter": "python",
   "pygments_lexer": "ipython2",
   "version": "2.7.15"
  }
 },
 "nbformat": 4,
 "nbformat_minor": 2
}
