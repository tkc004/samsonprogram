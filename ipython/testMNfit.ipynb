{
 "cells": [
  {
   "cell_type": "code",
   "execution_count": 2,
   "metadata": {},
   "outputs": [
    {
     "name": "stdout",
     "output_type": "stream",
     "text": [
      "rundir /m12m_mass56000/mhdcv/\n",
      "loading file : /home/tkc004//oasis/philruns///m12m_mass56000/mhdcv///output//snapdir_600/snapshot_600.0.hdf5\n",
      "npart_file:  [1646993 2216968  619551       0  501900       0]\n",
      "npart_total: [13523533 17621672  4399020        0  4201730        0]\n",
      "flag_cooling 1\n",
      "this time 1.0\n",
      "hubble 0.702\n",
      "atime 1.0\n",
      "loading file : /home/tkc004//oasis/philruns///m12m_mass56000/mhdcv///output//snapdir_600/snapshot_600.0.hdf5\n",
      "npart_file:  [1646993 2216968  619551       0  501900       0]\n",
      "npart_total: [13523533 17621672  4399020        0  4201730        0]\n",
      "flag_cooling 1\n",
      "xvcen, yvcen, zvcen -180.42 -6.52 140.31\n",
      "rundir /m12m_mass56000/mhdcv/\n",
      "Gvx,Gvy,Gvz 55.87870197680843 -14.392306633542972 -106.28753192944936\n",
      "11.2839978634 0.423523028942 33147126981.123207\n",
      "11.28399786342254 0.4235230289418157 33147126981.123207\n",
      "11.28399786342254 0.4235230289418157 33147126981.123207\n",
      "11.28399786342254 0.4235230289418157 33147126981.123207\n",
      "11.283998031567211 0.4235230289418157 33147126981.123207\n",
      "11.28399786342254 0.4235230352528006 33147126981.123207\n",
      "12.968706439462991 0.46826126127042556 33147126981.123207\n",
      "12.968706632711777 0.46826126127042556 33147126981.123207\n",
      "12.968706439462991 0.4682612682480621 33147126981.123207\n",
      "13.491129703493641 0.49430165192356024 33147126981.123207\n",
      "13.49112990452714 0.49430165192356024 33147126981.123207\n",
      "13.491129703493641 0.4943016592892288 33147126981.123207\n",
      "13.569621355815084 0.5000966995534029 33147126981.123207\n",
      "13.569621558018198 0.5000966995534029 33147126981.123207\n",
      "13.569621355815084 0.5000967070054244 33147126981.123207\n",
      "13.580324603512102 0.5006047229019742 33147126981.123207\n",
      "13.580324805874708 0.5006047229019742 33147126981.123207\n",
      "13.580324603512102 0.5006047303615659 33147126981.123207\n",
      "13.581350114002873 0.500669244689539 33147126981.123207\n",
      "13.58135031638076 0.500669244689539 33147126981.123207\n",
      "13.581350114002873 0.5006692521500922 33147126981.123207\n",
      "13.581468751751062 0.5006749074100021 33147126981.123207\n",
      "13.581468751751062 0.5006749074100021 33147126981.123207\n"
     ]
    },
    {
     "data": {
      "image/png": "[encoded data removed]",
      "text/plain": [
       "<Figure size 432x288 with 1 Axes>"
      ]
     },
     "metadata": {
      "needs_background": "light"
     },
     "output_type": "display_data"
    }
   ],
   "source": [
    "from samson_functions import *\n",
    "import numpy as np\n",
    "import matplotlib.pyplot as plt\n",
    "import matplotlib.cm as cm\n",
    "import scipy.optimize as opt\n",
    "\n",
    "\n",
    "\n",
    "runtodo = 'm12mmhdcv'\n",
    "Nsnap=600\n",
    "ptype=0\n",
    "\n",
    "G=readsnapfromrun(runtodo,Nsnap,ptype,rotface=1,loccen=1)\n",
    "\n",
    "rmax=20.; zmax=3.; nogrid=30\n",
    "\n",
    "fitdata = fitMNpot(G, rmax=rmax,zmax=zmax,nogrid=nogrid)\n",
    "\n",
    "rho_real = fitdata['rhoreal']\n",
    "rho_ana = fitdata['rhoana']\n",
    "rho_fit = fitdata['rhofit']\n",
    "rlist = fitdata['rlist']\n",
    "\n",
    "rhom_real=rho_real.reshape(nogrid,nogrid)\n",
    "rhom_ana=rho_ana.reshape(nogrid,nogrid)\n",
    "rhom_fit=rho_fit.reshape(nogrid,nogrid)\n",
    "\n",
    "rhosum_real = rhom_real.sum(axis=1)\n",
    "rhosum_ana = rhom_ana.sum(axis=1)\n",
    "rhosum_fit = rhom_fit.sum(axis=1)\n",
    "\n",
    "plt.plot(rlist,rhosum_real)\n",
    "plt.plot(rlist,rhosum_ana,ls='dashed')\n",
    "plt.plot(rlist,rhosum_fit,ls='dotted')\n",
    "\n",
    "#print 'Error ana', np.sum(np.square(rho_real-rho_ana))\n",
    "#print 'Error fit', np.sum(np.square(rho_real-rho_fit))\n",
    "'''\n",
    "fig, ax = plt.subplots(3,1);\n",
    "\n",
    "ax[0].pcolor(rl, zl, rhom_real, cmap=cm.RdYlGn,\n",
    "             vmin=abs(rho_real).min(), vmax=abs(rho_real).max());\n",
    "\n",
    "ax[1].pcolor(rl, zl, rhom_ana, cmap=cm.RdYlGn,\n",
    "             vmin=abs(rho_real).min(), vmax=abs(rho_real).max());\n",
    "\n",
    "ax[2].pcolor(rl, zl, rhom_fit, cmap=cm.RdYlGn,\n",
    "             vmin=abs(rho_real).min(), vmax=abs(rho_real).max());\n",
    "\n",
    "'''\n",
    "\n",
    "plt.gcf().canvas.draw()\n",
    "plt.show();\n",
    "\n"
   ]
  },
  {
   "cell_type": "code",
   "execution_count": null,
   "metadata": {},
   "outputs": [],
   "source": []
  }
 ],
 "metadata": {
  "kernelspec": {
   "display_name": "Python 2",
   "language": "python",
   "name": "python2"
  },
  "language_info": {
   "codemirror_mode": {
    "name": "ipython",
    "version": 2
   },
   "file_extension": ".py",
   "mimetype": "text/x-python",
   "name": "python",
   "nbconvert_exporter": "python",
   "pygments_lexer": "ipython2",
   "version": "2.7.15"
  }
 },
 "nbformat": 4,
 "nbformat_minor": 2
}
