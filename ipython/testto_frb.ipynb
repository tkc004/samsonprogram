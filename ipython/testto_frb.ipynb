{
 "cells": [
  {
   "cell_type": "code",
   "execution_count": 3,
   "metadata": {},
   "outputs": [
    {
     "name": "stderr",
     "output_type": "stream",
     "text": [
      "yt : [INFO     ] 2019-03-28 14:48:31,798 Omega Lambda is 0.0, so we are turning off Cosmology.\n",
      "yt : [INFO     ] 2019-03-28 14:48:31,800 Assuming length units are in kpc (physical)\n",
      "yt : [INFO     ] 2019-03-28 14:48:31,840 Parameters: current_time              = 0.5\n",
      "yt : [INFO     ] 2019-03-28 14:48:31,841 Parameters: domain_dimensions         = [2 2 2]\n",
      "yt : [INFO     ] 2019-03-28 14:48:31,844 Parameters: domain_left_edge          = [-10000. -10000. -10000.]\n",
      "yt : [INFO     ] 2019-03-28 14:48:31,846 Parameters: domain_right_edge         = [10000. 10000. 10000.]\n",
      "yt : [INFO     ] 2019-03-28 14:48:31,848 Parameters: cosmological_simulation   = 0\n",
      "yt : [INFO     ] 2019-03-28 14:48:31,854 Allocating for 1.037e+07 particles (index particle type 'all')\n",
      "yt : [INFO     ] 2019-03-28 14:48:33,898 Identified 6.545e+05 octs\n",
      "yt : [INFO     ] 2019-03-28 14:48:37,894 xlim = -12.500000 12.500000\n",
      "yt : [INFO     ] 2019-03-28 14:48:37,895 ylim = -12.500000 12.500000\n",
      "yt : [INFO     ] 2019-03-28 14:48:37,896 zlim = -10000.000000 10000.000000\n",
      "yt : [INFO     ] 2019-03-28 14:48:37,898 Making a fixed resolution buffer of (('gas', 'density')) 800 by 800\n"
     ]
    },
    {
     "ename": "NameError",
     "evalue": "name 'newboxsize' is not defined",
     "output_type": "error",
     "traceback": [
      "\u001b[0;31m---------------------------------------------------------------------------\u001b[0m",
      "\u001b[0;31mNameError\u001b[0m                                 Traceback (most recent call last)",
      "\u001b[0;32m<ipython-input-3-0d2aa8ec728a>\u001b[0m in \u001b[0;36m<module>\u001b[0;34m()\u001b[0m\n\u001b[1;32m     14\u001b[0m px = yt.OffAxisProjectionPlot(ds,projectionaxis,\n\u001b[1;32m     15\u001b[0m ('gas', 'density'),width=(25, 'kpc'), north_vector=north_vector)\n\u001b[0;32m---> 16\u001b[0;31m \u001b[0mpx_frb\u001b[0m \u001b[0;34m=\u001b[0m \u001b[0mpx\u001b[0m\u001b[0;34m.\u001b[0m\u001b[0mfrb\u001b[0m\u001b[0;34m(\u001b[0m\u001b[0;34m(\u001b[0m\u001b[0mnewboxsize\u001b[0m\u001b[0;34m,\u001b[0m \u001b[0;34m\"kpc\"\u001b[0m\u001b[0;34m)\u001b[0m\u001b[0;34m,\u001b[0m \u001b[0;36m128\u001b[0m\u001b[0;34m)\u001b[0m\u001b[0;34m\u001b[0m\u001b[0m\n\u001b[0m",
      "\u001b[0;31mNameError\u001b[0m: name 'newboxsize' is not defined"
     ]
    }
   ],
   "source": [
    "import matplotlib.pyplot as plt\n",
    "import numpy as np\n",
    "import yt\n",
    "\n",
    "# Load dataset\n",
    "# I don't know the box size so this is a random number\n",
    "bbox = [[-10000, 10000], [-10000, 10000], [-10000, 10000]]\n",
    "ds = yt.load('/home/tkc004/oasis/bw/mw/mw_mr_2_21_mhd//output//snapshot_500.hdf5', bounding_box=bbox)\n",
    "\n",
    "projectionaxis = [0,0,1]\n",
    "\n",
    "north_vector = [1,0,0]\n",
    "\n",
    "px = yt.OffAxisProjectionPlot(ds,projectionaxis,\n",
    "('gas', 'density'),width=(25, 'kpc'), north_vector=north_vector)\n",
    "px_frb = px.frb((25, \"kpc\"), 128)"
   ]
  },
  {
   "cell_type": "code",
   "execution_count": 4,
   "metadata": {},
   "outputs": [
    {
     "ename": "TypeError",
     "evalue": "'OffAxisProjectionFixedResolutionBuffer' object is not callable",
     "output_type": "error",
     "traceback": [
      "\u001b[0;31m---------------------------------------------------------------------------\u001b[0m",
      "\u001b[0;31mTypeError\u001b[0m                                 Traceback (most recent call last)",
      "\u001b[0;32m<ipython-input-4-15c20c783380>\u001b[0m in \u001b[0;36m<module>\u001b[0;34m()\u001b[0m\n\u001b[0;32m----> 1\u001b[0;31m \u001b[0mpx_frb\u001b[0m \u001b[0;34m=\u001b[0m \u001b[0mpx\u001b[0m\u001b[0;34m.\u001b[0m\u001b[0mfrb\u001b[0m\u001b[0;34m(\u001b[0m\u001b[0;34m(\u001b[0m\u001b[0;36m25\u001b[0m\u001b[0;34m,\u001b[0m \u001b[0;34m\"kpc\"\u001b[0m\u001b[0;34m)\u001b[0m\u001b[0;34m,\u001b[0m \u001b[0;36m128\u001b[0m\u001b[0;34m)\u001b[0m\u001b[0;34m\u001b[0m\u001b[0m\n\u001b[0m",
      "\u001b[0;31mTypeError\u001b[0m: 'OffAxisProjectionFixedResolutionBuffer' object is not callable"
     ]
    }
   ],
   "source": [
    "px_frb = px.frb((25, \"kpc\"), 128)"
   ]
  },
  {
   "cell_type": "code",
   "execution_count": 11,
   "metadata": {},
   "outputs": [
    {
     "name": "stderr",
     "output_type": "stream",
     "text": [
      "yt : [INFO     ] 2019-03-28 15:02:31,279 xlim = -12.500000 12.500000\n",
      "yt : [INFO     ] 2019-03-28 15:02:31,281 ylim = -12.500000 12.500000\n",
      "yt : [INFO     ] 2019-03-28 15:02:31,283 zlim = -10000.000000 10000.000000\n",
      "yt : [INFO     ] 2019-03-28 15:02:31,285 Making a fixed resolution buffer of (('gas', 'density')) 800 by 800\n"
     ]
    }
   ],
   "source": [
    "px = yt.OffAxisProjectionPlot(ds,projectionaxis,\n",
    "('gas', 'density'),width=(25, 'kpc'), north_vector=north_vector)"
   ]
  },
  {
   "cell_type": "code",
   "execution_count": 12,
   "metadata": {},
   "outputs": [
    {
     "ename": "TypeError",
     "evalue": "'OffAxisProjectionFixedResolutionBuffer' object is not callable",
     "output_type": "error",
     "traceback": [
      "\u001b[0;31m---------------------------------------------------------------------------\u001b[0m",
      "\u001b[0;31mTypeError\u001b[0m                                 Traceback (most recent call last)",
      "\u001b[0;32m<ipython-input-12-15c20c783380>\u001b[0m in \u001b[0;36m<module>\u001b[0;34m()\u001b[0m\n\u001b[0;32m----> 1\u001b[0;31m \u001b[0mpx_frb\u001b[0m \u001b[0;34m=\u001b[0m \u001b[0mpx\u001b[0m\u001b[0;34m.\u001b[0m\u001b[0mfrb\u001b[0m\u001b[0;34m(\u001b[0m\u001b[0;34m(\u001b[0m\u001b[0;36m25\u001b[0m\u001b[0;34m,\u001b[0m \u001b[0;34m\"kpc\"\u001b[0m\u001b[0;34m)\u001b[0m\u001b[0;34m,\u001b[0m \u001b[0;36m128\u001b[0m\u001b[0;34m)\u001b[0m\u001b[0;34m\u001b[0m\u001b[0m\n\u001b[0m",
      "\u001b[0;31mTypeError\u001b[0m: 'OffAxisProjectionFixedResolutionBuffer' object is not callable"
     ]
    }
   ],
   "source": [
    "px_frb = px.frb((25, \"kpc\"), 128)"
   ]
  },
  {
   "cell_type": "code",
   "execution_count": null,
   "metadata": {},
   "outputs": [],
   "source": [
    "px_dens = np.array(px_frb[('gas', 'density')])"
   ]
  },
  {
   "cell_type": "code",
   "execution_count": null,
   "metadata": {},
   "outputs": [],
   "source": [
    "plt.imshow(px_dens, origin='lower', vmax=vmax, vmin=vmin, extent=[x_min,x_max,y_min,y_max], cmap=cbcolor)"
   ]
  },
  {
   "cell_type": "code",
   "execution_count": null,
   "metadata": {},
   "outputs": [],
   "source": []
  }
 ],
 "metadata": {
  "kernelspec": {
   "display_name": "Python 2",
   "language": "python",
   "name": "python2"
  },
  "language_info": {
   "codemirror_mode": {
    "name": "ipython",
    "version": 2
   },
   "file_extension": ".py",
   "mimetype": "text/x-python",
   "name": "python",
   "nbconvert_exporter": "python",
   "pygments_lexer": "ipython2",
   "version": "2.7.15"
  }
 },
 "nbformat": 4,
 "nbformat_minor": 2
}
