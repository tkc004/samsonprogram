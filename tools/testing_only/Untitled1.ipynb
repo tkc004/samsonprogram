{
 "cells": [
  {
   "cell_type": "code",
   "execution_count": 27,
   "metadata": {
    "scrolled": true
   },
   "outputs": [],
   "source": [
    "from crtestfunction import *\n",
    "from samson_const import *\n",
    "import numpy as np\n",
    "B = 7e-10 #T\n",
    "ecre = 0.01/1e9*1e6 #GeV/m^3\n",
    "V = np.power(kpc_in_m,3) #m^3\n",
    "radiolum_in_W_Hz = calsyndefault(B,ecre,V,nu=1e9,alpha=0.75,Emax=100,Emin=1.0)"
   ]
  },
  {
   "cell_type": "code",
   "execution_count": 28,
   "metadata": {},
   "outputs": [
    {
     "name": "stdout",
     "output_type": "stream",
     "text": [
      "radiolum_in_W_Hz 3.138780782510687e+18\n",
      "3.296550830783849e-21\n"
     ]
    }
   ],
   "source": [
    "print 'radiolum_in_W_Hz', radiolum_in_W_Hz\n",
    "print radiolum_in_W_Hz/kpc_in_m/kpc_in_m"
   ]
  },
  {
   "cell_type": "code",
   "execution_count": 29,
   "metadata": {},
   "outputs": [
    {
     "name": "stdout",
     "output_type": "stream",
     "text": [
      "Bmin 4.920922829234172e-06\n"
     ]
    }
   ],
   "source": [
    "eta=100; nu=1e9\n",
    "Bmin_in_G = calBmin(eta,radiolum_in_W_Hz,V,nu)\n",
    "print 'Bmin', Bmin_in_G"
   ]
  },
  {
   "cell_type": "code",
   "execution_count": 12,
   "metadata": {},
   "outputs": [
    {
     "name": "stdout",
     "output_type": "stream",
     "text": [
      "nu 46438.6535934\n"
     ]
    }
   ],
   "source": [
    "Eelectron = 0.1 #GeV\n",
    "nu = convertsyncetoHz(Eelectron,B)\n",
    "print 'nu', nu"
   ]
  },
  {
   "cell_type": "code",
   "execution_count": 18,
   "metadata": {},
   "outputs": [
    {
     "name": "stdout",
     "output_type": "stream",
     "text": [
      "ke 1.5971099293779697e-05\n"
     ]
    }
   ],
   "source": [
    "ecre = 1e-4 #GeV/m^3\n",
    "Emax=1000; Emin=0.1; p=2.5;\n",
    "ke = calsynke(ecre,p,Emax,Emin)\n",
    "print 'ke', ke"
   ]
  },
  {
   "cell_type": "code",
   "execution_count": 19,
   "metadata": {},
   "outputs": [
    {
     "data": {
      "text/plain": [
       "0.1"
      ]
     },
     "execution_count": 19,
     "metadata": {},
     "output_type": "execute_result"
    }
   ],
   "source": [
    "1e-4*1e9/1e6"
   ]
  },
  {
   "cell_type": "code",
   "execution_count": null,
   "metadata": {},
   "outputs": [],
   "source": []
  }
 ],
 "metadata": {
  "kernelspec": {
   "display_name": "Python 2",
   "language": "python",
   "name": "python2"
  },
  "language_info": {
   "codemirror_mode": {
    "name": "ipython",
    "version": 2
   },
   "file_extension": ".py",
   "mimetype": "text/x-python",
   "name": "python",
   "nbconvert_exporter": "python",
   "pygments_lexer": "ipython2",
   "version": "2.7.15"
  }
 },
 "nbformat": 4,
 "nbformat_minor": 2
}
