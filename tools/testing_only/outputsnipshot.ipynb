{
 "cells": [
  {
   "cell_type": "code",
   "execution_count": 75,
   "metadata": {},
   "outputs": [
    {
     "name": "stdout",
     "output_type": "stream",
     "text": [
      "rundir /m12m_mass7000/cr_700/\n",
      "loading file : /home/tkc004//oasis/philruns///m12m_mass7000/cr_700///output//snapdir_600/snapshot_600.0.hdf5\n",
      "npart_file:  [8530666 9355240  399118       0  550035       0]\n",
      "npart_total: [132832344 140876456  10063684         0   8072148         0]\n",
      "flag_cooling 1\n",
      "this time 1.0\n",
      "hubble 0.702\n",
      "atime 1.0\n",
      "loading file : /home/tkc004//oasis/philruns///m12m_mass7000/cr_700///output//snapdir_600/snapshot_600.0.hdf5\n",
      "npart_file:  [8530666 9355240  399118       0  550035       0]\n",
      "npart_total: [132832344 140876456  10063684         0   8072148         0]\n",
      "flag_cooling 1\n",
      "xvcen, yvcen, zvcen -185.72 -9.18 142.11\n",
      "rundir /m12m_mass7000/cr_700/\n",
      "Gvx,Gvy,Gvz -1.9083296337102158 -9.575566226227846 -0.25201589906004906\n",
      "loading file : /home/tkc004//oasis/philruns///m12m_mass7000/cr_700///output//snapdir_600/snapshot_600.0.hdf5\n",
      "npart_file:  [8530666 9355240  399118       0  550035       0]\n",
      "npart_total: [132832344 140876456  10063684         0   8072148         0]\n",
      "flag_cooling 1\n",
      "this time 1.0\n",
      "hubble 0.702\n",
      "atime 1.0\n",
      "loading file : /home/tkc004//oasis/philruns///m12m_mass7000/cr_700///output//snapdir_600/snapshot_600.0.hdf5\n",
      "npart_file:  [8530666 9355240  399118       0  550035       0]\n",
      "npart_total: [132832344 140876456  10063684         0   8072148         0]\n",
      "flag_cooling 1\n",
      "xvcen, yvcen, zvcen -185.72 -9.18 142.11\n",
      "rundir /m12m_mass7000/cr_700/\n",
      "Gvx,Gvy,Gvz -28.00053606509537 4.091771851464695 45.05528977991814\n"
     ]
    }
   ],
   "source": [
    "from stdmodandoption import *\n",
    "\n",
    "wanted='nsrad'\n",
    "dirneed = ['m12mcr_700hr']\n",
    "the_prefix = 'snapshot'\n",
    "the_suffix = '.hdf5'\n",
    "\n",
    "\n",
    "if wanted=='sfrrad' or wanted=='nsrad' or wanted == 'cumnsmrad':\n",
    "    withinr = 15.\n",
    "    minr = 0.5\n",
    "    maxlength=0.25\n",
    "    usecen=0\n",
    "    normalized=1\n",
    "    usenscen=1\n",
    "    usesphrad=1\n",
    "    uselog=1\n",
    "    Myrneed=600\n",
    "    ageneed=200 #Myr\n",
    "    radlist = np.linspace(minr, withinr,10)\n",
    "    for runtodo in dirneed:\n",
    "        info=SSF.outdirname(runtodo, Myrneed)\n",
    "        rundir=info['rundir']\n",
    "        runtitle=info['runtitle']\n",
    "        slabel=info['slabel']\n",
    "        snlabel=info['snlabel']\n",
    "        dclabel=info['dclabel']\n",
    "        resolabel=info['resolabel']\n",
    "        the_snapdir=info['the_snapdir']\n",
    "        Nsnapstring=info['Nsnapstring']\n",
    "        havecr=info['havecr']\n",
    "        haveB=info['haveB']\n",
    "        Fcal=info['Fcal']\n",
    "        iavesfr=info['iavesfr']\n",
    "        timestep=info['timestep']\n",
    "        color=info['color']\n",
    "        h0=info['h0']\n",
    "        cosmo=info['cosmo']\n",
    "        usepep=info['usepep']\n",
    "        maindir=info['maindir']\n",
    "        snumadd=info['snumadd']\n",
    "        halostr=info['halostr']\n",
    "        rotface = 1\n",
    "        loccen = 1\n",
    "        S = SSF.readsnapwcen(the_snapdir, Nsnapstring, 4, snapshot_name=the_prefix, extension=the_suffix,\\\n",
    "         havecr=havecr,h0=h0,cosmo=cosmo, usepep=usepep, maindir=maindir,snumadd=snumadd,rotface=rotface,\\\n",
    "         loccen=loccen,runtodo=runtodo,rundir=rundir,halostr=halostr)\n",
    "        Sage = S['age']\n",
    "        Spos = S['p']\n",
    "        Sx = Spos[:,0]\n",
    "        Sy = Spos[:,1]\n",
    "        Sz = Spos[:,2]\n",
    "        Sm = S['m']\n",
    "        agecutlow = np.amax(Sage)-0.001*ageneed\n",
    "        agecuthigh = np.amax(Sage)\n",
    "        cuta = (Sage> agecutlow) & (Sage <agecuthigh)\n",
    "        Sx=Sx[cuta]; Sy=Sy[cuta]; Sz=Sz[cuta]; Sm=Sm[cuta];\n",
    "        G = SSF.readsnapwcen(the_snapdir, Nsnapstring, 0, snapshot_name=the_prefix, extension=the_suffix,\\\n",
    "         havecr=havecr,h0=h0,cosmo=cosmo, usepep=usepep, maindir=maindir,snumadd=snumadd,rotface=rotface,\\\n",
    "         loccen=loccen,runtodo=runtodo,rundir=rundir,halostr=halostr)"
   ]
  },
  {
   "cell_type": "code",
   "execution_count": 40,
   "metadata": {
    "scrolled": true
   },
   "outputs": [
    {
     "name": "stdout",
     "output_type": "stream",
     "text": [
      "k,v cregy [3.71512310e-07 3.54678115e-07 3.51120543e-07 ... 8.48772835e-04\n",
      " 6.26823500e-04 4.85434231e-04]\n",
      "k,v vcen [-185.72   -9.18  142.11]\n",
      "k,v id [121415835 120051369 120050478 ...  33650731  33648751  38784233]\n",
      "k,v nh [4.29768477e-07 3.60729302e-07 3.83916785e-07 ... 1.72155481e-07\n",
      " 2.07648824e-07 2.19049809e-07]\n",
      "k,v ne [1.16659403 1.16661143 1.16660678 ... 1.16664195 1.16663587 1.16663361]\n",
      "k,v B [[-2.77000499e-14 -6.97796732e-14  1.12173219e-14]\n",
      " [ 4.24889960e-14 -4.83687919e-14 -4.84510695e-14]\n",
      " [-1.40339072e-14 -7.46857655e-14  2.20504928e-14]\n",
      " ...\n",
      " [ 3.11615257e-13 -4.28460976e-13 -1.13549869e-12]\n",
      " [-1.25653694e-12  4.90119148e-13 -2.75588092e-12]\n",
      " [-3.79072045e-12  1.63905889e-12 -1.96420586e-12]]\n",
      "k,v angL [-55.43534008  -6.21232098 -31.10745513]\n",
      "k,v cen [37545.64736109 41588.79229482 46768.92135951]\n",
      "k,v sfr [0. 0. 0. ... 0. 0. 0.]\n",
      "k,v rho [1.23982279e-09 1.13905248e-09 1.18563842e-09 ... 8.27163584e-10\n",
      " 9.00795473e-10 9.15148407e-10]\n",
      "k,v h [16.32122708 16.74681036 16.51917564 ... 18.63430164 18.13573104\n",
      " 18.02132816]\n",
      "k,v k 1\n",
      "k,v m [7.06727668e-07 7.06727668e-07 7.06727668e-07 ... 7.06727668e-07\n",
      " 7.06727668e-07 7.06727668e-07]\n",
      "k,v cregyp [0. 0. 0. ... 0. 0. 0.]\n",
      "k,v p [[-1023.3462125  -1369.15246444  -174.64060834]\n",
      " [-1018.03099091 -1369.19680035  -166.71108933]\n",
      " [-1025.41409329 -1365.27735257  -169.08790215]\n",
      " ...\n",
      " [  701.45597534     9.6100018    500.62333747]\n",
      " [  704.89309441    12.88488697   491.8328026 ]\n",
      " [  707.50188257    10.0329987    483.18239549]]\n",
      "k,v cregyl [0. 0. 0. ... 0. 0. 0.]\n",
      "k,v u [4068.70947266 4480.74951172 4371.33935547 ... 6935.22900391 6240.50048828\n",
      " 6006.47363281]\n",
      "k,v v [[ 74.78001268 -58.28759727   3.23596464]\n",
      " [ 75.58193101 -49.49575652   3.32699525]\n",
      " [ 73.60901627 -57.54072948   5.04573452]\n",
      " ...\n",
      " [ 29.10560638  29.99623835 -46.37778784]\n",
      " [ 31.86069502  26.10310271 -45.03597597]\n",
      " [ 27.35758232  27.72560781 -47.56921831]]\n",
      "k,v cregyg [0. 0. 0. ... 0. 0. 0.]\n",
      "k,v cregyd [0. 0. 0. ... 0. 0. 0.]\n",
      "k,v z [[2.71975011e-07 2.50000328e-01 3.72635220e-08 ... 2.00673612e-24\n",
      "  0.00000000e+00 0.00000000e+00]\n",
      " [8.58198200e-06 2.50005126e-01 5.67815221e-07 ... 1.29495222e-20\n",
      "  0.00000000e+00 0.00000000e+00]\n",
      " [7.24580923e-06 2.50004470e-01 4.99807129e-07 ... 4.86019065e-23\n",
      "  0.00000000e+00 0.00000000e+00]\n",
      " ...\n",
      " [2.00551199e-07 2.50000298e-01 3.26751497e-08 ... 2.16711345e-17\n",
      "  1.15341641e-18 2.18115906e-18]\n",
      " [2.00041598e-07 2.50000298e-01 3.26055876e-08 ... 7.30613532e-19\n",
      "  4.04257996e-20 7.17876126e-20]\n",
      " [2.00002816e-07 2.50000298e-01 3.26003899e-08 ... 3.26406814e-19\n",
      "  1.73404748e-20 3.12149593e-20]]\n",
      "k,v cregya [0. 0. 0. ... 0. 0. 0.]\n"
     ]
    }
   ],
   "source": [
    "fhdf5 = h5py.File('/oasis/tscc/scratch/tkc004/snipshot/test4.hdf5', 'w')\n",
    "ptype=0\n",
    "grp0 = fhdf5.create_group(\"PartType\"+str(ptype)+\"/\")\n",
    "hdf5keyexceptions=['header']\n",
    "write_layer(grp0, G,hdf5keyexceptions=hdf5keyexceptions)"
   ]
  },
  {
   "cell_type": "code",
   "execution_count": 69,
   "metadata": {},
   "outputs": [
    {
     "ename": "NameError",
     "evalue": "name 'fhdf5' is not defined",
     "output_type": "error",
     "traceback": [
      "\u001b[0;31m---------------------------------------------------------------------------\u001b[0m",
      "\u001b[0;31mNameError\u001b[0m                                 Traceback (most recent call last)",
      "\u001b[0;32m<ipython-input-69-8c41c3d09d3d>\u001b[0m in \u001b[0;36m<module>\u001b[0;34m()\u001b[0m\n\u001b[0;32m----> 1\u001b[0;31m \u001b[0mfhdf5\u001b[0m\u001b[0;34m.\u001b[0m\u001b[0mclose\u001b[0m\u001b[0;34m(\u001b[0m\u001b[0;34m)\u001b[0m\u001b[0;34m\u001b[0m\u001b[0m\n\u001b[0m\u001b[1;32m      2\u001b[0m \u001b[0;32mdel\u001b[0m \u001b[0mfhdf5\u001b[0m\u001b[0;34m\u001b[0m\u001b[0m\n",
      "\u001b[0;31mNameError\u001b[0m: name 'fhdf5' is not defined"
     ]
    }
   ],
   "source": [
    "fhdf5.close()\n",
    "del fhdf5"
   ]
  },
  {
   "cell_type": "code",
   "execution_count": 67,
   "metadata": {},
   "outputs": [],
   "source": [
    "def write_layer(gp, adict,hdf5keyexceptions=[]):\n",
    "    for k,v in adict.items():\n",
    "        if k not in hdf5keyexceptions:\n",
    "            if isinstance(v, dict):\n",
    "                gp1 = gp.create_group(k)\n",
    "                write_layer(gp1, v)\n",
    "            else:\n",
    "                print 'k,v', k,v\n",
    "                gp.create_dataset(k, data=np.atleast_1d(v))"
   ]
  },
  {
   "cell_type": "code",
   "execution_count": 42,
   "metadata": {},
   "outputs": [],
   "source": [
    "fhdf5 = h5py.File('/oasis/tscc/scratch/tkc004/snipshot/test4.hdf5', 'r')"
   ]
  },
  {
   "cell_type": "code",
   "execution_count": 43,
   "metadata": {},
   "outputs": [
    {
     "data": {
      "text/plain": [
       "<HDF5 file \"test4.hdf5\" (mode r)>"
      ]
     },
     "execution_count": 43,
     "metadata": {},
     "output_type": "execute_result"
    }
   ],
   "source": [
    "fhdf5"
   ]
  },
  {
   "cell_type": "code",
   "execution_count": 46,
   "metadata": {},
   "outputs": [
    {
     "name": "stdout",
     "output_type": "stream",
     "text": [
      "PartType0\n"
     ]
    }
   ],
   "source": [
    "for name in fhdf5:\n",
    "    print name"
   ]
  },
  {
   "cell_type": "code",
   "execution_count": 55,
   "metadata": {},
   "outputs": [],
   "source": [
    "Gnew=dict()\n",
    "for groupname in fhdf5:\n",
    "    fgroup = fhdf5[groupname]\n",
    "    for name in fgroup:\n",
    "        Gnew[name] = fgroup[name][:]"
   ]
  },
  {
   "cell_type": "code",
   "execution_count": 65,
   "metadata": {},
   "outputs": [],
   "source": [
    "def savesnipshot(parlist,fname,ptypelist = [0]):\n",
    "    hdf5keyexceptions=['header']\n",
    "    fhdf5 = h5py.File(fname, 'w')\n",
    "    for ptype,pdata in zip(ptypelist,parlist):\n",
    "        grp = fhdf5.create_group(\"PartType\"+str(ptype)+\"/\")\n",
    "        write_layer(grp, pdata,hdf5keyexceptions=hdf5keyexceptions)\n",
    "    fhdf5.close()\n",
    "    del fhdf5\n",
    "    return None"
   ]
  },
  {
   "cell_type": "code",
   "execution_count": 5,
   "metadata": {},
   "outputs": [
    {
     "name": "stdout",
     "output_type": "stream",
     "text": [
      "k,v cregy [3.71512310e-07 3.54678115e-07 3.51120543e-07 ... 8.48772835e-04\n",
      " 6.26823500e-04 4.85434231e-04]\n",
      "k,v vcen [-185.72   -9.18  142.11]\n",
      "k,v id [121415835 120051369 120050478 ...  33650731  33648751  38784233]\n",
      "k,v nh [4.29768477e-07 3.60729302e-07 3.83916785e-07 ... 1.72155481e-07\n",
      " 2.07648824e-07 2.19049809e-07]\n",
      "k,v ne [1.16659403 1.16661143 1.16660678 ... 1.16664195 1.16663587 1.16663361]\n",
      "k,v B [[-2.77000499e-14 -6.97796732e-14  1.12173219e-14]\n",
      " [ 4.24889960e-14 -4.83687919e-14 -4.84510695e-14]\n",
      " [-1.40339072e-14 -7.46857655e-14  2.20504928e-14]\n",
      " ...\n",
      " [ 3.11615257e-13 -4.28460976e-13 -1.13549869e-12]\n",
      " [-1.25653694e-12  4.90119148e-13 -2.75588092e-12]\n",
      " [-3.79072045e-12  1.63905889e-12 -1.96420586e-12]]\n",
      "k,v angL [-55.43534008  -6.21232098 -31.10745513]\n",
      "k,v cen [37545.64736109 41588.79229482 46768.92135951]\n",
      "k,v sfr [0. 0. 0. ... 0. 0. 0.]\n",
      "k,v rho [1.23982279e-09 1.13905248e-09 1.18563842e-09 ... 8.27163584e-10\n",
      " 9.00795473e-10 9.15148407e-10]\n",
      "k,v h [16.32122708 16.74681036 16.51917564 ... 18.63430164 18.13573104\n",
      " 18.02132816]\n",
      "k,v k 1\n",
      "k,v m [7.06727668e-07 7.06727668e-07 7.06727668e-07 ... 7.06727668e-07\n",
      " 7.06727668e-07 7.06727668e-07]\n",
      "k,v cregyp [0. 0. 0. ... 0. 0. 0.]\n",
      "k,v p [[-1023.3462125  -1369.15246444  -174.64060834]\n",
      " [-1018.03099091 -1369.19680035  -166.71108933]\n",
      " [-1025.41409329 -1365.27735257  -169.08790215]\n",
      " ...\n",
      " [  701.45597534     9.6100018    500.62333747]\n",
      " [  704.89309441    12.88488697   491.8328026 ]\n",
      " [  707.50188257    10.0329987    483.18239549]]\n",
      "k,v cregyl [0. 0. 0. ... 0. 0. 0.]\n",
      "k,v u [4068.70947266 4480.74951172 4371.33935547 ... 6935.22900391 6240.50048828\n",
      " 6006.47363281]\n",
      "k,v v [[ 74.78001268 -58.28759727   3.23596464]\n",
      " [ 75.58193101 -49.49575652   3.32699525]\n",
      " [ 73.60901627 -57.54072948   5.04573452]\n",
      " ...\n",
      " [ 29.10560638  29.99623835 -46.37778784]\n",
      " [ 31.86069502  26.10310271 -45.03597597]\n",
      " [ 27.35758232  27.72560781 -47.56921831]]\n",
      "k,v cregyg [0. 0. 0. ... 0. 0. 0.]\n",
      "k,v cregyd [0. 0. 0. ... 0. 0. 0.]\n",
      "k,v z [[2.71975011e-07 2.50000328e-01 3.72635220e-08 ... 2.00673612e-24\n",
      "  0.00000000e+00 0.00000000e+00]\n",
      " [8.58198200e-06 2.50005126e-01 5.67815221e-07 ... 1.29495222e-20\n",
      "  0.00000000e+00 0.00000000e+00]\n",
      " [7.24580923e-06 2.50004470e-01 4.99807129e-07 ... 4.86019065e-23\n",
      "  0.00000000e+00 0.00000000e+00]\n",
      " ...\n",
      " [2.00551199e-07 2.50000298e-01 3.26751497e-08 ... 2.16711345e-17\n",
      "  1.15341641e-18 2.18115906e-18]\n",
      " [2.00041598e-07 2.50000298e-01 3.26055876e-08 ... 7.30613532e-19\n",
      "  4.04257996e-20 7.17876126e-20]\n",
      " [2.00002816e-07 2.50000298e-01 3.26003899e-08 ... 3.26406814e-19\n",
      "  1.73404748e-20 3.12149593e-20]]\n",
      "k,v cregya [0. 0. 0. ... 0. 0. 0.]\n",
      "k,v angL [-202.24262876  -25.53922481 -117.30524809]\n",
      "k,v cen [37545.63052267 41590.78908653 46768.53613172]\n",
      "k,v vcen [-185.72   -9.18  142.11]\n",
      "k,v id [ 23891462  11326533  10955088 ... 118249838 118027243 109612284]\n",
      "k,v age [0.10542384 0.09702651 0.09697186 ... 0.27619311 0.27347478 0.28703329]\n",
      "k,v m [5.10129400e-07 5.37892228e-07 5.47786869e-07 ... 4.32890530e-07\n",
      " 4.71825033e-07 5.04015979e-07]\n",
      "k,v p [[ -867.47633371 -1846.36477686   162.72840466]\n",
      " [ -971.45132399 -1792.43534351    99.28860822]\n",
      " [ -970.82947316 -1790.56738888    99.16599275]\n",
      " ...\n",
      " [  -56.21548015    48.29045898    89.97052292]\n",
      " [  -56.18335609    48.18042434    90.15623218]\n",
      " [  -56.13696541    48.16027778    90.08788546]]\n",
      "k,v v [[ 73.55728915 -31.36229851 -20.27446374]\n",
      " [ 83.98247378 -26.54986888 -14.6190294 ]\n",
      " [ 79.93659247 -28.99393524  -9.29260082]\n",
      " ...\n",
      " [161.29391417  45.16956527  -1.35470717]\n",
      " [164.38708854  43.32060195   6.51834301]\n",
      " [131.25200558  54.96826502  -7.7124545 ]]\n",
      "k,v z [[2.00000002e-07 2.50000298e-01 3.25999991e-08 ... 0.00000000e+00\n",
      "  0.00000000e+00 0.00000000e+00]\n",
      " [2.00000002e-07 2.50000298e-01 3.25999991e-08 ... 0.00000000e+00\n",
      "  0.00000000e+00 0.00000000e+00]\n",
      " [2.00000002e-07 2.50000298e-01 3.25999991e-08 ... 0.00000000e+00\n",
      "  0.00000000e+00 0.00000000e+00]\n",
      " ...\n",
      " [6.44033833e-04 2.50659823e-01 9.03855180e-05 ... 1.70966779e-08\n",
      "  9.27653510e-10 1.38328049e-09]\n",
      " [5.58297033e-04 2.50579834e-01 8.01131173e-05 ... 1.51801540e-08\n",
      "  1.76523240e-09 2.37549536e-09]\n",
      " [3.03319393e-04 2.50267059e-01 3.55831035e-05 ... 8.84969253e-09\n",
      "  7.14602211e-10 9.74276437e-10]]\n",
      "k,v k 1\n"
     ]
    }
   ],
   "source": [
    "parlist=[G,S]\n",
    "fname = '/oasis/tscc/scratch/tkc004/snipshot/test4.hdf5'\n",
    "savesnipshot(parlist,fname,ptypelist = [0,4])"
   ]
  },
  {
   "cell_type": "code",
   "execution_count": 15,
   "metadata": {},
   "outputs": [],
   "source": [
    "fname = '/oasis/tscc/scratch/tkc004/snipshot/test4.hdf5'\n",
    "data = readsnipshot(fname,ptypelist = [0,4])"
   ]
  },
  {
   "cell_type": "code",
   "execution_count": 2,
   "metadata": {},
   "outputs": [],
   "source": [
    "def readsnipshot(fname,ptypelist = [0]):\n",
    "    fhdf5 = h5py.File(fname, 'r')\n",
    "    parlist=[]\n",
    "    bnamelist=[]\n",
    "    for ptype in ptypelist:\n",
    "        parlist.append(dict())\n",
    "        bnamelist.append(\"PartType\"+str(ptype)+\"/\")\n",
    "    for i, bname in enumerate(bnamelist):\n",
    "        fgroup = fhdf5[bname]\n",
    "        for name in fgroup:\n",
    "            parlist[i][name] = fgroup[name][:]\n",
    "    fhdf5.close()\n",
    "    del fhdf5\n",
    "    return parlist"
   ]
  },
  {
   "cell_type": "code",
   "execution_count": 87,
   "metadata": {},
   "outputs": [],
   "source": [
    "def Gspcut(G,spno=1):\n",
    "    Gnew={}\n",
    "    Gm = G['m']\n",
    "    Glen = len(Gm)\n",
    "    if spno>1:\n",
    "        for key in G:\n",
    "            Gshape = np.array(G[key]).shape\n",
    "            if Gshape[0]<Glen-1:\n",
    "                Gnew[key]=G[key]\n",
    "            else:\n",
    "                if len(Gshape)==1:\n",
    "                    Gnew[key]=G[key][::spno]\n",
    "                else:\n",
    "                    Glist = []\n",
    "                    for iy in range(Gshape[1]):\n",
    "                        Gx = np.array(G[key][:,iy]);\n",
    "                        Glist.append(Gx[::spno])\n",
    "                    Gtri = np.vstack((Glist)).T    \n",
    "                    Gnew[key]=Gtri\n",
    "        Gnew['m']=spno*Gnew['m']\n",
    "        return Gnew\n",
    "    else:\n",
    "        return G\n",
    "        \n",
    "\n",
    "\n",
    "def Gwithinrcut(Gn,withinr=-1):\n",
    "    Gnew={}\n",
    "    if withinr>0:\n",
    "        Gp = Gn['p']; Gx = Gp[:,0]; Gy = Gp[:,1]; Gz = Gp[:,2];\n",
    "        Glen = len(Gx)\n",
    "        #consider only particles within withinr\n",
    "        Gr = np.sqrt(Gx*Gx+Gy*Gy+Gz*Gz);\n",
    "        cutr = Gr<withinr;\n",
    "        for key in Gn:\n",
    "            Gshape = np.array(Gn[key]).shape\n",
    "            print 'key', key\n",
    "            print 'np.array(Gn[key]).shape',np.array(Gn[key]).shape\n",
    "            if len(Gshape)==0:\n",
    "                Gnew[key]=Gn[key]\n",
    "            elif Gshape[0]<Glen-1:\n",
    "                Gnew[key]=Gn[key]\n",
    "            else:\n",
    "                if len(Gshape)==1:\n",
    "                    Gnew[key]=Gn[key][cutr]\n",
    "                else:\n",
    "                    Glist = []\n",
    "                    for iy in range(Gshape[1]):\n",
    "                        Gx = np.array(Gn[key][:,iy]);\n",
    "                        Glist.append(Gx[cutr])\n",
    "                    Gtri = np.vstack((Glist)).T    \n",
    "                    Gnew[key]=Gtri\n",
    "        return Gnew\n",
    "    else:\n",
    "        return Gn"
   ]
  },
  {
   "cell_type": "code",
   "execution_count": 55,
   "metadata": {},
   "outputs": [],
   "source": [
    "G = data[0]\n",
    "Gdatacut = Gspcut(G,spno=10)"
   ]
  },
  {
   "cell_type": "code",
   "execution_count": 62,
   "metadata": {},
   "outputs": [
    {
     "name": "stdout",
     "output_type": "stream",
     "text": [
      "key cregy\n",
      "np.array(Gn[key]).shape (132832344,)\n",
      "key vcen\n",
      "np.array(Gn[key]).shape (3,)\n",
      "key id\n",
      "np.array(Gn[key]).shape (132832344,)\n",
      "key nh\n",
      "np.array(Gn[key]).shape (132832344,)\n",
      "key ne\n",
      "np.array(Gn[key]).shape (132832344,)\n",
      "key B\n",
      "np.array(Gn[key]).shape (132832344, 3)\n",
      "key angL\n",
      "np.array(Gn[key]).shape (3,)\n",
      "key cen\n",
      "np.array(Gn[key]).shape (3,)\n",
      "key sfr\n",
      "np.array(Gn[key]).shape (132832344,)\n",
      "key rho\n",
      "np.array(Gn[key]).shape (132832344,)\n",
      "key h\n",
      "np.array(Gn[key]).shape (132832344,)\n",
      "key k\n",
      "np.array(Gn[key]).shape (1,)\n",
      "key m\n",
      "np.array(Gn[key]).shape (132832344,)\n",
      "key cregyp\n",
      "np.array(Gn[key]).shape (132832344,)\n",
      "key p\n",
      "np.array(Gn[key]).shape (132832344, 3)\n",
      "key cregyl\n",
      "np.array(Gn[key]).shape (132832344,)\n",
      "key u\n",
      "np.array(Gn[key]).shape (132832344,)\n",
      "key v\n",
      "np.array(Gn[key]).shape (132832344, 3)\n",
      "key cregyg\n",
      "np.array(Gn[key]).shape (132832344,)\n",
      "key cregyd\n",
      "np.array(Gn[key]).shape (132832344,)\n",
      "key z\n",
      "np.array(Gn[key]).shape (132832344, 15)\n",
      "key cregya\n",
      "np.array(Gn[key]).shape (132832344,)\n"
     ]
    }
   ],
   "source": [
    "Gcutori = Gwithinrcut(G,withinr=100)"
   ]
  },
  {
   "cell_type": "code",
   "execution_count": 56,
   "metadata": {},
   "outputs": [
    {
     "name": "stdout",
     "output_type": "stream",
     "text": [
      "key cregy\n",
      "np.array(Gn[key]).shape (13283235,)\n",
      "key vcen\n",
      "np.array(Gn[key]).shape (3,)\n",
      "key id\n",
      "np.array(Gn[key]).shape (13283235,)\n",
      "key nh\n",
      "np.array(Gn[key]).shape (13283235,)\n",
      "key ne\n",
      "np.array(Gn[key]).shape (13283235,)\n",
      "key B\n",
      "np.array(Gn[key]).shape (13283235, 3)\n",
      "key angL\n",
      "np.array(Gn[key]).shape (3,)\n",
      "key cen\n",
      "np.array(Gn[key]).shape (3,)\n",
      "key sfr\n",
      "np.array(Gn[key]).shape (13283235,)\n",
      "key rho\n",
      "np.array(Gn[key]).shape (13283235,)\n",
      "key h\n",
      "np.array(Gn[key]).shape (13283235,)\n",
      "key k\n",
      "np.array(Gn[key]).shape (1,)\n",
      "key m\n",
      "np.array(Gn[key]).shape (13283235,)\n",
      "key cregyp\n",
      "np.array(Gn[key]).shape (13283235,)\n",
      "key p\n",
      "np.array(Gn[key]).shape (13283235, 3)\n",
      "key cregyl\n",
      "np.array(Gn[key]).shape (13283235,)\n",
      "key u\n",
      "np.array(Gn[key]).shape (13283235,)\n",
      "key v\n",
      "np.array(Gn[key]).shape (13283235, 3)\n",
      "key cregyg\n",
      "np.array(Gn[key]).shape (13283235,)\n",
      "key cregyd\n",
      "np.array(Gn[key]).shape (13283235,)\n",
      "key z\n",
      "np.array(Gn[key]).shape (13283235, 15)\n",
      "key cregya\n",
      "np.array(Gn[key]).shape (13283235,)\n"
     ]
    }
   ],
   "source": [
    "Gcutr=Gwithinrcut(Gdatacut,withinr=100)"
   ]
  },
  {
   "cell_type": "code",
   "execution_count": 57,
   "metadata": {},
   "outputs": [
    {
     "data": {
      "text/plain": [
       "13283235"
      ]
     },
     "execution_count": 57,
     "metadata": {},
     "output_type": "execute_result"
    }
   ],
   "source": [
    "len(Gdatacut['cregy'])"
   ]
  },
  {
   "cell_type": "code",
   "execution_count": 63,
   "metadata": {},
   "outputs": [
    {
     "data": {
      "text/plain": [
       "5159789"
      ]
     },
     "execution_count": 63,
     "metadata": {},
     "output_type": "execute_result"
    }
   ],
   "source": [
    "len(Gcutori['cregy'])"
   ]
  },
  {
   "cell_type": "code",
   "execution_count": 58,
   "metadata": {},
   "outputs": [
    {
     "data": {
      "text/plain": [
       "99.53826711117149"
      ]
     },
     "execution_count": 58,
     "metadata": {},
     "output_type": "execute_result"
    }
   ],
   "source": [
    "np.amax(Gcutr['p'][:,0])"
   ]
  },
  {
   "cell_type": "code",
   "execution_count": 61,
   "metadata": {},
   "outputs": [
    {
     "data": {
      "text/plain": [
       "array([-185.72,   -9.18,  142.11])"
      ]
     },
     "execution_count": 61,
     "metadata": {},
     "output_type": "execute_result"
    }
   ],
   "source": [
    "Gcutr['vcen']"
   ]
  },
  {
   "cell_type": "code",
   "execution_count": 64,
   "metadata": {},
   "outputs": [
    {
     "data": {
      "text/plain": [
       "132832344"
      ]
     },
     "execution_count": 64,
     "metadata": {},
     "output_type": "execute_result"
    }
   ],
   "source": [
    "np.array(G['p']).shape[0]"
   ]
  },
  {
   "cell_type": "code",
   "execution_count": 1,
   "metadata": {},
   "outputs": [],
   "source": [
    "from stdmodandoption import *"
   ]
  },
  {
   "cell_type": "code",
   "execution_count": 70,
   "metadata": {},
   "outputs": [
    {
     "name": "stdout",
     "output_type": "stream",
     "text": [
      "k,v cregy [3.44545732e-02 2.20981886e-02 1.63689640e-02 ... 4.48185204e-05\n",
      " 3.99766349e-05 2.11294068e-05]\n",
      "k,v vcen [-185.72   -9.18  142.11]\n",
      "k,v id [102550701  54040351  60493722 ... 128555758  94242918  52163649]\n",
      "k,v nh [0.00196156 0.00630677 0.00645981 ... 0.99999994 1.         1.        ]\n",
      "k,v ne [1.11092162e+00 1.09138298e+00 1.09054625e+00 ... 3.51671368e-08\n",
      " 6.67267963e-10 3.00296843e-10]\n",
      "k,v B [[ 5.96294385e-09  5.93258543e-08  2.99876851e-08]\n",
      " [-1.28859236e-08  1.42869211e-08  8.58729637e-11]\n",
      " [ 1.18433114e-07  4.94747241e-08 -9.04219786e-08]\n",
      " ...\n",
      " [ 2.37073593e-06  7.42847578e-07  1.91765296e-06]\n",
      " [ 4.84054569e-06  5.40813056e-08  3.47849800e-06]\n",
      " [ 1.73796618e-06 -1.04937857e-06  5.17087095e-06]]\n",
      "k,v angL [-55.43534008  -6.21232098 -31.10745513]\n",
      "k,v cen [37545.64736109 41588.79229482 46768.92135951]\n",
      "k,v sfr [0. 0. 0. ... 0. 0. 0.]\n",
      "k,v rho [2.86551089e-06 5.81846118e-06 6.83246359e-06 ... 3.19243593e-03\n",
      " 7.27858210e-03 9.41382183e-03]\n",
      "k,v h [1.26077222 1.04409057 0.93682734 ... 0.12513496 0.09257522 0.08578968]\n",
      "k,v k [1]\n",
      "k,v m [7.51688464e-07 8.58693366e-07 7.24684439e-07 ... 8.21069824e-07\n",
      " 7.54339375e-07 7.81300889e-07]\n",
      "k,v cregyp [0. 0. 0. ... 0. 0. 0.]\n",
      "k,v p [[ 14.23788363   2.03040429  -5.07135507]\n",
      " [ 14.31929402   2.11619183  -4.42988045]\n",
      " [ 14.03442586   2.48808125  -4.28250557]\n",
      " ...\n",
      " [  3.25425395 -21.41136318  -0.45457192]\n",
      " [  3.22582364 -21.46403474  -0.43619445]\n",
      " [  3.22126874 -21.47536005  -0.41098941]]\n",
      "k,v cregyl [0. 0. 0. ... 0. 0. 0.]\n",
      "k,v u [253.00932312 211.83992004 264.51702881 ...  31.20968628  15.90762901\n",
      "  20.20832634]\n",
      "k,v v [[-53.84608176 180.63441126  25.34363125]\n",
      " [-74.91884882 183.91471265  17.21101306]\n",
      " [-67.09961139 175.77505282   9.07496494]\n",
      " ...\n",
      " [200.51964367  19.37165167   3.56123145]\n",
      " [198.59191413  20.97224944  -4.13535553]\n",
      " [200.95845852  17.74025446   0.53245648]]\n",
      "k,v cregyg [0. 0. 0. ... 0. 0. 0.]\n",
      "k,v cregyd [0. 0. 0. ... 0. 0. 0.]\n",
      "k,v z [[1.43481148e-02 2.64216006e-01 2.05511949e-03 ... 3.67100398e-07\n",
      "  2.32078214e-08 3.68121675e-08]\n",
      " [1.44434199e-02 2.64185995e-01 2.03866325e-03 ... 3.57857118e-07\n",
      "  2.23619079e-08 3.55233318e-08]\n",
      " [1.45484013e-02 2.64316112e-01 2.06426089e-03 ... 3.79639772e-07\n",
      "  2.55098431e-08 4.00412574e-08]\n",
      " ...\n",
      " [1.55862374e-02 2.65353143e-01 2.21535959e-03 ... 4.31659316e-07\n",
      "  2.81787642e-08 4.31155343e-08]\n",
      " [1.37539320e-02 2.63674289e-01 1.97185576e-03 ... 3.55423708e-07\n",
      "  2.16341967e-08 3.47778943e-08]\n",
      " [1.54737020e-02 2.65355200e-01 2.21767440e-03 ... 4.01014660e-07\n",
      "  2.46953622e-08 3.94123241e-08]]\n",
      "k,v cregya [0. 0. 0. ... 0. 0. 0.]\n"
     ]
    }
   ],
   "source": [
    "savesnipshot([Gcutori],fname,ptypelist = [0])"
   ]
  },
  {
   "cell_type": "code",
   "execution_count": 74,
   "metadata": {},
   "outputs": [
    {
     "ename": "NameError",
     "evalue": "name 'S' is not defined",
     "output_type": "error",
     "traceback": [
      "\u001b[0;31m---------------------------------------------------------------------------\u001b[0m",
      "\u001b[0;31mNameError\u001b[0m                                 Traceback (most recent call last)",
      "\u001b[0;32m<ipython-input-74-0d7bd4679834>\u001b[0m in \u001b[0;36m<module>\u001b[0;34m()\u001b[0m\n\u001b[0;32m----> 1\u001b[0;31m \u001b[0mScutori\u001b[0m \u001b[0;34m=\u001b[0m \u001b[0mGwithinrcut\u001b[0m\u001b[0;34m(\u001b[0m\u001b[0mS\u001b[0m\u001b[0;34m,\u001b[0m\u001b[0mwithinr\u001b[0m\u001b[0;34m=\u001b[0m\u001b[0;36m100\u001b[0m\u001b[0;34m)\u001b[0m\u001b[0;34m\u001b[0m\u001b[0m\n\u001b[0m",
      "\u001b[0;31mNameError\u001b[0m: name 'S' is not defined"
     ]
    }
   ],
   "source": [
    "Scutori = Gwithinrcut(S,withinr=100)"
   ]
  },
  {
   "cell_type": "code",
   "execution_count": 82,
   "metadata": {},
   "outputs": [],
   "source": [
    "def compresswithinr(parlist,ptypelist,withinr,fname):\n",
    "    parGcutlist=[]\n",
    "    for parG, ptype in zip(parlist,ptypelist):\n",
    "        parGcut = Gwithinrcut(parG,withinr=100)\n",
    "        parGcutlist.append(parGcut)\n",
    "    savesnipshot(parGcutlist,fname,ptypelist = ptypelist)\n",
    "    return None"
   ]
  },
  {
   "cell_type": "code",
   "execution_count": 88,
   "metadata": {
    "scrolled": true
   },
   "outputs": [
    {
     "name": "stdout",
     "output_type": "stream",
     "text": [
      "key cregy\n",
      "np.array(Gn[key]).shape (132832344,)\n",
      "key header\n",
      "np.array(Gn[key]).shape (15,)\n",
      "key vcen\n",
      "np.array(Gn[key]).shape (3,)\n",
      "key id\n",
      "np.array(Gn[key]).shape (132832344,)\n",
      "key nh\n",
      "np.array(Gn[key]).shape (132832344,)\n",
      "key ne\n",
      "np.array(Gn[key]).shape (132832344,)\n",
      "key B\n",
      "np.array(Gn[key]).shape (132832344, 3)\n",
      "key angL\n",
      "np.array(Gn[key]).shape (3,)\n",
      "key cen\n",
      "np.array(Gn[key]).shape (3,)\n",
      "key sfr\n",
      "np.array(Gn[key]).shape (132832344,)\n",
      "key rho\n",
      "np.array(Gn[key]).shape (132832344,)\n",
      "key h\n",
      "np.array(Gn[key]).shape (132832344,)\n",
      "key k\n",
      "np.array(Gn[key]).shape ()\n",
      "key m\n",
      "np.array(Gn[key]).shape (132832344,)\n",
      "key cregyp\n",
      "np.array(Gn[key]).shape (132832344,)\n",
      "key p\n",
      "np.array(Gn[key]).shape (132832344, 3)\n",
      "key cregyl\n",
      "np.array(Gn[key]).shape (132832344,)\n",
      "key u\n",
      "np.array(Gn[key]).shape (132832344,)\n",
      "key v\n",
      "np.array(Gn[key]).shape (132832344, 3)\n",
      "key cregyg\n",
      "np.array(Gn[key]).shape (132832344,)\n",
      "key cregyd\n",
      "np.array(Gn[key]).shape (132832344,)\n",
      "key z\n",
      "np.array(Gn[key]).shape (132832344, 15)\n",
      "key cregya\n",
      "np.array(Gn[key]).shape (132832344,)\n",
      "key angL\n",
      "np.array(Gn[key]).shape (3,)\n",
      "key cen\n",
      "np.array(Gn[key]).shape (3,)\n",
      "key header\n",
      "np.array(Gn[key]).shape (15,)\n",
      "key vcen\n",
      "np.array(Gn[key]).shape (3,)\n",
      "key id\n",
      "np.array(Gn[key]).shape (8072148,)\n",
      "key age\n",
      "np.array(Gn[key]).shape (8072148,)\n",
      "key m\n",
      "np.array(Gn[key]).shape (8072148,)\n",
      "key p\n",
      "np.array(Gn[key]).shape (8072148, 3)\n",
      "key v\n",
      "np.array(Gn[key]).shape (8072148, 3)\n",
      "key z\n",
      "np.array(Gn[key]).shape (8072148, 15)\n",
      "key k\n",
      "np.array(Gn[key]).shape ()\n",
      "k,v cregy [3.44545732e-02 2.20981886e-02 1.63689640e-02 ... 4.48185204e-05\n",
      " 3.99766349e-05 2.11294068e-05]\n",
      "k,v vcen [-185.72   -9.18  142.11]\n",
      "k,v id [102550701  54040351  60493722 ... 128555758  94242918  52163649]\n",
      "k,v nh [0.00196156 0.00630677 0.00645981 ... 0.99999994 1.         1.        ]\n",
      "k,v ne [1.11092162e+00 1.09138298e+00 1.09054625e+00 ... 3.51671368e-08\n",
      " 6.67267963e-10 3.00296843e-10]\n",
      "k,v B [[ 5.96294385e-09  5.93258543e-08  2.99876851e-08]\n",
      " [-1.28859236e-08  1.42869211e-08  8.58729637e-11]\n",
      " [ 1.18433114e-07  4.94747241e-08 -9.04219786e-08]\n",
      " ...\n",
      " [ 2.37073593e-06  7.42847578e-07  1.91765296e-06]\n",
      " [ 4.84054569e-06  5.40813056e-08  3.47849800e-06]\n",
      " [ 1.73796618e-06 -1.04937857e-06  5.17087095e-06]]\n",
      "k,v angL [-55.43534008  -6.21232098 -31.10745513]\n",
      "k,v cen [37545.64736109 41588.79229482 46768.92135951]\n",
      "k,v sfr [0. 0. 0. ... 0. 0. 0.]\n",
      "k,v rho [2.86551089e-06 5.81846118e-06 6.83246359e-06 ... 3.19243593e-03\n",
      " 7.27858210e-03 9.41382183e-03]\n",
      "k,v h [1.26077222 1.04409057 0.93682734 ... 0.12513496 0.09257522 0.08578968]\n",
      "k,v k 1\n",
      "k,v m [7.51688464e-07 8.58693366e-07 7.24684439e-07 ... 8.21069824e-07\n",
      " 7.54339375e-07 7.81300889e-07]\n",
      "k,v cregyp [0. 0. 0. ... 0. 0. 0.]\n",
      "k,v p [[ 14.23788363   2.03040429  -5.07135507]\n",
      " [ 14.31929402   2.11619183  -4.42988045]\n",
      " [ 14.03442586   2.48808125  -4.28250557]\n",
      " ...\n",
      " [  3.25425395 -21.41136318  -0.45457192]\n",
      " [  3.22582364 -21.46403474  -0.43619445]\n",
      " [  3.22126874 -21.47536005  -0.41098941]]\n",
      "k,v cregyl [0. 0. 0. ... 0. 0. 0.]\n",
      "k,v u [253.00932312 211.83992004 264.51702881 ...  31.20968628  15.90762901\n",
      "  20.20832634]\n",
      "k,v v [[-53.84608176 180.63441126  25.34363125]\n",
      " [-74.91884882 183.91471265  17.21101306]\n",
      " [-67.09961139 175.77505282   9.07496494]\n",
      " ...\n",
      " [200.51964367  19.37165167   3.56123145]\n",
      " [198.59191413  20.97224944  -4.13535553]\n",
      " [200.95845852  17.74025446   0.53245648]]\n",
      "k,v cregyg [0. 0. 0. ... 0. 0. 0.]\n",
      "k,v cregyd [0. 0. 0. ... 0. 0. 0.]\n",
      "k,v z [[1.43481148e-02 2.64216006e-01 2.05511949e-03 ... 3.67100398e-07\n",
      "  2.32078214e-08 3.68121675e-08]\n",
      " [1.44434199e-02 2.64185995e-01 2.03866325e-03 ... 3.57857118e-07\n",
      "  2.23619079e-08 3.55233318e-08]\n",
      " [1.45484013e-02 2.64316112e-01 2.06426089e-03 ... 3.79639772e-07\n",
      "  2.55098431e-08 4.00412574e-08]\n",
      " ...\n",
      " [1.55862374e-02 2.65353143e-01 2.21535959e-03 ... 4.31659316e-07\n",
      "  2.81787642e-08 4.31155343e-08]\n",
      " [1.37539320e-02 2.63674289e-01 1.97185576e-03 ... 3.55423708e-07\n",
      "  2.16341967e-08 3.47778943e-08]\n",
      " [1.54737020e-02 2.65355200e-01 2.21767440e-03 ... 4.01014660e-07\n",
      "  2.46953622e-08 3.94123241e-08]]\n",
      "k,v cregya [0. 0. 0. ... 0. 0. 0.]\n",
      "k,v p [[ 13.46333208   4.13230604  -5.27994052]\n",
      " [ 13.50348813   4.39193467  -5.00542738]\n",
      " [ 13.95996806   4.31729542  -4.8528832 ]\n",
      " ...\n",
      " [  3.15342834 -19.26695695  -0.46747897]\n",
      " [  3.28777531 -19.31959737  -0.68695007]\n",
      " [  3.17746381 -19.12625405  -0.63891539]]\n",
      "k,v angL [-202.24262876  -25.53922481 -117.30524809]\n",
      "k,v cen [37545.63052267 41590.78908653 46768.53613172]\n",
      "k,v age [0.36772317 0.30668941 0.30192536 ... 0.85356253 0.82142502 0.49012071]\n",
      "k,v m [5.81258776e-07 5.33780554e-07 5.04361736e-07 ... 5.23110145e-07\n",
      " 5.56842423e-07 4.56903109e-07]\n",
      "k,v v [[-11.58432141 105.61533217   9.36390605]\n",
      " [-67.09661022  84.91854318 -31.6239675 ]\n",
      " [ 12.12418091  75.38180097   8.30927209]\n",
      " ...\n",
      " [189.66540381  56.55468432 -13.62611355]\n",
      " [191.96027643  61.64348785  30.47859458]\n",
      " [128.13765519  -0.93953465   3.51853819]]\n",
      "k,v vcen [-185.72   -9.18  142.11]\n",
      "k,v k 1\n",
      "k,v z [[7.37356115e-03 2.55648702e-01 7.16181996e-04 ... 1.38813476e-07\n",
      "  1.08711733e-08 1.69333010e-08]\n",
      " [2.79421662e-03 2.52611667e-01 3.51140538e-04 ... 6.20202201e-08\n",
      "  2.75754664e-09 6.81166901e-09]\n",
      " [1.43975625e-03 2.51268208e-01 1.67951686e-04 ... 3.27551888e-08\n",
      "  1.48837898e-09 3.06236325e-09]\n",
      " ...\n",
      " [1.16261365e-02 2.61274099e-01 1.59853266e-03 ... 3.00538915e-07\n",
      "  1.82827140e-08 3.19642055e-08]\n",
      " [9.93322115e-03 2.59664208e-01 1.36694568e-03 ... 2.54652633e-07\n",
      "  1.53466075e-08 2.53103867e-08]\n",
      " [3.26340017e-03 2.52923965e-01 3.92886956e-04 ... 7.94676751e-08\n",
      "  4.34702319e-09 7.80902543e-09]]\n",
      "k,v id [125121486 101385877  92970884 ...  92068267 102770478 108479831]\n"
     ]
    }
   ],
   "source": [
    "parlist=[G,S]\n",
    "ptypelist=[0,4]\n",
    "withinr=100\n",
    "fname = '/oasis/tscc/scratch/tkc004/snipshot/test4.hdf5'\n",
    "compresswithinr(parlist,ptypelist,withinr,fname)"
   ]
  },
  {
   "cell_type": "code",
   "execution_count": 86,
   "metadata": {},
   "outputs": [
    {
     "name": "stdout",
     "output_type": "stream",
     "text": [
      "{'angL': array([-202.24262876,  -25.53922481, -117.30524809]), 'cen': array([37545.63052267, 41590.78908653, 46768.53613172]), 'header': [array([8530666, 9355240,  399118,       0,  550035,       0], dtype=int32), array([0., 0., 0., 0., 0., 0.]), 1.0, 0.0, 1, 1, array([132832344, 140876456,  10063684,         0,   8072148,         0],\n",
      "      dtype=uint32), 1, 16, 60000.0, 0.272, 0.728, 0.702, 1, 15], 'vcen': array([-185.72,   -9.18,  142.11]), 'id': array([ 23891462,  11326533,  10955088, ..., 118249838, 118027243,\n",
      "       109612284]), 'age': array([0.10542384, 0.09702651, 0.09697186, ..., 0.27619311, 0.27347478,\n",
      "       0.28703329]), 'm': array([5.10129400e-07, 5.37892228e-07, 5.47786869e-07, ...,\n",
      "       4.32890530e-07, 4.71825033e-07, 5.04015979e-07]), 'p': array([[ -867.47633371, -1846.36477686,   162.72840466],\n",
      "       [ -971.45132399, -1792.43534351,    99.28860822],\n",
      "       [ -970.82947316, -1790.56738888,    99.16599275],\n",
      "       ...,\n",
      "       [  -56.21548015,    48.29045898,    89.97052292],\n",
      "       [  -56.18335609,    48.18042434,    90.15623218],\n",
      "       [  -56.13696541,    48.16027778,    90.08788546]]), 'v': array([[ 73.55728915, -31.36229851, -20.27446374],\n",
      "       [ 83.98247378, -26.54986888, -14.6190294 ],\n",
      "       [ 79.93659247, -28.99393524,  -9.29260082],\n",
      "       ...,\n",
      "       [161.29391417,  45.16956527,  -1.35470717],\n",
      "       [164.38708854,  43.32060195,   6.51834301],\n",
      "       [131.25200558,  54.96826502,  -7.7124545 ]]), 'z': array([[2.00000002e-07, 2.50000298e-01, 3.25999991e-08, ...,\n",
      "        0.00000000e+00, 0.00000000e+00, 0.00000000e+00],\n",
      "       [2.00000002e-07, 2.50000298e-01, 3.25999991e-08, ...,\n",
      "        0.00000000e+00, 0.00000000e+00, 0.00000000e+00],\n",
      "       [2.00000002e-07, 2.50000298e-01, 3.25999991e-08, ...,\n",
      "        0.00000000e+00, 0.00000000e+00, 0.00000000e+00],\n",
      "       ...,\n",
      "       [6.44033833e-04, 2.50659823e-01, 9.03855180e-05, ...,\n",
      "        1.70966779e-08, 9.27653510e-10, 1.38328049e-09],\n",
      "       [5.58297033e-04, 2.50579834e-01, 8.01131173e-05, ...,\n",
      "        1.51801540e-08, 1.76523240e-09, 2.37549536e-09],\n",
      "       [3.03319393e-04, 2.50267059e-01, 3.55831035e-05, ...,\n",
      "        8.84969253e-09, 7.14602211e-10, 9.74276437e-10]]), 'k': 1}\n"
     ]
    }
   ],
   "source": [
    "print S"
   ]
  },
  {
   "cell_type": "code",
   "execution_count": 89,
   "metadata": {},
   "outputs": [],
   "source": [
    "data = readsnipshot(fname,ptypelist = [0,4])"
   ]
  },
  {
   "cell_type": "code",
   "execution_count": 92,
   "metadata": {},
   "outputs": [],
   "source": [
    "Gnew=data[0]"
   ]
  },
  {
   "cell_type": "code",
   "execution_count": 93,
   "metadata": {},
   "outputs": [
    {
     "data": {
      "text/plain": [
       "array([[ 14.23788363,   2.03040429,  -5.07135507],\n",
       "       [ 14.31929402,   2.11619183,  -4.42988045],\n",
       "       [ 14.03442586,   2.48808125,  -4.28250557],\n",
       "       ...,\n",
       "       [  3.25425395, -21.41136318,  -0.45457192],\n",
       "       [  3.22582364, -21.46403474,  -0.43619445],\n",
       "       [  3.22126874, -21.47536005,  -0.41098941]])"
      ]
     },
     "execution_count": 93,
     "metadata": {},
     "output_type": "execute_result"
    }
   ],
   "source": [
    "Gnew['p']"
   ]
  },
  {
   "cell_type": "code",
   "execution_count": null,
   "metadata": {},
   "outputs": [],
   "source": []
  }
 ],
 "metadata": {
  "kernelspec": {
   "display_name": "Python 2",
   "language": "python",
   "name": "python2"
  },
  "language_info": {
   "codemirror_mode": {
    "name": "ipython",
    "version": 2
   },
   "file_extension": ".py",
   "mimetype": "text/x-python",
   "name": "python",
   "nbconvert_exporter": "python",
   "pygments_lexer": "ipython2",
   "version": "2.7.15"
  }
 },
 "nbformat": 4,
 "nbformat_minor": 2
}
