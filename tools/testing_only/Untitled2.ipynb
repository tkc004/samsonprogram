{
 "cells": [
  {
   "cell_type": "code",
   "execution_count": 10,
   "metadata": {},
   "outputs": [
    {
     "name": "stdout",
     "output_type": "stream",
     "text": [
      "meshx [0.5 1.5 0.5 1.5]\n",
      "meshy [150. 150. 250. 250.]\n"
     ]
    }
   ],
   "source": [
    "    import numpy as np\n",
    "    xlist = np.array([0,1,2])\n",
    "    ylist = np.array([100,200,300])\n",
    "    xlistm = (xlist[1:]+xlist[:-1])/2.\n",
    "    ylistm = (ylist[1:]+ylist[:-1])/2.\n",
    "    meshx, meshy = np.meshgrid(xlistm,ylistm)\n",
    "    meshx = np.ravel(meshx); meshy = np.ravel(meshy)\n",
    "    print 'meshx', meshx\n",
    "    print 'meshy', meshy"
   ]
  },
  {
   "cell_type": "code",
   "execution_count": 20,
   "metadata": {},
   "outputs": [],
   "source": [
    "x = [0.1,0.2,0.3,0.9,1.5]\n",
    "y = [100.1,100.2,150,130,270]\n",
    "weights=[1,1,1,1,1]\n",
    "meshweights, xedges, yedges = np.histogram2d(x, y, bins=(xlist, ylist),weights=weights)"
   ]
  },
  {
   "cell_type": "code",
   "execution_count": 23,
   "metadata": {},
   "outputs": [
    {
     "data": {
      "text/plain": [
       "array([4., 0., 0., 1.])"
      ]
     },
     "execution_count": 23,
     "metadata": {},
     "output_type": "execute_result"
    }
   ],
   "source": [
    "meshweights"
   ]
  },
  {
   "cell_type": "code",
   "execution_count": 22,
   "metadata": {},
   "outputs": [],
   "source": [
    "meshweights=np.ravel(meshweights)"
   ]
  },
  {
   "cell_type": "code",
   "execution_count": null,
   "metadata": {},
   "outputs": [],
   "source": []
  }
 ],
 "metadata": {
  "kernelspec": {
   "display_name": "Python 2",
   "language": "python",
   "name": "python2"
  },
  "language_info": {
   "codemirror_mode": {
    "name": "ipython",
    "version": 2
   },
   "file_extension": ".py",
   "mimetype": "text/x-python",
   "name": "python",
   "nbconvert_exporter": "python",
   "pygments_lexer": "ipython2",
   "version": "2.7.15"
  }
 },
 "nbformat": 4,
 "nbformat_minor": 2
}
