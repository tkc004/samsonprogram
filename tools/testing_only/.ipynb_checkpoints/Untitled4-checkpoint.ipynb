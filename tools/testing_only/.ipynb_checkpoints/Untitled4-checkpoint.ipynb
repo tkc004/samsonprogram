{
 "cells": [
  {
   "cell_type": "code",
   "execution_count": 2,
   "metadata": {},
   "outputs": [
    {
     "name": "stdout",
     "output_type": "stream",
     "text": [
      "[0.         0.03076971 0.08047493 0.16076846 0.29047416 0.5\n",
      " 0.70952584 0.83923154 0.91952507 0.96923029 1.        ]\n",
      "[0.03076971 0.08047493 0.16076846 0.29047416 0.5        0.70952584\n",
      " 0.83923154 0.91952507 0.96923029]\n"
     ]
    }
   ],
   "source": [
    "import numpy\n",
    "import math\n",
    "\n",
    "#set number of spaces: num=?\n",
    "logrange = numpy.logspace(0,math.log10(11),num=6)\n",
    "\n",
    "#including boudary points\n",
    "inclusive = numpy.hstack([logrange -1,21-logrange[-2:0:-1],20])/20\n",
    "print(inclusive)\n",
    "\n",
    "#excluding boundary points\n",
    "exclusive = numpy.hstack([logrange[1:] -1,21-logrange[-2:0:-1]])/20\n",
    "print(exclusive)"
   ]
  },
  {
   "cell_type": "code",
   "execution_count": 2,
   "metadata": {},
   "outputs": [
    {
     "data": {
      "text/plain": [
       "array([ 1.        ,  1.61539427,  2.60949864,  4.21536913,  6.80948313,\n",
       "       11.        ])"
      ]
     },
     "execution_count": 2,
     "metadata": {},
     "output_type": "execute_result"
    }
   ],
   "source": [
    "logrange"
   ]
  },
  {
   "cell_type": "code",
   "execution_count": 3,
   "metadata": {},
   "outputs": [
    {
     "data": {
      "text/plain": [
       "array([0.        , 0.03076971, 0.08047493, 0.16076846, 0.29047416,\n",
       "       0.5       , 0.70952584, 0.83923154, 0.91952507, 0.96923029,\n",
       "       1.        ])"
      ]
     },
     "execution_count": 3,
     "metadata": {},
     "output_type": "execute_result"
    }
   ],
   "source": [
    "inclusive"
   ]
  },
  {
   "cell_type": "code",
   "execution_count": 15,
   "metadata": {},
   "outputs": [
    {
     "name": "stdout",
     "output_type": "stream",
     "text": [
      "[0.         0.01431532 0.030475   0.04871665 0.06930853 0.09255341\n",
      " 0.11879312 0.1484135  0.1818501  0.2195946  0.26220203 0.31029891\n",
      " 0.36459249 0.42588114 0.49506609 0.57316468 0.66132533 0.76084441\n",
      " 0.87318532 1.        ]\n",
      "[1.         0.87318532 0.76084441 0.66132533 0.57316468 0.49506609\n",
      " 0.42588114 0.36459249 0.31029891 0.26220203 0.2195946  0.1818501\n",
      " 0.1484135  0.11879312 0.09255341 0.06930853 0.04871665 0.030475\n",
      " 0.01431532]\n",
      "[5.         4.36592661 3.80422206 3.30662665 2.86582339 2.47533043\n",
      " 2.12940569 1.82296244 1.55149455 1.31101016 1.09797302 0.9092505\n",
      " 0.74206748 0.5939656  0.46276706 0.34654263 0.24358327 0.15237499\n",
      " 0.07157661 0.         0.07157661 0.15237499 0.24358327 0.34654263\n",
      " 0.46276706 0.5939656  0.74206748 0.9092505  1.09797302 1.31101016\n",
      " 1.55149455 1.82296244 2.12940569 2.47533043 2.86582339 3.30662665\n",
      " 3.80422206 4.36592661 5.        ]\n",
      "[-0.01431532 -0.01615968 -0.01824166 -0.02059187 -0.02324489 -0.02623971\n",
      " -0.02962038 -0.0334366  -0.0377445  -0.04260743 -0.04809688 -0.05429358\n",
      " -0.06128865 -0.06918495 -0.07809859 -0.08816065 -0.09951908 -0.11234091\n",
      " -0.12681468]\n"
     ]
    }
   ],
   "source": [
    "base=10\n",
    "basespace = numpy.logspace(0,1,num=20, base=base)-1\n",
    "basespace = basespace/(base-1)\n",
    "leftspace = basespace[1:]\n",
    "leftspace = leftspace[::-1]\n",
    "print basespace\n",
    "print leftspace\n",
    "symspace = numpy.append(leftspace, basespace)\n",
    "print symspace*5.0\n",
    "print basespace[:-1]-basespace[1:]"
   ]
  },
  {
   "cell_type": "code",
   "execution_count": 36,
   "metadata": {},
   "outputs": [],
   "source": [
    "import numpy as np\n",
    "def symlogspace(stop,onum, base=10.0): #onum is the number of element in one side, excluding zero\n",
    "    basespace = np.logspace(0,1,num=onum+1, base=base)-1\n",
    "    basespace = basespace/(base-1)\n",
    "    leftspace = basespace[1:]\n",
    "    leftspace = leftspace[::-1]\n",
    "    symspace = np.append(-leftspace, basespace)*stop\n",
    "    return symspace"
   ]
  },
  {
   "cell_type": "code",
   "execution_count": 37,
   "metadata": {},
   "outputs": [
    {
     "data": {
      "text/plain": [
       "array([-5.      , -3.999996, -2.999994, -1.999994, -0.999996,  0.      ,\n",
       "        0.999996,  1.999994,  2.999994,  3.999996,  5.      ])"
      ]
     },
     "execution_count": 37,
     "metadata": {},
     "output_type": "execute_result"
    }
   ],
   "source": [
    "symlogspace(5,5, base=1.00001)"
   ]
  },
  {
   "cell_type": "code",
   "execution_count": null,
   "metadata": {},
   "outputs": [],
   "source": []
  }
 ],
 "metadata": {
  "kernelspec": {
   "display_name": "Python 2",
   "language": "python",
   "name": "python2"
  }
 },
 "nbformat": 4,
 "nbformat_minor": 2
}
