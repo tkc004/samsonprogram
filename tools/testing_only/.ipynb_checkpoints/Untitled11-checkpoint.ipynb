{
 "cells": [
  {
   "cell_type": "code",
   "execution_count": 1,
   "metadata": {},
   "outputs": [],
   "source": [
    "def readgeneralhdf5(fname):\n",
    "    fhdf5 = h5py.File(fname, 'r')\n",
    "    data = {}\n",
    "    for gp in fhdf5:\n",
    "        group = fhdf5[gp]\n",
    "        for name in group:\n",
    "            print 'name', name\n",
    "            data[name] = group[name][:]\n",
    "    fhdf5.close()\n",
    "    del fhdf5\n",
    "    return data"
   ]
  },
  {
   "cell_type": "code",
   "execution_count": 2,
   "metadata": {},
   "outputs": [],
   "source": [
    "import h5py"
   ]
  },
  {
   "cell_type": "code",
   "execution_count": 3,
   "metadata": {},
   "outputs": [
    {
     "name": "stdout",
     "output_type": "stream",
     "text": [
      "name gxl\n",
      "name gyl\n",
      "name gzl\n",
      "name xl\n",
      "name xlist\n",
      "name yl\n",
      "name ylist\n",
      "name zl\n",
      "name zlist\n"
     ]
    }
   ],
   "source": [
    "Nsnapstring=str(580)\n",
    "commonpath='/home/tkc004/scratch/snipshot/philruns/'\n",
    "rundir='m12m_res7000/mhdcv/'\n",
    "fname=commonpath+rundir+'/deriveddata/gfield/snipshot_'+Nsnapstring+'.hdf5'\n",
    "data = readgeneralhdf5(fname)"
   ]
  },
  {
   "cell_type": "code",
   "execution_count": 4,
   "metadata": {},
   "outputs": [
    {
     "data": {
      "text/plain": [
       "{u'gxl': array([-3.52470114e-09, -3.64932057e-09, -3.81960327e-09, ...,\n",
       "         3.89113144e-09,  3.57501660e-09,  3.31933225e-09]),\n",
       " u'gyl': array([-3.14545633e-09, -3.48495626e-09, -3.86268411e-09, ...,\n",
       "         3.92853209e-09,  3.55143369e-09,  3.48385471e-09]),\n",
       " u'gzl': array([-5.39527519e-09, -5.47861515e-09, -5.80418903e-09, ...,\n",
       "         5.66070311e-09,  5.60659903e-09,  5.36847817e-09]),\n",
       " u'xl': array([-10., -10., -10., ...,  10.,  10.,  10.]),\n",
       " u'xlist': array([-10.,  -9.,  -8.,  -7.,  -6.,  -5.,  -4.,  -3.,  -2.,  -1.,   0.,\n",
       "          1.,   2.,   3.,   4.,   5.,   6.,   7.,   8.,   9.,  10.]),\n",
       " u'yl': array([-10., -10., -10., ...,  10.,  10.,  10.]),\n",
       " u'ylist': array([-10.,  -9.,  -8.,  -7.,  -6.,  -5.,  -4.,  -3.,  -2.,  -1.,   0.,\n",
       "          1.,   2.,   3.,   4.,   5.,   6.,   7.,   8.,   9.,  10.]),\n",
       " u'zl': array([-10.,  -9.,  -8., ...,   8.,   9.,  10.]),\n",
       " u'zlist': array([-10.,  -9.,  -8.,  -7.,  -6.,  -5.,  -4.,  -3.,  -2.,  -1.,   0.,\n",
       "          1.,   2.,   3.,   4.,   5.,   6.,   7.,   8.,   9.,  10.])}"
      ]
     },
     "execution_count": 4,
     "metadata": {},
     "output_type": "execute_result"
    }
   ],
   "source": [
    "data"
   ]
  },
  {
   "cell_type": "code",
   "execution_count": null,
   "metadata": {},
   "outputs": [],
   "source": []
  }
 ],
 "metadata": {
  "kernelspec": {
   "display_name": "Python 2",
   "language": "python",
   "name": "python2"
  },
  "language_info": {
   "codemirror_mode": {
    "name": "ipython",
    "version": 2
   },
   "file_extension": ".py",
   "mimetype": "text/x-python",
   "name": "python",
   "nbconvert_exporter": "python",
   "pygments_lexer": "ipython2",
   "version": "2.7.15"
  }
 },
 "nbformat": 4,
 "nbformat_minor": 2
}
