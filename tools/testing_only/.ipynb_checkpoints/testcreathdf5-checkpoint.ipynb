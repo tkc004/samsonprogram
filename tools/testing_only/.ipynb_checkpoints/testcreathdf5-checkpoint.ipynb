{
 "cells": [
  {
   "cell_type": "code",
   "execution_count": 1,
   "metadata": {},
   "outputs": [
    {
     "data": {
      "text/plain": [
       "u'/mydataset'"
      ]
     },
     "execution_count": 1,
     "metadata": {},
     "output_type": "execute_result"
    }
   ],
   "source": [
    "import h5py\n",
    "import numpy as np\n",
    "fhdf5 = h5py.File(\"mytestfile.hdf5\", \"w\")\n",
    "dset = fhdf5.create_dataset(\"mydataset\", (100,), dtype='i')\n",
    "dset.name"
   ]
  },
  {
   "cell_type": "code",
   "execution_count": 2,
   "metadata": {},
   "outputs": [],
   "source": [
    "from stdmodandoption import *"
   ]
  },
  {
   "cell_type": "code",
   "execution_count": 3,
   "metadata": {},
   "outputs": [
    {
     "name": "stdout",
     "output_type": "stream",
     "text": [
      "rundir m12i_ref13/\n"
     ]
    }
   ],
   "source": [
    "data = SSF.outdirname('fm12i', Nsnap=500)"
   ]
  },
  {
   "cell_type": "code",
   "execution_count": 4,
   "metadata": {},
   "outputs": [
    {
     "data": {
      "text/plain": [
       "{'Fcal': 0.1,\n",
       " 'M1speed': 0,\n",
       " 'Mhini': 0.0,\n",
       " 'Msini': 0.0,\n",
       " 'Nsnapstring': '500',\n",
       " 'Rvir': 0,\n",
       " 'beginno': 600,\n",
       " 'color': 'k',\n",
       " 'correctIa': 0,\n",
       " 'cosmo': 1,\n",
       " 'crlabel': 'noCR',\n",
       " 'dclabel': 'm12i hydro',\n",
       " 'exceptcool': 0,\n",
       " 'finalno': 600,\n",
       " 'firever': 2,\n",
       " 'galcen': 0,\n",
       " 'h0': 0.68,\n",
       " 'halostr': '00',\n",
       " 'haveB': 0,\n",
       " 'havecr': 0,\n",
       " 'havemetal': 1,\n",
       " 'highres': 0,\n",
       " 'iavesfr': 1.0,\n",
       " 'initsnap': 0,\n",
       " 'kappa': 0,\n",
       " 'maindir': 'oasis/extra',\n",
       " 'multifile': 'y',\n",
       " 'newlabel': 'Hydro no CR',\n",
       " 'resolabel': '',\n",
       " 'reverse': 0,\n",
       " 'rundir': 'm12i_ref13/',\n",
       " 'runlabel': '',\n",
       " 'runtitle': '',\n",
       " 'slabel': '',\n",
       " 'snapsep': 1,\n",
       " 'snlabel': '',\n",
       " 'snumadd': 1,\n",
       " 'strlabel': '',\n",
       " 'stron': 0,\n",
       " 'subdir': 'output',\n",
       " 'suffixadd': '',\n",
       " 'the_prefix': 'snapshot',\n",
       " 'the_snapdir': '/home/tkc004/oasis/extra/m12i_ref13//output',\n",
       " 'the_suffix': '.hdf5',\n",
       " 'timestep': '',\n",
       " 'usecalstr': 0,\n",
       " 'usepep': 1,\n",
       " 'usesnaplist': 0,\n",
       " 'withinRv': 1}"
      ]
     },
     "execution_count": 4,
     "metadata": {},
     "output_type": "execute_result"
    }
   ],
   "source": [
    "data"
   ]
  },
  {
   "cell_type": "code",
   "execution_count": 9,
   "metadata": {},
   "outputs": [],
   "source": [
    "write_layer(fhdf5, data)\n"
   ]
  },
  {
   "cell_type": "code",
   "execution_count": 7,
   "metadata": {},
   "outputs": [],
   "source": [
    "def write_layer(gp, adict):\n",
    "    for k,v in adict.items():\n",
    "        if isinstance(v, dict):\n",
    "            gp1 = gp.create_group(k)\n",
    "            write_layer(gp1, v)\n",
    "        else:\n",
    "            gp.create_dataset(k, data=np.atleast_1d(v))"
   ]
  },
  {
   "cell_type": "code",
   "execution_count": 10,
   "metadata": {},
   "outputs": [
    {
     "data": {
      "text/plain": [
       "[u'Fcal',\n",
       " u'M1speed',\n",
       " u'Mhini',\n",
       " u'Msini',\n",
       " u'Nsnapstring',\n",
       " u'Rvir',\n",
       " u'beginno',\n",
       " u'color',\n",
       " u'correctIa',\n",
       " u'cosmo',\n",
       " u'crlabel',\n",
       " u'dclabel',\n",
       " u'exceptcool',\n",
       " u'finalno',\n",
       " u'firever',\n",
       " u'galcen',\n",
       " u'h0',\n",
       " u'halostr',\n",
       " u'haveB',\n",
       " u'havecr',\n",
       " u'havemetal',\n",
       " u'highres',\n",
       " u'iavesfr',\n",
       " u'initsnap',\n",
       " u'kappa',\n",
       " u'maindir',\n",
       " u'multifile',\n",
       " u'mydataset',\n",
       " u'newlabel',\n",
       " u'resolabel',\n",
       " u'reverse',\n",
       " u'rundir',\n",
       " u'runlabel',\n",
       " u'runtitle',\n",
       " u'slabel',\n",
       " u'snapsep',\n",
       " u'snlabel',\n",
       " u'snumadd',\n",
       " u'strlabel',\n",
       " u'stron',\n",
       " u'subdir',\n",
       " u'suffixadd',\n",
       " u'the_prefix',\n",
       " u'the_snapdir',\n",
       " u'the_suffix',\n",
       " u'timestep',\n",
       " u'usecalstr',\n",
       " u'usepep',\n",
       " u'usesnaplist',\n",
       " u'withinRv']"
      ]
     },
     "execution_count": 10,
     "metadata": {},
     "output_type": "execute_result"
    }
   ],
   "source": [
    "list(fhdf5.keys())"
   ]
  },
  {
   "cell_type": "code",
   "execution_count": 12,
   "metadata": {},
   "outputs": [
    {
     "data": {
      "text/plain": [
       "array([0.1])"
      ]
     },
     "execution_count": 12,
     "metadata": {},
     "output_type": "execute_result"
    }
   ],
   "source": [
    "fhdf5['Fcal'][:]"
   ]
  },
  {
   "cell_type": "code",
   "execution_count": 13,
   "metadata": {},
   "outputs": [],
   "source": [
    "fhdf5.close()"
   ]
  },
  {
   "cell_type": "code",
   "execution_count": 14,
   "metadata": {},
   "outputs": [
    {
     "data": {
      "text/plain": [
       "<Closed HDF5 file>"
      ]
     },
     "execution_count": 14,
     "metadata": {},
     "output_type": "execute_result"
    }
   ],
   "source": [
    "fhdf5"
   ]
  },
  {
   "cell_type": "code",
   "execution_count": null,
   "metadata": {},
   "outputs": [],
   "source": []
  }
 ],
 "metadata": {
  "kernelspec": {
   "display_name": "Python 2",
   "language": "python",
   "name": "python2"
  },
  "language_info": {
   "codemirror_mode": {
    "name": "ipython",
    "version": 2
   },
   "file_extension": ".py",
   "mimetype": "text/x-python",
   "name": "python",
   "nbconvert_exporter": "python",
   "pygments_lexer": "ipython2",
   "version": "2.7.15"
  }
 },
 "nbformat": 4,
 "nbformat_minor": 2
}
