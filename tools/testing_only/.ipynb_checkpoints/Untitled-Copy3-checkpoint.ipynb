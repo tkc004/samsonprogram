{
 "cells": [
  {
   "cell_type": "code",
   "execution_count": 18,
   "metadata": {},
   "outputs": [
    {
     "name": "stdout",
     "output_type": "stream",
     "text": [
      "rundir /m11b/mhdcv/\n",
      "loading file : /home/tkc004//oasis/philruns///m11b/mhdcv///output//snapshot_600.hdf5\n",
      "npart_file:  [12715149 12771424 19289221        0    56276        0]\n",
      "npart_total: [12715149 12771424 19289221        0    56276        0]\n",
      "flag_cooling 1\n",
      "this time 1.0\n",
      "hubble 0.702\n",
      "atime 1.0\n",
      "loading file : /home/tkc004//oasis/philruns///m11b/mhdcv///output//snapshot_600.hdf5\n",
      "npart_file:  [12715149 12771424 19289221        0    56276        0]\n",
      "npart_total: [12715149 12771424 19289221        0    56276        0]\n",
      "flag_cooling 1\n",
      "xvcen, yvcen, zvcen -222.36 -329.91 -224.73\n",
      "rundir /m11b/mhdcv/\n",
      "Gvx,Gvy,Gvz -0.2657360055088194 -1.3031342649588624 0.4440711562934072\n",
      "loading file : /home/tkc004//oasis/philruns///m11b/mhdcv///output//snapshot_600.hdf5\n",
      "npart_file:  [12715149 12771424 19289221        0    56276        0]\n",
      "npart_total: [12715149 12771424 19289221        0    56276        0]\n",
      "flag_cooling 1\n",
      "this time 1.0\n",
      "hubble 0.702\n",
      "atime 1.0\n",
      "loading file : /home/tkc004//oasis/philruns///m11b/mhdcv///output//snapshot_600.hdf5\n",
      "npart_file:  [12715149 12771424 19289221        0    56276        0]\n",
      "npart_total: [12715149 12771424 19289221        0    56276        0]\n",
      "flag_cooling 1\n",
      "xvcen, yvcen, zvcen -222.36 -329.91 -224.73\n",
      "rundir /m11b/mhdcv/\n",
      "Gvx,Gvy,Gvz 11.73853703422171 9.291470719055138 2.8241027584970557\n"
     ]
    }
   ],
   "source": [
    "from stdmodandoption import *\n",
    "\n",
    "wanted='nsrad'\n",
    "dirneed = ['m11bmhdcv']\n",
    "the_prefix = 'snapshot'\n",
    "the_suffix = '.hdf5'\n",
    "\n",
    "\n",
    "if wanted=='sfrrad' or wanted=='nsrad' or wanted == 'cumnsmrad':\n",
    "    withinr = 15.\n",
    "    minr = 0.5\n",
    "    maxlength=0.25\n",
    "    usecen=0\n",
    "    normalized=1\n",
    "    usenscen=1\n",
    "    usesphrad=1\n",
    "    uselog=1\n",
    "    Myrneed=600\n",
    "    ageneed=200 #Myr\n",
    "    radlist = np.linspace(minr, withinr,10)\n",
    "    for runtodo in dirneed:\n",
    "        info=SSF.outdirname(runtodo, Myrneed)\n",
    "        rundir=info['rundir']\n",
    "        runtitle=info['runtitle']\n",
    "        slabel=info['slabel']\n",
    "        snlabel=info['snlabel']\n",
    "        dclabel=info['dclabel']\n",
    "        resolabel=info['resolabel']\n",
    "        the_snapdir=info['the_snapdir']\n",
    "        Nsnapstring=info['Nsnapstring']\n",
    "        havecr=info['havecr']\n",
    "        haveB=info['haveB']\n",
    "        Fcal=info['Fcal']\n",
    "        iavesfr=info['iavesfr']\n",
    "        timestep=info['timestep']\n",
    "        color=info['color']\n",
    "        h0=info['h0']\n",
    "        cosmo=info['cosmo']\n",
    "        usepep=info['usepep']\n",
    "        maindir=info['maindir']\n",
    "        snumadd=info['snumadd']\n",
    "        halostr=info['halostr']\n",
    "        rotface = 1\n",
    "        loccen = 1\n",
    "        S = SSF.readsnapwcen(the_snapdir, Nsnapstring, 4, snapshot_name=the_prefix, extension=the_suffix,\\\n",
    "         havecr=havecr,h0=h0,cosmo=cosmo, usepep=usepep, maindir=maindir,snumadd=snumadd,rotface=rotface,\\\n",
    "         loccen=loccen,runtodo=runtodo,rundir=rundir,halostr=halostr)\n",
    "        Sage = S['age']\n",
    "        Spos = S['p']\n",
    "        Sx = Spos[:,0]\n",
    "        Sy = Spos[:,1]\n",
    "        Sz = Spos[:,2]\n",
    "        Sm = S['m']\n",
    "        agecutlow = np.amax(Sage)-0.001*ageneed\n",
    "        agecuthigh = np.amax(Sage)\n",
    "        cuta = (Sage> agecutlow) & (Sage <agecuthigh)\n",
    "        Sx=Sx[cuta]; Sy=Sy[cuta]; Sz=Sz[cuta]; Sm=Sm[cuta];\n",
    "        G = SSF.readsnapwcen(the_snapdir, Nsnapstring, 0, snapshot_name=the_prefix, extension=the_suffix,\\\n",
    "         havecr=havecr,h0=h0,cosmo=cosmo, usepep=usepep, maindir=maindir,snumadd=snumadd,rotface=rotface,\\\n",
    "         loccen=loccen,runtodo=runtodo,rundir=rundir,halostr=halostr)\n",
    "\n",
    "def gaus(x,a,x0,sigma):\n",
    "    return a*exp(-(x-x0)**2/(2*sigma**2))\n",
    "\n",
    "import cameron_functions as CAMF\n",
    "Gmas = G['m']; Gnh = G['nh']; KernalLengths = G['h']; density = G['rho']; Gmetal = G['z'];\n",
    "camdict = CAMF.calnH(Gmas,Gnh,KernalLengths,density,Gmetal)\n",
    "\n",
    "np.amax(camdict['fHI'])\n",
    "np.amin(camdict['fHI'])\n",
    "fHI = camdict['fHI']\n",
    "fH2 = camdict['fH2']\n",
    "\n",
    "Gp = G['p'];\n",
    "Gx = Gp[:,0]; Gy = Gp[:,1]; Gz = Gp[:,2];\n",
    "Gv = G['v']; \n",
    "Gvx = Gv[:,0]; Gvy = Gv[:,1]; Gvz = Gv[:,2];"
   ]
  },
  {
   "cell_type": "code",
   "execution_count": 19,
   "metadata": {},
   "outputs": [],
   "source": [
    "from scipy.optimize import curve_fit\n",
    "from scipy import asarray as ar,exp\n",
    "\n",
    "zat = 0\n",
    "dz = 5\n",
    "Gr = np.sqrt(Gx*Gx+Gy*Gy+Gz*Gz)\n",
    "cutr = (Gr<10)*(Gr>0)\n",
    "cutz = (Gz-zat<dz)*(Gz-zat>-dz)\n",
    "cutx = (Gx<5.0)*(Gx>4.0)\n",
    "cuty = (Gy<5.0)*(Gy>4.0)\n",
    "#cut = cutr*cutz*cutx\n",
    "cut = cutx*cuty*cutz\n",
    "hist, bin_edges = np.histogram(Gvz[cut], density=True, bins=np.linspace(-80,80,num=100),weights=Gmas[cut]*fHI[cut])\n",
    "x = 0.5*(bin_edges[1:]+bin_edges[:-1]); y = hist;\n",
    "sigma=10; mean=0;\n",
    "popt,pcov = curve_fit(gaus,x,y,p0=[0.0175,mean,sigma])"
   ]
  },
  {
   "cell_type": "code",
   "execution_count": 20,
   "metadata": {},
   "outputs": [
    {
     "data": {
      "text/plain": [
       "array([ 0.10505309,  0.51042256, -3.40229498])"
      ]
     },
     "execution_count": 20,
     "metadata": {},
     "output_type": "execute_result"
    }
   ],
   "source": [
    "popt"
   ]
  },
  {
   "cell_type": "code",
   "execution_count": 21,
   "metadata": {},
   "outputs": [
    {
     "name": "stdout",
     "output_type": "stream",
     "text": [
      "1.1377425573358637\n",
      "6.14031273535888\n"
     ]
    }
   ],
   "source": [
    "print np.average(Gvz[cut],weights=Gmas[cut])\n",
    "\n",
    "print np.sqrt(np.average(np.square(Gvz[cut]-np.average(Gvz[cut],weights=Gmas[cut]*fHI[cut])),weights=Gmas[cut]*fHI[cut]))"
   ]
  },
  {
   "cell_type": "code",
   "execution_count": 23,
   "metadata": {},
   "outputs": [
    {
     "data": {
      "text/plain": [
       "[<matplotlib.lines.Line2D at 0x2b782d729490>]"
      ]
     },
     "execution_count": 23,
     "metadata": {},
     "output_type": "execute_result"
    },
    {
     "data": {
      "image/png": "[encoded data removed]",
      "text/plain": [
       "<Figure size 432x288 with 1 Axes>"
      ]
     },
     "metadata": {
      "needs_background": "light"
     },
     "output_type": "display_data"
    }
   ],
   "source": [
    "plt.plot(x,y)\n",
    "plt.plot(x, gaus(x, *popt), 'g--')"
   ]
  },
  {
   "cell_type": "code",
   "execution_count": 85,
   "metadata": {},
   "outputs": [
    {
     "data": {
      "text/plain": [
       "array([-131.96482292, -112.26939294,  -92.57396296,  -72.87853299,\n",
       "        -53.18310301,  -33.48767303,  -13.79224305,    5.90318693,\n",
       "         25.59861691,   45.29404688,   64.98947686,   84.68490684,\n",
       "        104.38033682,  124.0757668 ,  143.77119678,  163.46662675,\n",
       "        183.16205673,  202.85748671,  222.55291669,  242.24834667])"
      ]
     },
     "execution_count": 85,
     "metadata": {},
     "output_type": "execute_result"
    }
   ],
   "source": [
    "x"
   ]
  },
  {
   "cell_type": "code",
   "execution_count": 12,
   "metadata": {},
   "outputs": [],
   "source": [
    "from mockvelocitydispersion import calsigmaHIlos\n",
    "xlist = np.linspace(13,15,num=2)\n",
    "ylist = np.linspace(13,15,num=2)\n",
    "maxlength=20\n",
    "data = calsigmaHIlos(G,xlist,ylist,maxlength)"
   ]
  },
  {
   "cell_type": "code",
   "execution_count": 21,
   "metadata": {},
   "outputs": [
    {
     "name": "stdout",
     "output_type": "stream",
     "text": [
      "[12.7574752]\n"
     ]
    }
   ],
   "source": [
    "print data['sigmaHIlosgrid']"
   ]
  },
  {
   "cell_type": "code",
   "execution_count": null,
   "metadata": {},
   "outputs": [],
   "source": [
    "Sdata = SSF.calsfr(S,tintval=0.01,cosmo=1,withinr=20)\n",
    "sfrl = Sdata['sfrl']; Sxl = Sdata['Sxl']; Syl = Sdata['Syl']; Szl = Sdata['Szl']\n",
    "newdata = calSFRsurdenxynew(sfrl,Sxl,Syl,Szl,xlist,ylist,maxlength)"
   ]
  },
  {
   "cell_type": "code",
   "execution_count": 17,
   "metadata": {},
   "outputs": [
    {
     "name": "stderr",
     "output_type": "stream",
     "text": [
      "/oasis/projects/nsf/csd478/tkc004/yt/yt-conda/lib/python2.7/site-packages/ipykernel_launcher.py:1: RuntimeWarning: divide by zero encountered in log10\n",
      "  \"\"\"Entry point for launching an IPython kernel.\n"
     ]
    },
    {
     "data": {
      "text/plain": [
       "<matplotlib.collections.PathCollection at 0x2b5550025c50>"
      ]
     },
     "execution_count": 17,
     "metadata": {},
     "output_type": "execute_result"
    },
    {
     "data": {
      "image/png": "[encoded data removed]",
      "text/plain": [
       "<Figure size 432x288 with 1 Axes>"
      ]
     },
     "metadata": {
      "needs_background": "light"
     },
     "output_type": "display_data"
    }
   ],
   "source": [
    "plt.scatter(np.log10(SFRdengrid), sigmaHIlosgrid)"
   ]
  },
  {
   "cell_type": "code",
   "execution_count": 27,
   "metadata": {},
   "outputs": [
    {
     "name": "stderr",
     "output_type": "stream",
     "text": [
      "/oasis/projects/nsf/csd478/tkc004/yt/yt-conda/lib/python2.7/site-packages/ipykernel_launcher.py:1: RuntimeWarning: divide by zero encountered in log10\n",
      "  \"\"\"Entry point for launching an IPython kernel.\n"
     ]
    },
    {
     "data": {
      "text/plain": [
       "<matplotlib.collections.PathCollection at 0x2b55cb706310>"
      ]
     },
     "execution_count": 27,
     "metadata": {},
     "output_type": "execute_result"
    },
    {
     "data": {
      "image/png": "[encoded data removed]",
      "text/plain": [
       "<Figure size 432x288 with 1 Axes>"
      ]
     },
     "metadata": {
      "needs_background": "light"
     },
     "output_type": "display_data"
    }
   ],
   "source": [
    "plt.scatter(np.log10(SFRdengrid), sigmaHIlosgrid)"
   ]
  },
  {
   "cell_type": "code",
   "execution_count": null,
   "metadata": {},
   "outputs": [],
   "source": []
  }
 ],
 "metadata": {
  "kernelspec": {
   "display_name": "Python 2",
   "language": "python",
   "name": "python2"
  }
 },
 "nbformat": 4,
 "nbformat_minor": 2
}
