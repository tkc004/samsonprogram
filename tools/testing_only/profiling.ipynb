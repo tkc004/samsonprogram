{
 "cells": [
  {
   "cell_type": "code",
   "execution_count": 1,
   "metadata": {},
   "outputs": [
    {
     "name": "stdout",
     "output_type": "stream",
     "text": [
      "         195 function calls (190 primitive calls) in 0.000 seconds\n",
      "\n",
      "   Ordered by: standard name\n",
      "\n",
      "   ncalls  tottime  percall  cumtime  percall filename:lineno(function)\n",
      "        1    0.000    0.000    0.000    0.000 <string>:1(<module>)\n",
      "        1    0.000    0.000    0.000    0.000 re.py:192(compile)\n",
      "        1    0.000    0.000    0.000    0.000 re.py:230(_compile)\n",
      "        1    0.000    0.000    0.000    0.000 sre_compile.py:228(_compile_charset)\n",
      "        1    0.000    0.000    0.000    0.000 sre_compile.py:256(_optimize_charset)\n",
      "        1    0.000    0.000    0.000    0.000 sre_compile.py:433(_compile_info)\n",
      "        2    0.000    0.000    0.000    0.000 sre_compile.py:546(isstring)\n",
      "        1    0.000    0.000    0.000    0.000 sre_compile.py:552(_code)\n",
      "        1    0.000    0.000    0.000    0.000 sre_compile.py:567(compile)\n",
      "      3/1    0.000    0.000    0.000    0.000 sre_compile.py:64(_compile)\n",
      "        5    0.000    0.000    0.000    0.000 sre_parse.py:138(__len__)\n",
      "       12    0.000    0.000    0.000    0.000 sre_parse.py:142(__getitem__)\n",
      "        7    0.000    0.000    0.000    0.000 sre_parse.py:150(append)\n",
      "      3/1    0.000    0.000    0.000    0.000 sre_parse.py:152(getwidth)\n",
      "        1    0.000    0.000    0.000    0.000 sre_parse.py:190(__init__)\n",
      "       10    0.000    0.000    0.000    0.000 sre_parse.py:194(__next)\n",
      "        2    0.000    0.000    0.000    0.000 sre_parse.py:207(match)\n",
      "        8    0.000    0.000    0.000    0.000 sre_parse.py:213(get)\n",
      "        1    0.000    0.000    0.000    0.000 sre_parse.py:336(_parse_sub)\n",
      "        2    0.000    0.000    0.000    0.000 sre_parse.py:414(_parse)\n",
      "        1    0.000    0.000    0.000    0.000 sre_parse.py:68(__init__)\n",
      "        1    0.000    0.000    0.000    0.000 sre_parse.py:725(parse)\n",
      "        3    0.000    0.000    0.000    0.000 sre_parse.py:93(__init__)\n",
      "        1    0.000    0.000    0.000    0.000 {_sre.compile}\n",
      "       15    0.000    0.000    0.000    0.000 {isinstance}\n",
      "    39/38    0.000    0.000    0.000    0.000 {len}\n",
      "        2    0.000    0.000    0.000    0.000 {max}\n",
      "       48    0.000    0.000    0.000    0.000 {method 'append' of 'list' objects}\n",
      "        1    0.000    0.000    0.000    0.000 {method 'disable' of '_lsprof.Profiler' objects}\n",
      "        5    0.000    0.000    0.000    0.000 {method 'find' of 'bytearray' objects}\n",
      "        1    0.000    0.000    0.000    0.000 {method 'items' of 'dict' objects}\n",
      "        8    0.000    0.000    0.000    0.000 {min}\n",
      "        6    0.000    0.000    0.000    0.000 {ord}\n",
      "\n",
      "\n"
     ]
    }
   ],
   "source": [
    "import cProfile\n",
    "import re\n",
    "cProfile.run('re.compile(\"foo|bar\")')\n"
   ]
  },
  {
   "cell_type": "code",
   "execution_count": null,
   "metadata": {},
   "outputs": [],
   "source": []
  }
 ],
 "metadata": {
  "kernelspec": {
   "display_name": "Python 2",
   "language": "python",
   "name": "python2"
  },
  "language_info": {
   "codemirror_mode": {
    "name": "ipython",
    "version": 2
   },
   "file_extension": ".py",
   "mimetype": "text/x-python",
   "name": "python",
   "nbconvert_exporter": "python",
   "pygments_lexer": "ipython2",
   "version": "2.7.15"
  }
 },
 "nbformat": 4,
 "nbformat_minor": 2
}
