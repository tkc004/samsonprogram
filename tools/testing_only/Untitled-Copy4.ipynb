{
 "cells": [
  {
   "cell_type": "code",
   "execution_count": 27,
   "metadata": {},
   "outputs": [
    {
     "name": "stdout",
     "output_type": "stream",
     "text": [
      "rundir /m12m_mass7000/mhdcv/\n",
      "loading file : /home/tkc004//oasis/philruns///m12m_mass7000/mhdcv///output//snapdir_600/snapshot_600.0.hdf5\n",
      "npart_file:  [4256397 9151905 1511331       0 2552816       0]\n",
      "npart_total: [113153381 140876456  10063684         0  29025856         0]\n",
      "flag_cooling 1\n",
      "this time 1.0\n",
      "hubble 0.702\n",
      "atime 1.0\n",
      "loading file : /home/tkc004//oasis/philruns///m12m_mass7000/mhdcv///output//snapdir_600/snapshot_600.0.hdf5\n",
      "npart_file:  [4256397 9151905 1511331       0 2552816       0]\n",
      "npart_total: [113153381 140876456  10063684         0  29025856         0]\n",
      "flag_cooling 1\n",
      "xvcen, yvcen, zvcen -181.29 -7.56 140.7\n",
      "rundir /m12m_mass7000/mhdcv/\n",
      "Gvx,Gvy,Gvz -9.172435431572618 1.2023559394754186 8.627861295398683\n",
      "loading file : /home/tkc004//oasis/philruns///m12m_mass7000/mhdcv///output//snapdir_600/snapshot_600.0.hdf5\n",
      "npart_file:  [4256397 9151905 1511331       0 2552816       0]\n",
      "npart_total: [113153381 140876456  10063684         0  29025856         0]\n",
      "flag_cooling 1\n",
      "this time 1.0\n",
      "hubble 0.702\n",
      "atime 1.0\n",
      "loading file : /home/tkc004//oasis/philruns///m12m_mass7000/mhdcv///output//snapdir_600/snapshot_600.0.hdf5\n",
      "npart_file:  [4256397 9151905 1511331       0 2552816       0]\n",
      "npart_total: [113153381 140876456  10063684         0  29025856         0]\n",
      "flag_cooling 1\n"
     ]
    },
    {
     "ename": "MemoryError",
     "evalue": "",
     "output_type": "error",
     "traceback": [
      "\u001b[0;31m---------------------------------------------------------------------------\u001b[0m",
      "\u001b[0;31mMemoryError\u001b[0m                               Traceback (most recent call last)",
      "\u001b[0;32m<ipython-input-27-0d82d6662839>\u001b[0m in \u001b[0;36m<module>\u001b[0;34m()\u001b[0m\n\u001b[1;32m     54\u001b[0m         \u001b[0mcuta\u001b[0m \u001b[0;34m=\u001b[0m \u001b[0;34m(\u001b[0m\u001b[0mSage\u001b[0m\u001b[0;34m>\u001b[0m \u001b[0magecutlow\u001b[0m\u001b[0;34m)\u001b[0m \u001b[0;34m&\u001b[0m \u001b[0;34m(\u001b[0m\u001b[0mSage\u001b[0m \u001b[0;34m<\u001b[0m\u001b[0magecuthigh\u001b[0m\u001b[0;34m)\u001b[0m\u001b[0;34m\u001b[0m\u001b[0m\n\u001b[1;32m     55\u001b[0m         \u001b[0mSx\u001b[0m\u001b[0;34m=\u001b[0m\u001b[0mSx\u001b[0m\u001b[0;34m[\u001b[0m\u001b[0mcuta\u001b[0m\u001b[0;34m]\u001b[0m\u001b[0;34m;\u001b[0m \u001b[0mSy\u001b[0m\u001b[0;34m=\u001b[0m\u001b[0mSy\u001b[0m\u001b[0;34m[\u001b[0m\u001b[0mcuta\u001b[0m\u001b[0;34m]\u001b[0m\u001b[0;34m;\u001b[0m \u001b[0mSz\u001b[0m\u001b[0;34m=\u001b[0m\u001b[0mSz\u001b[0m\u001b[0;34m[\u001b[0m\u001b[0mcuta\u001b[0m\u001b[0;34m]\u001b[0m\u001b[0;34m;\u001b[0m \u001b[0mSm\u001b[0m\u001b[0;34m=\u001b[0m\u001b[0mSm\u001b[0m\u001b[0;34m[\u001b[0m\u001b[0mcuta\u001b[0m\u001b[0;34m]\u001b[0m\u001b[0;34m;\u001b[0m\u001b[0;34m\u001b[0m\u001b[0m\n\u001b[0;32m---> 56\u001b[0;31m         \u001b[0mG\u001b[0m \u001b[0;34m=\u001b[0m \u001b[0mSSF\u001b[0m\u001b[0;34m.\u001b[0m\u001b[0mreadsnapwcen\u001b[0m\u001b[0;34m(\u001b[0m\u001b[0mthe_snapdir\u001b[0m\u001b[0;34m,\u001b[0m \u001b[0mNsnapstring\u001b[0m\u001b[0;34m,\u001b[0m \u001b[0;36m0\u001b[0m\u001b[0;34m,\u001b[0m \u001b[0msnapshot_name\u001b[0m\u001b[0;34m=\u001b[0m\u001b[0mthe_prefix\u001b[0m\u001b[0;34m,\u001b[0m \u001b[0mextension\u001b[0m\u001b[0;34m=\u001b[0m\u001b[0mthe_suffix\u001b[0m\u001b[0;34m,\u001b[0m         \u001b[0mhavecr\u001b[0m\u001b[0;34m=\u001b[0m\u001b[0mhavecr\u001b[0m\u001b[0;34m,\u001b[0m\u001b[0mh0\u001b[0m\u001b[0;34m=\u001b[0m\u001b[0mh0\u001b[0m\u001b[0;34m,\u001b[0m\u001b[0mcosmo\u001b[0m\u001b[0;34m=\u001b[0m\u001b[0mcosmo\u001b[0m\u001b[0;34m,\u001b[0m \u001b[0musepep\u001b[0m\u001b[0;34m=\u001b[0m\u001b[0musepep\u001b[0m\u001b[0;34m,\u001b[0m \u001b[0mmaindir\u001b[0m\u001b[0;34m=\u001b[0m\u001b[0mmaindir\u001b[0m\u001b[0;34m,\u001b[0m\u001b[0msnumadd\u001b[0m\u001b[0;34m=\u001b[0m\u001b[0msnumadd\u001b[0m\u001b[0;34m,\u001b[0m\u001b[0mrotface\u001b[0m\u001b[0;34m=\u001b[0m\u001b[0mrotface\u001b[0m\u001b[0;34m,\u001b[0m         \u001b[0mloccen\u001b[0m\u001b[0;34m=\u001b[0m\u001b[0mloccen\u001b[0m\u001b[0;34m,\u001b[0m\u001b[0mruntodo\u001b[0m\u001b[0;34m=\u001b[0m\u001b[0mruntodo\u001b[0m\u001b[0;34m,\u001b[0m\u001b[0mrundir\u001b[0m\u001b[0;34m=\u001b[0m\u001b[0mrundir\u001b[0m\u001b[0;34m,\u001b[0m\u001b[0mhalostr\u001b[0m\u001b[0;34m=\u001b[0m\u001b[0mhalostr\u001b[0m\u001b[0;34m)\u001b[0m\u001b[0;34m\u001b[0m\u001b[0m\n\u001b[0m\u001b[1;32m     57\u001b[0m \u001b[0;34m\u001b[0m\u001b[0m\n\u001b[1;32m     58\u001b[0m \u001b[0;32mdef\u001b[0m \u001b[0mgaus\u001b[0m\u001b[0;34m(\u001b[0m\u001b[0mx\u001b[0m\u001b[0;34m,\u001b[0m\u001b[0ma\u001b[0m\u001b[0;34m,\u001b[0m\u001b[0mx0\u001b[0m\u001b[0;34m,\u001b[0m\u001b[0msigma\u001b[0m\u001b[0;34m)\u001b[0m\u001b[0;34m:\u001b[0m\u001b[0;34m\u001b[0m\u001b[0m\n",
      "\u001b[0;32m/home/tkc004/samsonprogram/tools/samson_functions.pyc\u001b[0m in \u001b[0;36mreadsnapwcen\u001b[0;34m(the_snapdir, Nsnapstring, ptype, snapshot_name, extension, havecr, h0, cosmo, usepep, maindir, snumadd, rotface, loccen, runtodo, rundir, halostr, firever, importLcen, angLin, cenin, vcenin)\u001b[0m\n\u001b[1;32m    256\u001b[0m          \u001b[0mhavecr\u001b[0m\u001b[0;34m=\u001b[0m\u001b[0;36m0\u001b[0m\u001b[0;34m,\u001b[0m\u001b[0mh0\u001b[0m\u001b[0;34m=\u001b[0m\u001b[0;36m0\u001b[0m\u001b[0;34m,\u001b[0m\u001b[0mcosmo\u001b[0m\u001b[0;34m=\u001b[0m\u001b[0;36m0\u001b[0m\u001b[0;34m,\u001b[0m \u001b[0musepep\u001b[0m\u001b[0;34m=\u001b[0m\u001b[0;36m0\u001b[0m\u001b[0;34m,\u001b[0m \u001b[0mmaindir\u001b[0m\u001b[0;34m=\u001b[0m\u001b[0;34m''\u001b[0m\u001b[0;34m,\u001b[0m\u001b[0msnumadd\u001b[0m\u001b[0;34m=\u001b[0m\u001b[0;36m0\u001b[0m\u001b[0;34m,\u001b[0m\u001b[0mrotface\u001b[0m\u001b[0;34m=\u001b[0m\u001b[0;36m0\u001b[0m\u001b[0;34m,\u001b[0m \u001b[0mloccen\u001b[0m\u001b[0;34m=\u001b[0m\u001b[0;36m0\u001b[0m\u001b[0;34m,\u001b[0m\u001b[0mruntodo\u001b[0m\u001b[0;34m=\u001b[0m\u001b[0;34m''\u001b[0m\u001b[0;34m,\u001b[0m\u001b[0;31m\\\u001b[0m\u001b[0;34m\u001b[0m\u001b[0m\n\u001b[1;32m    257\u001b[0m          \u001b[0mrundir\u001b[0m\u001b[0;34m=\u001b[0m\u001b[0;34m''\u001b[0m\u001b[0;34m,\u001b[0m\u001b[0mhalostr\u001b[0m\u001b[0;34m=\u001b[0m\u001b[0;34m''\u001b[0m\u001b[0;34m,\u001b[0m\u001b[0mfirever\u001b[0m\u001b[0;34m=\u001b[0m\u001b[0;36m2\u001b[0m\u001b[0;34m,\u001b[0m\u001b[0;31m\\\u001b[0m\u001b[0;34m\u001b[0m\u001b[0m\n\u001b[0;32m--> 258\u001b[0;31m          importLcen=0,angLin=[0.,0.,1.],cenin=[0.,0.,0.],vcenin=[0.,0.,0.]):\n\u001b[0m\u001b[1;32m    259\u001b[0m         \u001b[0;32mif\u001b[0m \u001b[0mimportLcen\u001b[0m\u001b[0;34m==\u001b[0m\u001b[0;36m0\u001b[0m\u001b[0;34m:\u001b[0m\u001b[0;34m\u001b[0m\u001b[0m\n\u001b[1;32m    260\u001b[0m             cendata = readcenfromAHF(the_snapdir, Nsnapstring, 0, snapshot_name=snapshot_name,\\\n",
      "\u001b[0;32m/home/tkc004/samsonprogram/tools/readsnap_cr.pyc\u001b[0m in \u001b[0;36mreadsnapcr\u001b[0;34m(sdir, snum, ptype, snapshot_name, extension, readflux, h0, cosmological, skip_bh, four_char, header_only, loud, havecr, ic, exceptcool, havemetal)\u001b[0m\n\u001b[1;32m     95\u001b[0m         \u001b[0mbfield\u001b[0m\u001b[0;34m=\u001b[0m\u001b[0mnp\u001b[0m\u001b[0;34m.\u001b[0m\u001b[0mcopy\u001b[0m\u001b[0;34m(\u001b[0m\u001b[0mpos\u001b[0m\u001b[0;34m)\u001b[0m\u001b[0;34m\u001b[0m\u001b[0m\n\u001b[1;32m     96\u001b[0m     \u001b[0;32mif\u001b[0m \u001b[0;34m(\u001b[0m\u001b[0mptype\u001b[0m\u001b[0;34m==\u001b[0m\u001b[0;36m0\u001b[0m \u001b[0;32mor\u001b[0m \u001b[0mptype\u001b[0m\u001b[0;34m==\u001b[0m\u001b[0;36m4\u001b[0m\u001b[0;34m)\u001b[0m \u001b[0;32mand\u001b[0m \u001b[0;34m(\u001b[0m\u001b[0mflag_metals\u001b[0m \u001b[0;34m>\u001b[0m \u001b[0;36m0\u001b[0m\u001b[0;34m)\u001b[0m\u001b[0;34m:\u001b[0m\u001b[0;34m\u001b[0m\u001b[0m\n\u001b[0;32m---> 97\u001b[0;31m         \u001b[0mmetal\u001b[0m\u001b[0;34m=\u001b[0m\u001b[0mnp\u001b[0m\u001b[0;34m.\u001b[0m\u001b[0mzeros\u001b[0m\u001b[0;34m(\u001b[0m\u001b[0;34m[\u001b[0m\u001b[0mnpartTotal\u001b[0m\u001b[0;34m[\u001b[0m\u001b[0mptype\u001b[0m\u001b[0;34m]\u001b[0m\u001b[0;34m,\u001b[0m\u001b[0mflag_metals\u001b[0m\u001b[0;34m]\u001b[0m\u001b[0;34m,\u001b[0m\u001b[0mdtype\u001b[0m\u001b[0;34m=\u001b[0m\u001b[0mfloat\u001b[0m\u001b[0;34m)\u001b[0m\u001b[0;34m\u001b[0m\u001b[0m\n\u001b[0m\u001b[1;32m     98\u001b[0m     \u001b[0;32mif\u001b[0m \u001b[0;34m(\u001b[0m\u001b[0mptype\u001b[0m\u001b[0;34m==\u001b[0m\u001b[0;36m4\u001b[0m\u001b[0;34m)\u001b[0m \u001b[0;32mand\u001b[0m \u001b[0;34m(\u001b[0m\u001b[0mflag_sfr\u001b[0m\u001b[0;34m>\u001b[0m\u001b[0;36m0\u001b[0m\u001b[0;34m)\u001b[0m \u001b[0;32mand\u001b[0m \u001b[0;34m(\u001b[0m\u001b[0mflag_stellarage\u001b[0m\u001b[0;34m>\u001b[0m\u001b[0;36m0\u001b[0m\u001b[0;34m)\u001b[0m\u001b[0;34m:\u001b[0m\u001b[0;34m\u001b[0m\u001b[0m\n\u001b[1;32m     99\u001b[0m         \u001b[0mstellage\u001b[0m\u001b[0;34m=\u001b[0m\u001b[0mnp\u001b[0m\u001b[0;34m.\u001b[0m\u001b[0mcopy\u001b[0m\u001b[0;34m(\u001b[0m\u001b[0mmass\u001b[0m\u001b[0;34m)\u001b[0m\u001b[0;34m\u001b[0m\u001b[0m\n",
      "\u001b[0;31mMemoryError\u001b[0m: "
     ]
    }
   ],
   "source": [
    "from stdmodandoption import *\n",
    "\n",
    "wanted='nsrad'\n",
    "dirneed = ['m12mmhdcvhr']\n",
    "the_prefix = 'snapshot'\n",
    "the_suffix = '.hdf5'\n",
    "\n",
    "\n",
    "if wanted=='sfrrad' or wanted=='nsrad' or wanted == 'cumnsmrad':\n",
    "    withinr = 15.\n",
    "    minr = 0.5\n",
    "    maxlength=0.25\n",
    "    usecen=0\n",
    "    normalized=1\n",
    "    usenscen=1\n",
    "    usesphrad=1\n",
    "    uselog=1\n",
    "    Myrneed=600\n",
    "    ageneed=200 #Myr\n",
    "    radlist = np.linspace(minr, withinr,10)\n",
    "    for runtodo in dirneed:\n",
    "        info=SSF.outdirname(runtodo, Myrneed)\n",
    "        rundir=info['rundir']\n",
    "        runtitle=info['runtitle']\n",
    "        slabel=info['slabel']\n",
    "        snlabel=info['snlabel']\n",
    "        dclabel=info['dclabel']\n",
    "        resolabel=info['resolabel']\n",
    "        the_snapdir=info['the_snapdir']\n",
    "        Nsnapstring=info['Nsnapstring']\n",
    "        havecr=info['havecr']\n",
    "        haveB=info['haveB']\n",
    "        Fcal=info['Fcal']\n",
    "        iavesfr=info['iavesfr']\n",
    "        timestep=info['timestep']\n",
    "        color=info['color']\n",
    "        h0=info['h0']\n",
    "        cosmo=info['cosmo']\n",
    "        usepep=info['usepep']\n",
    "        maindir=info['maindir']\n",
    "        snumadd=info['snumadd']\n",
    "        halostr=info['halostr']\n",
    "        rotface = 1\n",
    "        loccen = 1\n",
    "        S = SSF.readsnapwcen(the_snapdir, Nsnapstring, 4, snapshot_name=the_prefix, extension=the_suffix,\\\n",
    "         havecr=havecr,h0=h0,cosmo=cosmo, usepep=usepep, maindir=maindir,snumadd=snumadd,rotface=rotface,\\\n",
    "         loccen=loccen,runtodo=runtodo,rundir=rundir,halostr=halostr)\n",
    "        Sage = S['age']\n",
    "        Spos = S['p']\n",
    "        Sx = Spos[:,0]\n",
    "        Sy = Spos[:,1]\n",
    "        Sz = Spos[:,2]\n",
    "        Sm = S['m']\n",
    "        agecutlow = np.amax(Sage)-0.001*ageneed\n",
    "        agecuthigh = np.amax(Sage)\n",
    "        cuta = (Sage> agecutlow) & (Sage <agecuthigh)\n",
    "        Sx=Sx[cuta]; Sy=Sy[cuta]; Sz=Sz[cuta]; Sm=Sm[cuta];\n",
    "        G = SSF.readsnapwcen(the_snapdir, Nsnapstring, 0, snapshot_name=the_prefix, extension=the_suffix,\\\n",
    "         havecr=havecr,h0=h0,cosmo=cosmo, usepep=usepep, maindir=maindir,snumadd=snumadd,rotface=rotface,\\\n",
    "         loccen=loccen,runtodo=runtodo,rundir=rundir,halostr=halostr)\n",
    "\n",
    "def gaus(x,a,x0,sigma):\n",
    "    return a*exp(-(x-x0)**2/(2*sigma**2))\n",
    "\n",
    "import cameron_functions as CAMF\n",
    "Gmas = G['m']; Gnh = G['nh']; KernalLengths = G['h']; density = G['rho']; Gmetal = G['z'];\n",
    "camdict = CAMF.calnH(Gmas,Gnh,KernalLengths,density,Gmetal)\n",
    "\n",
    "np.amax(camdict['fHI'])\n",
    "np.amin(camdict['fHI'])\n",
    "fHI = camdict['fHI']\n",
    "fH2 = camdict['fH2']\n",
    "\n",
    "Gp = G['p'];\n",
    "Gx = Gp[:,0]; Gy = Gp[:,1]; Gz = Gp[:,2];\n",
    "Gv = G['v']; \n",
    "Gvx = Gv[:,0]; Gvy = Gv[:,1]; Gvz = Gv[:,2];"
   ]
  },
  {
   "cell_type": "code",
   "execution_count": 25,
   "metadata": {},
   "outputs": [],
   "source": [
    "from scipy.optimize import curve_fit\n",
    "from scipy import asarray as ar,exp\n",
    "\n",
    "zat = 0\n",
    "dz = 0.5\n",
    "Gr = np.sqrt(Gx*Gx+Gy*Gy+Gz*Gz)\n",
    "cutr = (Gr<10)*(Gr>0)\n",
    "cutz = (Gz-zat<dz)*(Gz-zat>-dz)\n",
    "cutx = (Gx<4)*(Gx>3)\n",
    "cuty = (Gy<4)*(Gy>3)\n",
    "#cut = cutr*cutz*cutx\n",
    "cut = cutx*cuty*cutz\n",
    "hist, bin_edges = np.histogram(Gvz[cut], density=True, bins=np.linspace(-80,80,num=100),weights=Gmas[cut]*fHI[cut])\n",
    "x = 0.5*(bin_edges[1:]+bin_edges[:-1]); y = hist;\n",
    "sigma=10; mean=0;\n",
    "popt,pcov = curve_fit(gaus,x,y,p0=[0.0175,mean,sigma])"
   ]
  },
  {
   "cell_type": "code",
   "execution_count": 26,
   "metadata": {},
   "outputs": [
    {
     "data": {
      "text/plain": [
       "array([1.64386710e-02, 1.03625733e+01, 2.28584694e+01])"
      ]
     },
     "execution_count": 26,
     "metadata": {},
     "output_type": "execute_result"
    }
   ],
   "source": [
    "popt"
   ]
  },
  {
   "cell_type": "code",
   "execution_count": 21,
   "metadata": {},
   "outputs": [
    {
     "name": "stdout",
     "output_type": "stream",
     "text": [
      "6.8481698849951815\n",
      "31.835162114573436\n",
      "32.02935663319558\n"
     ]
    }
   ],
   "source": [
    "print np.average(Gvz[cut],weights=Gmas[cut])\n",
    "print np.std(Gvz[cut])\n",
    "print np.sqrt(np.average(np.square(Gvz[cut]-np.average(Gvz[cut],weights=Gmas[cut])),weights=Gmas[cut]))"
   ]
  },
  {
   "cell_type": "code",
   "execution_count": 22,
   "metadata": {},
   "outputs": [
    {
     "data": {
      "text/plain": [
       "[<matplotlib.lines.Line2D at 0x2accbe60ca50>]"
      ]
     },
     "execution_count": 22,
     "metadata": {},
     "output_type": "execute_result"
    },
    {
     "data": {
      "image/png": "[encoded data removed]",
      "text/plain": [
       "<Figure size 432x288 with 1 Axes>"
      ]
     },
     "metadata": {
      "needs_background": "light"
     },
     "output_type": "display_data"
    }
   ],
   "source": [
    "plt.plot(x,y)\n",
    "plt.plot(x, gaus(x, *popt), 'g--')"
   ]
  },
  {
   "cell_type": "code",
   "execution_count": 85,
   "metadata": {},
   "outputs": [
    {
     "data": {
      "text/plain": [
       "array([-131.96482292, -112.26939294,  -92.57396296,  -72.87853299,\n",
       "        -53.18310301,  -33.48767303,  -13.79224305,    5.90318693,\n",
       "         25.59861691,   45.29404688,   64.98947686,   84.68490684,\n",
       "        104.38033682,  124.0757668 ,  143.77119678,  163.46662675,\n",
       "        183.16205673,  202.85748671,  222.55291669,  242.24834667])"
      ]
     },
     "execution_count": 85,
     "metadata": {},
     "output_type": "execute_result"
    }
   ],
   "source": [
    "x"
   ]
  },
  {
   "cell_type": "code",
   "execution_count": null,
   "metadata": {},
   "outputs": [],
   "source": []
  }
 ],
 "metadata": {
  "kernelspec": {
   "display_name": "Python 2",
   "language": "python",
   "name": "python2"
  },
  "language_info": {
   "codemirror_mode": {
    "name": "ipython",
    "version": 2
   },
   "file_extension": ".py",
   "mimetype": "text/x-python",
   "name": "python",
   "nbconvert_exporter": "python",
   "pygments_lexer": "ipython2",
   "version": "2.7.15"
  }
 },
 "nbformat": 4,
 "nbformat_minor": 2
}
