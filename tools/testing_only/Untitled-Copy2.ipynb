{
 "cells": [
  {
   "cell_type": "code",
   "execution_count": 1,
   "metadata": {},
   "outputs": [
    {
     "name": "stderr",
     "output_type": "stream",
     "text": [
      "/home/tkc004/graphics_library.py:2: UserWarning: \n",
      "This call to matplotlib.use() has no effect because the backend has already\n",
      "been chosen; matplotlib.use() must be called *before* pylab, matplotlib.pyplot,\n",
      "or matplotlib.backends is imported for the first time.\n",
      "\n",
      "The backend was *originally* set to 'module://ipykernel.pylab.backend_inline' by the following code:\n",
      "  File \"/home/tkc004/oasis/yt/yt-conda/lib/python2.7/runpy.py\", line 174, in _run_module_as_main\n",
      "    \"__main__\", fname, loader, pkg_name)\n",
      "  File \"/home/tkc004/oasis/yt/yt-conda/lib/python2.7/runpy.py\", line 72, in _run_code\n",
      "    exec code in run_globals\n",
      "  File \"/oasis/projects/nsf/csd478/tkc004/yt/yt-conda/lib/python2.7/site-packages/ipykernel_launcher.py\", line 16, in <module>\n",
      "    app.launch_new_instance()\n",
      "  File \"/home/tkc004/oasis/yt/yt-conda/lib/python2.7/site-packages/traitlets/config/application.py\", line 658, in launch_instance\n",
      "    app.start()\n",
      "  File \"/home/tkc004/oasis/yt/yt-conda/lib/python2.7/site-packages/ipykernel/kernelapp.py\", line 499, in start\n",
      "    self.io_loop.start()\n",
      "  File \"/home/tkc004/oasis/yt/yt-conda/lib/python2.7/site-packages/tornado/ioloop.py\", line 1017, in start\n",
      "    self._run_callback(self._callbacks.popleft())\n",
      "  File \"/home/tkc004/oasis/yt/yt-conda/lib/python2.7/site-packages/tornado/ioloop.py\", line 758, in _run_callback\n",
      "    ret = callback()\n",
      "  File \"/home/tkc004/oasis/yt/yt-conda/lib/python2.7/site-packages/tornado/stack_context.py\", line 300, in null_wrapper\n",
      "    return fn(*args, **kwargs)\n",
      "  File \"/home/tkc004/oasis/yt/yt-conda/lib/python2.7/site-packages/zmq/eventloop/zmqstream.py\", line 542, in <lambda>\n",
      "    self.io_loop.add_callback(lambda : self._handle_events(self.socket, 0))\n",
      "  File \"/home/tkc004/oasis/yt/yt-conda/lib/python2.7/site-packages/zmq/eventloop/zmqstream.py\", line 456, in _handle_events\n",
      "    self._handle_recv()\n",
      "  File \"/home/tkc004/oasis/yt/yt-conda/lib/python2.7/site-packages/zmq/eventloop/zmqstream.py\", line 486, in _handle_recv\n",
      "    self._run_callback(callback, msg)\n",
      "  File \"/home/tkc004/oasis/yt/yt-conda/lib/python2.7/site-packages/zmq/eventloop/zmqstream.py\", line 438, in _run_callback\n",
      "    callback(*args, **kwargs)\n",
      "  File \"/home/tkc004/oasis/yt/yt-conda/lib/python2.7/site-packages/tornado/stack_context.py\", line 300, in null_wrapper\n",
      "    return fn(*args, **kwargs)\n",
      "  File \"/home/tkc004/oasis/yt/yt-conda/lib/python2.7/site-packages/ipykernel/kernelbase.py\", line 283, in dispatcher\n",
      "    return self.dispatch_shell(stream, msg)\n",
      "  File \"/home/tkc004/oasis/yt/yt-conda/lib/python2.7/site-packages/ipykernel/kernelbase.py\", line 233, in dispatch_shell\n",
      "    handler(stream, idents, msg)\n",
      "  File \"/home/tkc004/oasis/yt/yt-conda/lib/python2.7/site-packages/ipykernel/kernelbase.py\", line 399, in execute_request\n",
      "    user_expressions, allow_stdin)\n",
      "  File \"/home/tkc004/oasis/yt/yt-conda/lib/python2.7/site-packages/ipykernel/ipkernel.py\", line 208, in do_execute\n",
      "    res = shell.run_cell(code, store_history=store_history, silent=silent)\n",
      "  File \"/home/tkc004/oasis/yt/yt-conda/lib/python2.7/site-packages/ipykernel/zmqshell.py\", line 537, in run_cell\n",
      "    return super(ZMQInteractiveShell, self).run_cell(*args, **kwargs)\n",
      "  File \"/home/tkc004/oasis/yt/yt-conda/lib/python2.7/site-packages/IPython/core/interactiveshell.py\", line 2714, in run_cell\n",
      "    interactivity=interactivity, compiler=compiler, result=result)\n",
      "  File \"/home/tkc004/oasis/yt/yt-conda/lib/python2.7/site-packages/IPython/core/interactiveshell.py\", line 2818, in run_ast_nodes\n",
      "    if self.run_code(code, result):\n",
      "  File \"/home/tkc004/oasis/yt/yt-conda/lib/python2.7/site-packages/IPython/core/interactiveshell.py\", line 2878, in run_code\n",
      "    exec(code_obj, self.user_global_ns, self.user_ns)\n",
      "  File \"<ipython-input-1-7c2c11cd9aaf>\", line 1, in <module>\n",
      "    from stdmodandoption import *\n",
      "  File \"/home/tkc004/samsonprogram/tools/stdmodandoption.py\", line 6, in <module>\n",
      "    import matplotlib.pyplot as plt\n",
      "  File \"/home/tkc004/oasis/yt/yt-conda/lib/python2.7/site-packages/matplotlib/pyplot.py\", line 71, in <module>\n",
      "    from matplotlib.backends import pylab_setup\n",
      "  File \"/home/tkc004/oasis/yt/yt-conda/lib/python2.7/site-packages/matplotlib/backends/__init__.py\", line 16, in <module>\n",
      "    line for line in traceback.format_stack()\n",
      "\n",
      "\n",
      "  matplotlib.use('Agg')\n",
      "/home/tkc004/graphics_library.py:8: UserWarning: \n",
      "This call to matplotlib.use() has no effect because the backend has already\n",
      "been chosen; matplotlib.use() must be called *before* pylab, matplotlib.pyplot,\n",
      "or matplotlib.backends is imported for the first time.\n",
      "\n",
      "The backend was *originally* set to 'module://ipykernel.pylab.backend_inline' by the following code:\n",
      "  File \"/home/tkc004/oasis/yt/yt-conda/lib/python2.7/runpy.py\", line 174, in _run_module_as_main\n",
      "    \"__main__\", fname, loader, pkg_name)\n",
      "  File \"/home/tkc004/oasis/yt/yt-conda/lib/python2.7/runpy.py\", line 72, in _run_code\n",
      "    exec code in run_globals\n",
      "  File \"/oasis/projects/nsf/csd478/tkc004/yt/yt-conda/lib/python2.7/site-packages/ipykernel_launcher.py\", line 16, in <module>\n",
      "    app.launch_new_instance()\n",
      "  File \"/home/tkc004/oasis/yt/yt-conda/lib/python2.7/site-packages/traitlets/config/application.py\", line 658, in launch_instance\n",
      "    app.start()\n",
      "  File \"/home/tkc004/oasis/yt/yt-conda/lib/python2.7/site-packages/ipykernel/kernelapp.py\", line 499, in start\n",
      "    self.io_loop.start()\n",
      "  File \"/home/tkc004/oasis/yt/yt-conda/lib/python2.7/site-packages/tornado/ioloop.py\", line 1017, in start\n",
      "    self._run_callback(self._callbacks.popleft())\n",
      "  File \"/home/tkc004/oasis/yt/yt-conda/lib/python2.7/site-packages/tornado/ioloop.py\", line 758, in _run_callback\n",
      "    ret = callback()\n",
      "  File \"/home/tkc004/oasis/yt/yt-conda/lib/python2.7/site-packages/tornado/stack_context.py\", line 300, in null_wrapper\n",
      "    return fn(*args, **kwargs)\n",
      "  File \"/home/tkc004/oasis/yt/yt-conda/lib/python2.7/site-packages/zmq/eventloop/zmqstream.py\", line 542, in <lambda>\n",
      "    self.io_loop.add_callback(lambda : self._handle_events(self.socket, 0))\n",
      "  File \"/home/tkc004/oasis/yt/yt-conda/lib/python2.7/site-packages/zmq/eventloop/zmqstream.py\", line 456, in _handle_events\n",
      "    self._handle_recv()\n",
      "  File \"/home/tkc004/oasis/yt/yt-conda/lib/python2.7/site-packages/zmq/eventloop/zmqstream.py\", line 486, in _handle_recv\n",
      "    self._run_callback(callback, msg)\n",
      "  File \"/home/tkc004/oasis/yt/yt-conda/lib/python2.7/site-packages/zmq/eventloop/zmqstream.py\", line 438, in _run_callback\n",
      "    callback(*args, **kwargs)\n",
      "  File \"/home/tkc004/oasis/yt/yt-conda/lib/python2.7/site-packages/tornado/stack_context.py\", line 300, in null_wrapper\n",
      "    return fn(*args, **kwargs)\n",
      "  File \"/home/tkc004/oasis/yt/yt-conda/lib/python2.7/site-packages/ipykernel/kernelbase.py\", line 283, in dispatcher\n",
      "    return self.dispatch_shell(stream, msg)\n",
      "  File \"/home/tkc004/oasis/yt/yt-conda/lib/python2.7/site-packages/ipykernel/kernelbase.py\", line 233, in dispatch_shell\n",
      "    handler(stream, idents, msg)\n",
      "  File \"/home/tkc004/oasis/yt/yt-conda/lib/python2.7/site-packages/ipykernel/kernelbase.py\", line 399, in execute_request\n",
      "    user_expressions, allow_stdin)\n",
      "  File \"/home/tkc004/oasis/yt/yt-conda/lib/python2.7/site-packages/ipykernel/ipkernel.py\", line 208, in do_execute\n",
      "    res = shell.run_cell(code, store_history=store_history, silent=silent)\n",
      "  File \"/home/tkc004/oasis/yt/yt-conda/lib/python2.7/site-packages/ipykernel/zmqshell.py\", line 537, in run_cell\n",
      "    return super(ZMQInteractiveShell, self).run_cell(*args, **kwargs)\n",
      "  File \"/home/tkc004/oasis/yt/yt-conda/lib/python2.7/site-packages/IPython/core/interactiveshell.py\", line 2714, in run_cell\n",
      "    interactivity=interactivity, compiler=compiler, result=result)\n",
      "  File \"/home/tkc004/oasis/yt/yt-conda/lib/python2.7/site-packages/IPython/core/interactiveshell.py\", line 2818, in run_ast_nodes\n",
      "    if self.run_code(code, result):\n",
      "  File \"/home/tkc004/oasis/yt/yt-conda/lib/python2.7/site-packages/IPython/core/interactiveshell.py\", line 2878, in run_code\n",
      "    exec(code_obj, self.user_global_ns, self.user_ns)\n",
      "  File \"<ipython-input-1-7c2c11cd9aaf>\", line 1, in <module>\n",
      "    from stdmodandoption import *\n",
      "  File \"/home/tkc004/samsonprogram/tools/stdmodandoption.py\", line 6, in <module>\n",
      "    import matplotlib.pyplot as plt\n",
      "  File \"/home/tkc004/oasis/yt/yt-conda/lib/python2.7/site-packages/matplotlib/pyplot.py\", line 71, in <module>\n",
      "    from matplotlib.backends import pylab_setup\n",
      "  File \"/home/tkc004/oasis/yt/yt-conda/lib/python2.7/site-packages/matplotlib/backends/__init__.py\", line 16, in <module>\n",
      "    line for line in traceback.format_stack()\n",
      "\n",
      "\n",
      "  matplotlib.use('Agg')\n",
      "/home/tkc004/graphics_library.py:10: UserWarning: \n",
      "This call to matplotlib.use() has no effect because the backend has already\n",
      "been chosen; matplotlib.use() must be called *before* pylab, matplotlib.pyplot,\n",
      "or matplotlib.backends is imported for the first time.\n",
      "\n",
      "The backend was *originally* set to 'module://ipykernel.pylab.backend_inline' by the following code:\n",
      "  File \"/home/tkc004/oasis/yt/yt-conda/lib/python2.7/runpy.py\", line 174, in _run_module_as_main\n",
      "    \"__main__\", fname, loader, pkg_name)\n",
      "  File \"/home/tkc004/oasis/yt/yt-conda/lib/python2.7/runpy.py\", line 72, in _run_code\n",
      "    exec code in run_globals\n",
      "  File \"/oasis/projects/nsf/csd478/tkc004/yt/yt-conda/lib/python2.7/site-packages/ipykernel_launcher.py\", line 16, in <module>\n",
      "    app.launch_new_instance()\n",
      "  File \"/home/tkc004/oasis/yt/yt-conda/lib/python2.7/site-packages/traitlets/config/application.py\", line 658, in launch_instance\n",
      "    app.start()\n",
      "  File \"/home/tkc004/oasis/yt/yt-conda/lib/python2.7/site-packages/ipykernel/kernelapp.py\", line 499, in start\n",
      "    self.io_loop.start()\n",
      "  File \"/home/tkc004/oasis/yt/yt-conda/lib/python2.7/site-packages/tornado/ioloop.py\", line 1017, in start\n",
      "    self._run_callback(self._callbacks.popleft())\n",
      "  File \"/home/tkc004/oasis/yt/yt-conda/lib/python2.7/site-packages/tornado/ioloop.py\", line 758, in _run_callback\n",
      "    ret = callback()\n",
      "  File \"/home/tkc004/oasis/yt/yt-conda/lib/python2.7/site-packages/tornado/stack_context.py\", line 300, in null_wrapper\n",
      "    return fn(*args, **kwargs)\n",
      "  File \"/home/tkc004/oasis/yt/yt-conda/lib/python2.7/site-packages/zmq/eventloop/zmqstream.py\", line 542, in <lambda>\n",
      "    self.io_loop.add_callback(lambda : self._handle_events(self.socket, 0))\n",
      "  File \"/home/tkc004/oasis/yt/yt-conda/lib/python2.7/site-packages/zmq/eventloop/zmqstream.py\", line 456, in _handle_events\n",
      "    self._handle_recv()\n",
      "  File \"/home/tkc004/oasis/yt/yt-conda/lib/python2.7/site-packages/zmq/eventloop/zmqstream.py\", line 486, in _handle_recv\n",
      "    self._run_callback(callback, msg)\n",
      "  File \"/home/tkc004/oasis/yt/yt-conda/lib/python2.7/site-packages/zmq/eventloop/zmqstream.py\", line 438, in _run_callback\n",
      "    callback(*args, **kwargs)\n",
      "  File \"/home/tkc004/oasis/yt/yt-conda/lib/python2.7/site-packages/tornado/stack_context.py\", line 300, in null_wrapper\n",
      "    return fn(*args, **kwargs)\n",
      "  File \"/home/tkc004/oasis/yt/yt-conda/lib/python2.7/site-packages/ipykernel/kernelbase.py\", line 283, in dispatcher\n",
      "    return self.dispatch_shell(stream, msg)\n",
      "  File \"/home/tkc004/oasis/yt/yt-conda/lib/python2.7/site-packages/ipykernel/kernelbase.py\", line 233, in dispatch_shell\n",
      "    handler(stream, idents, msg)\n",
      "  File \"/home/tkc004/oasis/yt/yt-conda/lib/python2.7/site-packages/ipykernel/kernelbase.py\", line 399, in execute_request\n",
      "    user_expressions, allow_stdin)\n",
      "  File \"/home/tkc004/oasis/yt/yt-conda/lib/python2.7/site-packages/ipykernel/ipkernel.py\", line 208, in do_execute\n",
      "    res = shell.run_cell(code, store_history=store_history, silent=silent)\n",
      "  File \"/home/tkc004/oasis/yt/yt-conda/lib/python2.7/site-packages/ipykernel/zmqshell.py\", line 537, in run_cell\n",
      "    return super(ZMQInteractiveShell, self).run_cell(*args, **kwargs)\n",
      "  File \"/home/tkc004/oasis/yt/yt-conda/lib/python2.7/site-packages/IPython/core/interactiveshell.py\", line 2714, in run_cell\n",
      "    interactivity=interactivity, compiler=compiler, result=result)\n",
      "  File \"/home/tkc004/oasis/yt/yt-conda/lib/python2.7/site-packages/IPython/core/interactiveshell.py\", line 2818, in run_ast_nodes\n",
      "    if self.run_code(code, result):\n",
      "  File \"/home/tkc004/oasis/yt/yt-conda/lib/python2.7/site-packages/IPython/core/interactiveshell.py\", line 2878, in run_code\n",
      "    exec(code_obj, self.user_global_ns, self.user_ns)\n",
      "  File \"<ipython-input-1-7c2c11cd9aaf>\", line 1, in <module>\n",
      "    from stdmodandoption import *\n",
      "  File \"/home/tkc004/samsonprogram/tools/stdmodandoption.py\", line 6, in <module>\n",
      "    import matplotlib.pyplot as plt\n",
      "  File \"/home/tkc004/oasis/yt/yt-conda/lib/python2.7/site-packages/matplotlib/pyplot.py\", line 71, in <module>\n",
      "    from matplotlib.backends import pylab_setup\n",
      "  File \"/home/tkc004/oasis/yt/yt-conda/lib/python2.7/site-packages/matplotlib/backends/__init__.py\", line 16, in <module>\n",
      "    line for line in traceback.format_stack()\n",
      "\n",
      "\n",
      "  matplotlib.use('Agg')\n"
     ]
    },
    {
     "name": "stdout",
     "output_type": "stream",
     "text": [
      "rundir /m12i_mass7000_MHDCR_tkFIX/cr_700/\n",
      "loading file : /home/tkc004//oasis/philruns///m12i_mass7000_MHDCR_tkFIX/cr_700///output//snapdir_600/snapshot_600.0.hdf5\n",
      "npart_file:  [17197632 19107204  1167628        0  1376337        0]\n",
      "npart_total: [65046705 70514272  5513331        0  5550264        0]\n",
      "flag_cooling 1\n",
      "this time 1.0\n",
      "hubble 0.702\n",
      "atime 1.0\n",
      "loading file : /home/tkc004//oasis/philruns///m12i_mass7000_MHDCR_tkFIX/cr_700///output//snapdir_600/snapshot_600.0.hdf5\n",
      "npart_file:  [17197632 19107204  1167628        0  1376337        0]\n",
      "npart_total: [65046705 70514272  5513331        0  5550264        0]\n",
      "flag_cooling 1\n",
      "xvcen, yvcen, zvcen -48.4 73.38 95.92\n",
      "rundir /m12i_mass7000_MHDCR_tkFIX/cr_700/\n",
      "Gvx,Gvy,Gvz -2.729488029900044 0.6729063456611777 1.3420452439777202\n",
      "loading file : /home/tkc004//oasis/philruns///m12i_mass7000_MHDCR_tkFIX/cr_700///output//snapdir_600/snapshot_600.0.hdf5\n",
      "npart_file:  [17197632 19107204  1167628        0  1376337        0]\n",
      "npart_total: [65046705 70514272  5513331        0  5550264        0]\n",
      "flag_cooling 1\n",
      "this time 1.0\n",
      "hubble 0.702\n",
      "atime 1.0\n",
      "loading file : /home/tkc004//oasis/philruns///m12i_mass7000_MHDCR_tkFIX/cr_700///output//snapdir_600/snapshot_600.0.hdf5\n",
      "npart_file:  [17197632 19107204  1167628        0  1376337        0]\n",
      "npart_total: [65046705 70514272  5513331        0  5550264        0]\n",
      "flag_cooling 1\n",
      "xvcen, yvcen, zvcen -48.4 73.38 95.92\n",
      "rundir /m12i_mass7000_MHDCR_tkFIX/cr_700/\n",
      "Gvx,Gvy,Gvz -24.296121589126866 25.88280594998608 -7.470257859324267\n"
     ]
    }
   ],
   "source": [
    "from stdmodandoption import *\n",
    "\n",
    "wanted='nsrad'\n",
    "dirneed = ['m12icr_700hr']\n",
    "the_prefix = 'snapshot'\n",
    "the_suffix = '.hdf5'\n",
    "\n",
    "\n",
    "if wanted=='sfrrad' or wanted=='nsrad' or wanted == 'cumnsmrad':\n",
    "    withinr = 15.\n",
    "    minr = 0.5\n",
    "    maxlength=0.25\n",
    "    usecen=0\n",
    "    normalized=1\n",
    "    usenscen=1\n",
    "    usesphrad=1\n",
    "    uselog=1\n",
    "    Myrneed=600\n",
    "    ageneed=200 #Myr\n",
    "    radlist = np.linspace(minr, withinr,10)\n",
    "    for runtodo in dirneed:\n",
    "        info=SSF.outdirname(runtodo, Myrneed)\n",
    "        rundir=info['rundir']\n",
    "        runtitle=info['runtitle']\n",
    "        slabel=info['slabel']\n",
    "        snlabel=info['snlabel']\n",
    "        dclabel=info['dclabel']\n",
    "        resolabel=info['resolabel']\n",
    "        the_snapdir=info['the_snapdir']\n",
    "        Nsnapstring=info['Nsnapstring']\n",
    "        havecr=info['havecr']\n",
    "        haveB=info['haveB']\n",
    "        Fcal=info['Fcal']\n",
    "        iavesfr=info['iavesfr']\n",
    "        timestep=info['timestep']\n",
    "        color=info['color']\n",
    "        h0=info['h0']\n",
    "        cosmo=info['cosmo']\n",
    "        usepep=info['usepep']\n",
    "        maindir=info['maindir']\n",
    "        snumadd=info['snumadd']\n",
    "        halostr=info['halostr']\n",
    "        rotface = 1\n",
    "        loccen = 1\n",
    "        S = SSF.readsnapwcen(the_snapdir, Nsnapstring, 4, snapshot_name=the_prefix, extension=the_suffix,\\\n",
    "         havecr=havecr,h0=h0,cosmo=cosmo, usepep=usepep, maindir=maindir,snumadd=snumadd,rotface=rotface,\\\n",
    "         loccen=loccen,runtodo=runtodo,rundir=rundir,halostr=halostr)\n",
    "        Sage = S['age']\n",
    "        Spos = S['p']\n",
    "        Sx = Spos[:,0]\n",
    "        Sy = Spos[:,1]\n",
    "        Sz = Spos[:,2]\n",
    "        Sm = S['m']\n",
    "        agecutlow = np.amax(Sage)-0.001*ageneed\n",
    "        agecuthigh = np.amax(Sage)\n",
    "        cuta = (Sage> agecutlow) & (Sage <agecuthigh)\n",
    "        Sx=Sx[cuta]; Sy=Sy[cuta]; Sz=Sz[cuta]; Sm=Sm[cuta];\n",
    "        G = SSF.readsnapwcen(the_snapdir, Nsnapstring, 0, snapshot_name=the_prefix, extension=the_suffix,\\\n",
    "         havecr=havecr,h0=h0,cosmo=cosmo, usepep=usepep, maindir=maindir,snumadd=snumadd,rotface=rotface,\\\n",
    "         loccen=loccen,runtodo=runtodo,rundir=rundir,halostr=halostr)"
   ]
  },
  {
   "cell_type": "code",
   "execution_count": 2,
   "metadata": {},
   "outputs": [
    {
     "name": "stdout",
     "output_type": "stream",
     "text": [
      "Gsurdenlist [8.76831665 7.13646134 4.9973609  3.10119392 3.11952621 1.70320696\n",
      " 1.12079682 1.9927679  0.96428287 0.        ]\n",
      "Ssurdenlist [148.12977111  20.3340887    7.64555623   3.51440295   1.79058894\n",
      "   0.89310909   0.60978871   0.43312573   0.18509852   0.        ]\n",
      "disksurdenlist [156.89808776  27.47055005  12.64291713   6.61559687   4.91011515\n",
      "   2.59631606   1.73058553   2.42589363   1.14938139   0.        ]\n"
     ]
    }
   ],
   "source": [
    "Gsurdenlist = SSF.calsurden(G,radlist,maxlength)\n",
    "print 'Gsurdenlist', Gsurdenlist\n",
    "Ssurdenlist = SSF.calsurden(S,radlist,maxlength)\n",
    "print 'Ssurdenlist', Ssurdenlist\n",
    "print 'disksurdenlist', Ssurdenlist+Gsurdenlist"
   ]
  },
  {
   "cell_type": "code",
   "execution_count": 2,
   "metadata": {},
   "outputs": [
    {
     "name": "stdout",
     "output_type": "stream",
     "text": [
      "1.0 13798932000.0\n",
      "0.9992823372690401\n"
     ]
    }
   ],
   "source": [
    "timenow = S['header'][2]\n",
    "timenow_in_yr = SSF.ascaletoyear(timenow)\n",
    "pretime = SSF.yeartoascale(timenow_in_yr-1e7)\n",
    "timeneed=timenow\n",
    "print timenow, timenow_in_yr\n",
    "print pretime"
   ]
  },
  {
   "cell_type": "code",
   "execution_count": null,
   "metadata": {},
   "outputs": [],
   "source": [
    "SSF.calsfr(S,tintval=0.01,cosmo=1)"
   ]
  },
  {
   "cell_type": "code",
   "execution_count": 4,
   "metadata": {},
   "outputs": [
    {
     "name": "stdout",
     "output_type": "stream",
     "text": [
      "radlist [ 0.5         2.11111111  3.72222222  5.33333333  6.94444444  8.55555556\n",
      " 10.16666667 11.77777778 13.38888889 15.        ]\n"
     ]
    }
   ],
   "source": [
    "print 'radlist', radlist"
   ]
  },
  {
   "cell_type": "code",
   "execution_count": 14,
   "metadata": {},
   "outputs": [
    {
     "name": "stdout",
     "output_type": "stream",
     "text": [
      "Gmcutzr 5.131461229518665e+42\n"
     ]
    }
   ],
   "source": [
    "energydata = CRTF.calenergyoutput(G,cylz=1.0)"
   ]
  },
  {
   "cell_type": "code",
   "execution_count": 15,
   "metadata": {},
   "outputs": [
    {
     "name": "stdout",
     "output_type": "stream",
     "text": [
      "[-0.134      -0.134      -0.134      ...  6.57644701  7.99545307\n",
      "  8.91523964] [ 1.64102671e-17  1.64102671e-17  1.64102671e-17 ... -6.09863147e+00\n",
      " -4.06395020e+00 -9.80542321e-01] [-0.376 -0.128  0.12  ...  0.496  0.496  0.496]\n",
      "np.amin(zcell[cut]) 0.496\n",
      "2.6425047710563373e-12\n"
     ]
    }
   ],
   "source": [
    "turl=energydata['turl']\n",
    "gvcell=energydata['gvcell']\n",
    "xcell = energydata['xcell']\n",
    "ycell = energydata['ycell']\n",
    "zcell = energydata['zcell']\n",
    "print xcell, ycell, zcell\n",
    "rcell = np.sqrt(xcell*xcell+ycell*ycell)\n",
    "cut = rcell<5.0\n",
    "print 'np.amin(zcell[cut])', np.amax(zcell[cut])\n",
    "print np.sum(turl[cut])/np.sum(gvcell[cut])"
   ]
  },
  {
   "cell_type": "code",
   "execution_count": 16,
   "metadata": {},
   "outputs": [
    {
     "name": "stdout",
     "output_type": "stream",
     "text": [
      "5.131461229518665e+42\n"
     ]
    }
   ],
   "source": [
    "gml=energydata['gml']\n",
    "print np.sum(gml)"
   ]
  },
  {
   "cell_type": "code",
   "execution_count": 3,
   "metadata": {},
   "outputs": [
    {
     "data": {
      "text/plain": [
       "array([0.0420767 , 0.0420767 , 0.0420767 , ..., 0.29052918, 0.29052918,\n",
       "       0.29052918])"
      ]
     },
     "execution_count": 3,
     "metadata": {},
     "output_type": "execute_result"
    }
   ],
   "source": [
    "2.0*3.14/energydata['Omegal']/Gyr_in_sec #Gyr to circle around the galactic center"
   ]
  },
  {
   "cell_type": "code",
   "execution_count": 30,
   "metadata": {},
   "outputs": [
    {
     "name": "stderr",
     "output_type": "stream",
     "text": [
      "/home/tkc004/samsonprogram/tools/crtestfunction.py:1806: RuntimeWarning: invalid value encountered in double_scalars\n",
      "  Gztur = np.sum(Gm[cut]*np.square(Gvz[cut]-vzave))\n",
      "/home/tkc004/samsonprogram/tools/crtestfunction.py:1813: RuntimeWarning: invalid value encountered in double_scalars\n",
      "  pcr = Gcregycut/Gvolcut*(CRgamma-1.0)\n",
      "/home/tkc004/samsonprogram/tools/crtestfunction.py:1816: RuntimeWarning: invalid value encountered in double_scalars\n",
      "  Begy_2Bzcut = np.sum(Begy_2Bz[cut])\n",
      "/home/tkc004/samsonprogram/tools/crtestfunction.py:1820: RuntimeWarning: invalid value encountered in double_scalars\n",
      "  rhol = np.append(rhol,rho)\n"
     ]
    }
   ],
   "source": [
    "dx=dy=dz=0.5;\n",
    "zlist = np.linspace(0.01,10.0,num=10)\n",
    "ylist=zlist*0.0+10.0\n",
    "xlist=zlist*0.0\n",
    "data = CRTF.pressureXYZ(G, xlist, ylist, zlist, dx, dy, dz,havecr=1,haveB=1)"
   ]
  },
  {
   "cell_type": "code",
   "execution_count": 27,
   "metadata": {
    "scrolled": true
   },
   "outputs": [
    {
     "name": "stdout",
     "output_type": "stream",
     "text": [
      "pcrl [6.37867087e-13 5.55487067e-13 3.84472105e-13 3.46086985e-13\n",
      " 3.06485491e-13 3.05753742e-13 3.30519176e-13 2.84936110e-13\n",
      " 2.41234098e-13 2.07162605e-13]\n",
      "[-8.23800192e-14 -1.71014962e-13 -3.83851201e-14 -3.96014943e-14\n",
      " -7.31749101e-16  2.47654339e-14 -4.55830659e-14 -4.37020115e-14\n",
      " -3.40714936e-14]\n",
      "pturl [7.61664704e-13 1.06511307e-12 5.06888481e-14 1.14792544e-14\n",
      " 2.54661896e-15 6.23205422e-15 5.95420548e-16 2.18068669e-16\n",
      " 8.39617776e-16 1.68141904e-15]\n",
      "[ 3.03448370e-13 -1.01442423e-12 -3.92095937e-14 -8.93263542e-15\n",
      "  3.68543526e-15 -5.63663368e-15 -3.77351878e-16  6.21549106e-16\n",
      "  8.41801263e-16]\n"
     ]
    }
   ],
   "source": [
    "pcrl = data['pcrl']\n",
    "print 'pcrl', pcrl\n",
    "print pcrl[1:]-pcrl[:-1]\n",
    "pturl = data['pturl']\n",
    "print 'pturl', pturl\n",
    "print pturl[1:]-pturl[:-1]"
   ]
  },
  {
   "cell_type": "code",
   "execution_count": 31,
   "metadata": {},
   "outputs": [
    {
     "name": "stdout",
     "output_type": "stream",
     "text": [
      "pcrl [5.99360652e-13 5.71026200e-13 3.81293283e-13 3.44480064e-13\n",
      " 3.07377606e-13            nan 3.30417029e-13            nan\n",
      "            nan            nan]\n",
      "[-2.83344526e-14 -1.89732917e-13 -3.68132187e-14 -3.71024582e-14\n",
      "             nan             nan             nan             nan\n",
      "             nan]\n",
      "pturl [2.15590313e-13 3.75839734e-13 2.50503170e-14 1.64682189e-15\n",
      " 0.00000000e+00            nan 0.00000000e+00            nan\n",
      "            nan            nan]\n",
      "[ 1.60249421e-13 -3.50789417e-13 -2.34034951e-14 -1.64682189e-15\n",
      "             nan             nan             nan             nan\n",
      "             nan]\n"
     ]
    }
   ],
   "source": [
    "pcrl = data['pcrl']\n",
    "print 'pcrl', pcrl\n",
    "print pcrl[1:]-pcrl[:-1]\n",
    "pturl = data['pturl']\n",
    "print 'pturl', pturl\n",
    "print pturl[1:]-pturl[:-1]"
   ]
  },
  {
   "cell_type": "code",
   "execution_count": 5,
   "metadata": {
    "scrolled": true
   },
   "outputs": [
    {
     "name": "stdout",
     "output_type": "stream",
     "text": [
      "[0.09977991 0.09977991 0.09977991 ... 8.85803332 8.85803332 8.85803332]\n"
     ]
    }
   ],
   "source": [
    "rxyc = np.sqrt(xcell*xcell+ycell*ycell); print rxyc"
   ]
  },
  {
   "cell_type": "code",
   "execution_count": 6,
   "metadata": {},
   "outputs": [],
   "source": [
    "kappa = 1.4*2*np.pi/0.29/Gyr_in_sec; sigmadisk = 5*Msun_in_g/pc_in_cm/pc_in_cm"
   ]
  },
  {
   "cell_type": "code",
   "execution_count": 7,
   "metadata": {},
   "outputs": [
    {
     "data": {
      "text/plain": [
       "2.308701258782202"
      ]
     },
     "execution_count": 7,
     "metadata": {},
     "output_type": "execute_result"
    }
   ],
   "source": [
    "3.14*NewtonG_in_cgs*sigmadisk/kappa/km_in_cm"
   ]
  },
  {
   "cell_type": "code",
   "execution_count": 8,
   "metadata": {},
   "outputs": [
    {
     "name": "stdout",
     "output_type": "stream",
     "text": [
      "turl [2.57743272e+53 2.59038347e+53 1.37790199e+53 ... 3.87128240e+49\n",
      " 6.32418474e+49 1.85967479e+50]\n"
     ]
    }
   ],
   "source": [
    "turl = energydata['turl']; print 'turl', turl"
   ]
  },
  {
   "cell_type": "code",
   "execution_count": 9,
   "metadata": {},
   "outputs": [
    {
     "name": "stdout",
     "output_type": "stream",
     "text": [
      "gml [6.47324280e+39 6.85411982e+39 6.45293074e+39 ... 1.07420481e+38\n",
      " 1.10477727e+38 1.32704270e+38]\n"
     ]
    }
   ],
   "source": [
    "gml = energydata['gml']; print 'gml', gml"
   ]
  },
  {
   "cell_type": "code",
   "execution_count": 14,
   "metadata": {},
   "outputs": [
    {
     "name": "stdout",
     "output_type": "stream",
     "text": [
      "np.sqrt(2*turl/gml) [89.23756648 86.9403095  65.35001021 ...  8.48982774 10.69990465\n",
      " 16.74137218]\n"
     ]
    }
   ],
   "source": [
    "print 'np.sqrt(2*turl/gml)', np.sqrt(2*turl/gml)/km_in_cm"
   ]
  },
  {
   "cell_type": "code",
   "execution_count": 4,
   "metadata": {},
   "outputs": [],
   "source": []
  },
  {
   "cell_type": "code",
   "execution_count": 9,
   "metadata": {},
   "outputs": [
    {
     "name": "stdout",
     "output_type": "stream",
     "text": [
      "0.011987397938184666\n"
     ]
    }
   ],
   "source": [
    "Gx = G['p'][:,0]; Gy = G['p'][:,1]; Gz = G['p'][:,2]; Gm = G['m']\n",
    "xlist=np.linspace(-10,10,num=20);\n",
    "ylist=xlist\n",
    "zlist=np.linspace(-0.5,0.5,num=20);\n",
    "clustering = SSF.cal3dclustering(Gx,Gy,Gz,Gm,xlist,ylist,zlist)\n",
    "\n",
    "print clustering"
   ]
  },
  {
   "cell_type": "code",
   "execution_count": 4,
   "metadata": {},
   "outputs": [
    {
     "ename": "ValueError",
     "evalue": "need more than 2 values to unpack",
     "output_type": "error",
     "traceback": [
      "\u001b[0;31m---------------------------------------------------------------------------\u001b[0m",
      "\u001b[0;31mValueError\u001b[0m                                Traceback (most recent call last)",
      "\u001b[0;32m<ipython-input-4-9b6349fe8c3d>\u001b[0m in \u001b[0;36m<module>\u001b[0;34m()\u001b[0m\n\u001b[0;32m----> 1\u001b[0;31m \u001b[0mmeshx\u001b[0m\u001b[0;34m,\u001b[0m\u001b[0mmeshy\u001b[0m\u001b[0;34m,\u001b[0m\u001b[0mmeshz\u001b[0m\u001b[0;34m,\u001b[0m\u001b[0mmeshweights\u001b[0m \u001b[0;34m=\u001b[0m \u001b[0mSSF\u001b[0m\u001b[0;34m.\u001b[0m\u001b[0mdepositandcor3d\u001b[0m\u001b[0;34m(\u001b[0m\u001b[0mGx\u001b[0m\u001b[0;34m,\u001b[0m\u001b[0mGy\u001b[0m\u001b[0;34m,\u001b[0m\u001b[0mGz\u001b[0m\u001b[0;34m,\u001b[0m\u001b[0mGm\u001b[0m\u001b[0;34m,\u001b[0m\u001b[0mxlist\u001b[0m\u001b[0;34m,\u001b[0m\u001b[0mylist\u001b[0m\u001b[0;34m,\u001b[0m\u001b[0mzlist\u001b[0m\u001b[0;34m)\u001b[0m\u001b[0;34m\u001b[0m\u001b[0m\n\u001b[0m",
      "\u001b[0;32m/home/tkc004/samsonprogram/tools/samson_functions.py\u001b[0m in \u001b[0;36mdepositandcor3d\u001b[0;34m(x, y, z, weights, xlist, ylist, zlist)\u001b[0m\n\u001b[1;32m   9892\u001b[0m \u001b[0;32mdef\u001b[0m \u001b[0mdepositandcor3d\u001b[0m\u001b[0;34m(\u001b[0m\u001b[0mx\u001b[0m\u001b[0;34m,\u001b[0m\u001b[0my\u001b[0m\u001b[0;34m,\u001b[0m\u001b[0mz\u001b[0m\u001b[0;34m,\u001b[0m\u001b[0mweights\u001b[0m\u001b[0;34m,\u001b[0m\u001b[0mxlist\u001b[0m\u001b[0;34m,\u001b[0m\u001b[0mylist\u001b[0m\u001b[0;34m,\u001b[0m\u001b[0mzlist\u001b[0m\u001b[0;34m)\u001b[0m\u001b[0;34m:\u001b[0m\u001b[0;34m\u001b[0m\u001b[0m\n\u001b[1;32m   9893\u001b[0m     \u001b[0;31m# deposit weight onto a mesh and then output flattened cordinates and weight values\u001b[0m\u001b[0;34m\u001b[0m\u001b[0;34m\u001b[0m\u001b[0m\n\u001b[0;32m-> 9894\u001b[0;31m     \u001b[0mmeshweights\u001b[0m\u001b[0;34m,\u001b[0m \u001b[0mxedges\u001b[0m\u001b[0;34m,\u001b[0m \u001b[0myedges\u001b[0m\u001b[0;34m,\u001b[0m \u001b[0mzedges\u001b[0m \u001b[0;34m=\u001b[0m \u001b[0mnp\u001b[0m\u001b[0;34m.\u001b[0m\u001b[0mhistogramdd\u001b[0m\u001b[0;34m(\u001b[0m\u001b[0;34m(\u001b[0m\u001b[0mx\u001b[0m\u001b[0;34m,\u001b[0m \u001b[0my\u001b[0m\u001b[0;34m,\u001b[0m \u001b[0mz\u001b[0m\u001b[0;34m)\u001b[0m\u001b[0;34m,\u001b[0m \u001b[0mbins\u001b[0m\u001b[0;34m=\u001b[0m\u001b[0;34m(\u001b[0m\u001b[0mxlist\u001b[0m\u001b[0;34m,\u001b[0m \u001b[0mylist\u001b[0m\u001b[0;34m,\u001b[0m \u001b[0mzlist\u001b[0m\u001b[0;34m)\u001b[0m\u001b[0;34m,\u001b[0m\u001b[0mweights\u001b[0m\u001b[0;34m=\u001b[0m\u001b[0mweights\u001b[0m\u001b[0;34m)\u001b[0m\u001b[0;34m\u001b[0m\u001b[0m\n\u001b[0m\u001b[1;32m   9895\u001b[0m     \u001b[0mmeshweights\u001b[0m \u001b[0;34m=\u001b[0m \u001b[0mnp\u001b[0m\u001b[0;34m.\u001b[0m\u001b[0mravel\u001b[0m\u001b[0;34m(\u001b[0m\u001b[0mmeshweights\u001b[0m\u001b[0;34m)\u001b[0m\u001b[0;34m\u001b[0m\u001b[0m\n\u001b[1;32m   9896\u001b[0m     \u001b[0mxlistm\u001b[0m \u001b[0;34m=\u001b[0m \u001b[0;34m(\u001b[0m\u001b[0mxlist\u001b[0m\u001b[0;34m[\u001b[0m\u001b[0;36m1\u001b[0m\u001b[0;34m:\u001b[0m\u001b[0;34m]\u001b[0m\u001b[0;34m+\u001b[0m\u001b[0mxlist\u001b[0m\u001b[0;34m[\u001b[0m\u001b[0;34m:\u001b[0m\u001b[0;34m-\u001b[0m\u001b[0;36m1\u001b[0m\u001b[0;34m]\u001b[0m\u001b[0;34m)\u001b[0m\u001b[0;34m/\u001b[0m\u001b[0;36m2.\u001b[0m\u001b[0;34m\u001b[0m\u001b[0m\n",
      "\u001b[0;31mValueError\u001b[0m: need more than 2 values to unpack"
     ]
    }
   ],
   "source": [
    "meshx,meshy,meshz,meshweights = SSF.depositandcor3d(Gx,Gy,Gz,Gm,xlist,ylist,zlist)"
   ]
  },
  {
   "cell_type": "code",
   "execution_count": 9,
   "metadata": {},
   "outputs": [
    {
     "data": {
      "text/plain": [
       "'/home/tkc004/Sasha_functions.pyc'"
      ]
     },
     "execution_count": 9,
     "metadata": {},
     "output_type": "execute_result"
    }
   ],
   "source": [
    "SF.__file__"
   ]
  },
  {
   "cell_type": "code",
   "execution_count": null,
   "metadata": {},
   "outputs": [],
   "source": []
  }
 ],
 "metadata": {
  "kernelspec": {
   "display_name": "Python 2",
   "language": "python",
   "name": "python2"
  },
  "language_info": {
   "codemirror_mode": {
    "name": "ipython",
    "version": 2
   },
   "file_extension": ".py",
   "mimetype": "text/x-python",
   "name": "python",
   "nbconvert_exporter": "python",
   "pygments_lexer": "ipython2",
   "version": "2.7.15"
  }
 },
 "nbformat": 4,
 "nbformat_minor": 2
}
