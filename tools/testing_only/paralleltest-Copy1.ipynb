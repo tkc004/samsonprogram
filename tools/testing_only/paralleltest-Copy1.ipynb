{
 "cells": [
  {
   "cell_type": "code",
   "execution_count": 1,
   "metadata": {},
   "outputs": [
    {
     "name": "stdout",
     "output_type": "stream",
     "text": [
      "rundir /m12i_mass7000_MHDCR_tkFIX/mhdcv/\n"
     ]
    }
   ],
   "source": [
    "from stdmodandoption import *\n",
    "import time\n",
    "\n",
    "runtodo='m12imhdcvhr'\n",
    "i=580\n",
    "info=SSF.outdirname(runtodo, i)\n",
    "rundir=info['rundir']\n",
    "Nsnapstring=info['Nsnapstring']\n",
    "havecr=info['havecr']\n",
    "haveB=info['haveB']\n",
    "cutcold=0\n",
    "dx=dy=dz=1\n",
    "commonpath='/home/tkc004/scratch/snipshot/philruns/'\n",
    "#SSF.mkdir_p(commonpath+rundir+'/output/withinr200spno100')\n",
    "fname=commonpath+rundir+'/output/withinr200spno100/snipshot_'+Nsnapstring+'.hdf5'\n",
    "data = RSS.readsnipshot(fname,ptypelist = [0,1,4])\n",
    "\n",
    "G = data[0]; DM = data[1]; S = data[2];"
   ]
  },
  {
   "cell_type": "code",
   "execution_count": 2,
   "metadata": {},
   "outputs": [],
   "source": [
    "\n",
    "def calgfromparlocal(G,pos,withinr,spno):\n",
    "    data = SSF.calgfromparlist(G,pos=pos,withinr=withinr,spno=spno)\n",
    "    gxl = data['gx']; gyl = data['gy']; gzl = data['gz'];\n",
    "    return [gxl,gyl,gzl]\n",
    "\n",
    "def calgfromparlocal1(G,pos,withinr,spno,i):\n",
    "    data = SSF.calgfromparlist(G,pos=pos,withinr=withinr,spno=spno)\n",
    "    gxl = data['gx']; gyl = data['gy']; gzl = data['gz'];\n",
    "    return [[i,gxl,gyl,gzl]]\n",
    "\n",
    "def calgfromparlocal3(Glist,pos,withinr,spno,i):\n",
    "    gxl = np.zeros(len(pos)); gyl = np.zeros(len(pos)); gzl = np.zeros(len(pos))\n",
    "    for G in Glist:\n",
    "        data = SSF.calgfromparlist(G,pos=pos,withinr=withinr,spno=spno)\n",
    "        gxl += data['gx']; gyl += data['gy']; gzl += data['gz'];\n",
    "    data = {}\n",
    "    data['gx']=gxl; data['gy']=gyl; data['gz']=gzl;\n",
    "    return [[i,data]]\n",
    "\n",
    "def pressureXYZlocal(G, pos, dx, dy, dz,havecr,haveB,cutcold):\n",
    "    data = CRTF.pressureXYZ(G, pos, dx, dy, dz,havecr=havecr,haveB=haveB,cutcold=cutcold)\n",
    "    return [[i,data]]\n",
    "\n",
    "def calgfromparlocal2(G,withinr,spno,pos):\n",
    "    data = SSF.calgfromparlist(G,pos=pos,withinr=withinr,spno=spno)\n",
    "    gxl = data['gx']; gyl = data['gy']; gzl = data['gz'];\n",
    "    return [gxl,gyl,gzl]\n",
    "\n",
    "def chunks(l, n):\n",
    "    n = max(1, n)\n",
    "    lenl = len(l)\n",
    "    chucklist = [l[i:i+n] for i in xrange(0, lenl, n)]\n",
    "    return chucklist\n",
    "        \n",
    "def collect_results(result):\n",
    "    results.extend(result)\n",
    "    \n",
    "def joindata(results):\n",
    "    argsortlist=np.argsort([results[i][0] for i in range(len(results))])\n",
    "    totdict = np.array([results[i][1] for i in range(len(results))])\n",
    "    totdict=totdict[argsortlist]\n",
    "    comdict={}\n",
    "    for key in totdict[0]:\n",
    "        totarray=np.array([])\n",
    "        for indict in totdict:\n",
    "            totarray = np.append(totarray,indict[key])\n",
    "        comdict[key] = totarray.flatten()\n",
    "    return comdict"
   ]
  },
  {
   "cell_type": "code",
   "execution_count": 12,
   "metadata": {},
   "outputs": [],
   "source": [
    "maxlength=20\n",
    "nogrid=10\n",
    "\n",
    "zmax=maxlength/2.0\n",
    "xlist = ylist = zlist = np.linspace(-zmax,zmax,num=nogrid)\n",
    "xl,yl,zl = np.meshgrid(xlist,ylist,zlist)\n",
    "xl = np.ravel(xl); yl = np.ravel(yl); zl = np.ravel(zl);\n",
    "gxl=np.array([]); gyl=np.array([]); gzl=np.array([]);"
   ]
  },
  {
   "cell_type": "code",
   "execution_count": 13,
   "metadata": {},
   "outputs": [
    {
     "name": "stdout",
     "output_type": "stream",
     "text": [
      "20.5593070984\n"
     ]
    }
   ],
   "source": [
    "\n",
    "start = time.time()\n",
    "for x,y,z in zip(xl,yl,zl):\n",
    "    Gdata = SSF.calgfrompar(G,pos=[x,y,z],withinr=200,spno=1) \n",
    "    Ggx = Gdata['gx']; Ggy = Gdata['gy']; Ggz = Gdata['gz']\n",
    "    Sdata = SSF.calgfrompar(S,pos=[x,y,z],withinr=200,spno=1) \n",
    "    Sgx = Sdata['gx']; Sgy = Sdata['gy']; Sgz = Sdata['gz']\n",
    "    DMdata = SSF.calgfrompar(DM,pos=[x,y,z],withinr=200,spno=1) \n",
    "    DMgx = DMdata['gx']; DMgy = DMdata['gy'];DMgz = DMdata['gz']\n",
    "    gx = Ggx+Sgx+DMgx\n",
    "    gy = Ggy+Sgy+DMgy\n",
    "    gz = Ggz+Sgz+DMgz\n",
    "    gxl=np.append(gxl,gx); gyl=np.append(gyl,gy); gzl=np.append(gzl,gz);\n",
    "end = time.time()\n",
    "print(end - start)\n"
   ]
  },
  {
   "cell_type": "code",
   "execution_count": 4,
   "metadata": {},
   "outputs": [],
   "source": [
    "pos=[]\n",
    "for x,y,z in zip(xl,yl,zl):\n",
    "    pos.append([x,y,z])\n",
    "\n",
    "nocpu = 20\n",
    "\n",
    "lenpos = len(pos)\n",
    "\n",
    "chunksize = lenpos/nocpu\n",
    "\n",
    "listpos = chunks(pos, chunksize)"
   ]
  },
  {
   "cell_type": "code",
   "execution_count": 5,
   "metadata": {},
   "outputs": [
    {
     "name": "stdout",
     "output_type": "stream",
     "text": [
      "4.86760878563\n"
     ]
    }
   ],
   "source": [
    "import multiprocessing as mp\n",
    "\n",
    "start = time.time()\n",
    "\n",
    "\n",
    "withinr=200; spno=1\n",
    "# Step 1: Init multiprocessing.Pool()\n",
    "\n",
    "\n",
    "pool = mp.Pool(nocpu)\n",
    "results=[]\n",
    "\n",
    "# Step 2: `pool.apply` the `howmany_within_range()\n",
    "gxyz = [pool.apply_async(calgfromparlocal3, args=([G,S,DM],xyz,withinr,spno,i), callback=collect_results)  for i, xyz in enumerate(listpos)]\n",
    "\n",
    "# Step 3: Don't forget to close\n",
    "pool.close()\n",
    "pool.join()\n",
    "\n",
    "end = time.time()\n",
    "print(end - start)"
   ]
  },
  {
   "cell_type": "code",
   "execution_count": 225,
   "metadata": {},
   "outputs": [],
   "source": [
    "argsortlist=np.argsort([results[i][0] for i in range(len(results))])\n",
    "gxlist =np.array([results[i][1] for i in range(len(results))])\n",
    "gxlnew = gxlist[argsortlist].flatten()\n",
    "gylist =np.array([results[i][2] for i in range(len(results))])\n",
    "gylnew = gylist[argsortlist].flatten()\n",
    "gzlist =np.array([results[i][3] for i in range(len(results))])\n",
    "gzlnew = gzlist[argsortlist].flatten()"
   ]
  },
  {
   "cell_type": "code",
   "execution_count": 10,
   "metadata": {},
   "outputs": [],
   "source": [
    "comdict=joindata(results)\n",
    "gxlnew = comdict['gx']; gylnew = comdict['gy']; "
   ]
  },
  {
   "cell_type": "code",
   "execution_count": 176,
   "metadata": {},
   "outputs": [
    {
     "data": {
      "text/plain": [
       "array([-4.84727319e-09, -5.12538154e-09, -5.35868326e-09, ...,\n",
       "        5.51469540e-09,  5.24285733e-09,  5.05639773e-09])"
      ]
     },
     "execution_count": 176,
     "metadata": {},
     "output_type": "execute_result"
    }
   ],
   "source": [
    "gxl"
   ]
  },
  {
   "cell_type": "code",
   "execution_count": 177,
   "metadata": {},
   "outputs": [
    {
     "data": {
      "text/plain": [
       "array([-5.02323516e-09, -5.30243032e-09, -5.66282125e-09, ...,\n",
       "        5.30635004e-09,  5.07255715e-09,  4.85272221e-09])"
      ]
     },
     "execution_count": 177,
     "metadata": {},
     "output_type": "execute_result"
    }
   ],
   "source": [
    "gyl"
   ]
  },
  {
   "cell_type": "code",
   "execution_count": 182,
   "metadata": {},
   "outputs": [
    {
     "data": {
      "text/plain": [
       "array([-5.56743416e-09, -5.53273332e-09, -5.43101911e-09, ...,\n",
       "        6.16164624e-09,  6.32919555e-09,  6.26016271e-09])"
      ]
     },
     "execution_count": 182,
     "metadata": {},
     "output_type": "execute_result"
    }
   ],
   "source": [
    "gzl"
   ]
  },
  {
   "cell_type": "code",
   "execution_count": 198,
   "metadata": {},
   "outputs": [
    {
     "data": {
      "text/plain": [
       "array([ 0,  8, 12,  1,  9,  2, 15, 13, 11, 17, 18, 16,  6,  5, 10,  3, 19,\n",
       "        4, 14,  7])"
      ]
     },
     "execution_count": 198,
     "metadata": {},
     "output_type": "execute_result"
    }
   ],
   "source": [
    "sortlist"
   ]
  },
  {
   "cell_type": "code",
   "execution_count": 14,
   "metadata": {},
   "outputs": [
    {
     "data": {
      "text/plain": [
       "array([0., 0., 0., 0., 0., 0., 0., 0., 0., 0., 0., 0., 0., 0., 0., 0., 0.,\n",
       "       0., 0., 0., 0., 0., 0., 0., 0., 0., 0., 0., 0., 0., 0., 0., 0., 0.,\n",
       "       0., 0., 0., 0., 0., 0., 0., 0., 0., 0., 0., 0., 0., 0., 0., 0., 0.,\n",
       "       0., 0., 0., 0., 0., 0., 0., 0., 0., 0., 0., 0., 0., 0., 0., 0., 0.,\n",
       "       0., 0., 0., 0., 0., 0., 0., 0., 0., 0., 0., 0., 0., 0., 0., 0., 0.,\n",
       "       0., 0., 0., 0., 0., 0., 0., 0., 0., 0., 0., 0., 0., 0., 0., 0., 0.,\n",
       "       0., 0., 0., 0., 0., 0., 0., 0., 0., 0., 0., 0., 0., 0., 0., 0., 0.,\n",
       "       0., 0., 0., 0., 0., 0., 0., 0., 0., 0., 0., 0., 0., 0., 0., 0., 0.,\n",
       "       0., 0., 0., 0., 0., 0., 0., 0., 0., 0., 0., 0., 0., 0., 0., 0., 0.,\n",
       "       0., 0., 0., 0., 0., 0., 0., 0., 0., 0., 0., 0., 0., 0., 0., 0., 0.,\n",
       "       0., 0., 0., 0., 0., 0., 0., 0., 0., 0., 0., 0., 0., 0., 0., 0., 0.,\n",
       "       0., 0., 0., 0., 0., 0., 0., 0., 0., 0., 0., 0., 0., 0., 0., 0., 0.,\n",
       "       0., 0., 0., 0., 0., 0., 0., 0., 0., 0., 0., 0., 0., 0., 0., 0., 0.,\n",
       "       0., 0., 0., 0., 0., 0., 0., 0., 0., 0., 0., 0., 0., 0., 0., 0., 0.,\n",
       "       0., 0., 0., 0., 0., 0., 0., 0., 0., 0., 0., 0., 0., 0., 0., 0., 0.,\n",
       "       0., 0., 0., 0., 0., 0., 0., 0., 0., 0., 0., 0., 0., 0., 0., 0., 0.,\n",
       "       0., 0., 0., 0., 0., 0., 0., 0., 0., 0., 0., 0., 0., 0., 0., 0., 0.,\n",
       "       0., 0., 0., 0., 0., 0., 0., 0., 0., 0., 0., 0., 0., 0., 0., 0., 0.,\n",
       "       0., 0., 0., 0., 0., 0., 0., 0., 0., 0., 0., 0., 0., 0., 0., 0., 0.,\n",
       "       0., 0., 0., 0., 0., 0., 0., 0., 0., 0., 0., 0., 0., 0., 0., 0., 0.,\n",
       "       0., 0., 0., 0., 0., 0., 0., 0., 0., 0., 0., 0., 0., 0., 0., 0., 0.,\n",
       "       0., 0., 0., 0., 0., 0., 0., 0., 0., 0., 0., 0., 0., 0., 0., 0., 0.,\n",
       "       0., 0., 0., 0., 0., 0., 0., 0., 0., 0., 0., 0., 0., 0., 0., 0., 0.,\n",
       "       0., 0., 0., 0., 0., 0., 0., 0., 0., 0., 0., 0., 0., 0., 0., 0., 0.,\n",
       "       0., 0., 0., 0., 0., 0., 0., 0., 0., 0., 0., 0., 0., 0., 0., 0., 0.,\n",
       "       0., 0., 0., 0., 0., 0., 0., 0., 0., 0., 0., 0., 0., 0., 0., 0., 0.,\n",
       "       0., 0., 0., 0., 0., 0., 0., 0., 0., 0., 0., 0., 0., 0., 0., 0., 0.,\n",
       "       0., 0., 0., 0., 0., 0., 0., 0., 0., 0., 0., 0., 0., 0., 0., 0., 0.,\n",
       "       0., 0., 0., 0., 0., 0., 0., 0., 0., 0., 0., 0., 0., 0., 0., 0., 0.,\n",
       "       0., 0., 0., 0., 0., 0., 0., 0., 0., 0., 0., 0., 0., 0., 0., 0., 0.,\n",
       "       0., 0., 0., 0., 0., 0., 0., 0., 0., 0., 0., 0., 0., 0., 0., 0., 0.,\n",
       "       0., 0., 0., 0., 0., 0., 0., 0., 0., 0., 0., 0., 0., 0., 0., 0., 0.,\n",
       "       0., 0., 0., 0., 0., 0., 0., 0., 0., 0., 0., 0., 0., 0., 0., 0., 0.,\n",
       "       0., 0., 0., 0., 0., 0., 0., 0., 0., 0., 0., 0., 0., 0., 0., 0., 0.,\n",
       "       0., 0., 0., 0., 0., 0., 0., 0., 0., 0., 0., 0., 0., 0., 0., 0., 0.,\n",
       "       0., 0., 0., 0., 0., 0., 0., 0., 0., 0., 0., 0., 0., 0., 0., 0., 0.,\n",
       "       0., 0., 0., 0., 0., 0., 0., 0., 0., 0., 0., 0., 0., 0., 0., 0., 0.,\n",
       "       0., 0., 0., 0., 0., 0., 0., 0., 0., 0., 0., 0., 0., 0., 0., 0., 0.,\n",
       "       0., 0., 0., 0., 0., 0., 0., 0., 0., 0., 0., 0., 0., 0., 0., 0., 0.,\n",
       "       0., 0., 0., 0., 0., 0., 0., 0., 0., 0., 0., 0., 0., 0., 0., 0., 0.,\n",
       "       0., 0., 0., 0., 0., 0., 0., 0., 0., 0., 0., 0., 0., 0., 0., 0., 0.,\n",
       "       0., 0., 0., 0., 0., 0., 0., 0., 0., 0., 0., 0., 0., 0., 0., 0., 0.,\n",
       "       0., 0., 0., 0., 0., 0., 0., 0., 0., 0., 0., 0., 0., 0., 0., 0., 0.,\n",
       "       0., 0., 0., 0., 0., 0., 0., 0., 0., 0., 0., 0., 0., 0., 0., 0., 0.,\n",
       "       0., 0., 0., 0., 0., 0., 0., 0., 0., 0., 0., 0., 0., 0., 0., 0., 0.,\n",
       "       0., 0., 0., 0., 0., 0., 0., 0., 0., 0., 0., 0., 0., 0., 0., 0., 0.,\n",
       "       0., 0., 0., 0., 0., 0., 0., 0., 0., 0., 0., 0., 0., 0., 0., 0., 0.,\n",
       "       0., 0., 0., 0., 0., 0., 0., 0., 0., 0., 0., 0., 0., 0., 0., 0., 0.,\n",
       "       0., 0., 0., 0., 0., 0., 0., 0., 0., 0., 0., 0., 0., 0., 0., 0., 0.,\n",
       "       0., 0., 0., 0., 0., 0., 0., 0., 0., 0., 0., 0., 0., 0., 0., 0., 0.,\n",
       "       0., 0., 0., 0., 0., 0., 0., 0., 0., 0., 0., 0., 0., 0., 0., 0., 0.,\n",
       "       0., 0., 0., 0., 0., 0., 0., 0., 0., 0., 0., 0., 0., 0., 0., 0., 0.,\n",
       "       0., 0., 0., 0., 0., 0., 0., 0., 0., 0., 0., 0., 0., 0., 0., 0., 0.,\n",
       "       0., 0., 0., 0., 0., 0., 0., 0., 0., 0., 0., 0., 0., 0., 0., 0., 0.,\n",
       "       0., 0., 0., 0., 0., 0., 0., 0., 0., 0., 0., 0., 0., 0., 0., 0., 0.,\n",
       "       0., 0., 0., 0., 0., 0., 0., 0., 0., 0., 0., 0., 0., 0., 0., 0., 0.,\n",
       "       0., 0., 0., 0., 0., 0., 0., 0., 0., 0., 0., 0., 0., 0., 0., 0., 0.,\n",
       "       0., 0., 0., 0., 0., 0., 0., 0., 0., 0., 0., 0., 0., 0., 0., 0., 0.,\n",
       "       0., 0., 0., 0., 0., 0., 0., 0., 0., 0., 0., 0., 0., 0.])"
      ]
     },
     "execution_count": 14,
     "metadata": {},
     "output_type": "execute_result"
    }
   ],
   "source": [
    "gylnew-gyl"
   ]
  },
  {
   "cell_type": "code",
   "execution_count": null,
   "metadata": {},
   "outputs": [],
   "source": []
  }
 ],
 "metadata": {
  "kernelspec": {
   "display_name": "Python 2",
   "language": "python",
   "name": "python2"
  },
  "language_info": {
   "codemirror_mode": {
    "name": "ipython",
    "version": 2
   },
   "file_extension": ".py",
   "mimetype": "text/x-python",
   "name": "python",
   "nbconvert_exporter": "python",
   "pygments_lexer": "ipython2",
   "version": "2.7.15"
  }
 },
 "nbformat": 4,
 "nbformat_minor": 2
}
