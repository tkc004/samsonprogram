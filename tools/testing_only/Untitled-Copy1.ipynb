{
 "cells": [
  {
   "cell_type": "code",
   "execution_count": 1,
   "metadata": {},
   "outputs": [
    {
     "name": "stdout",
     "output_type": "stream",
     "text": [
      "rundir /m12m_mass7000/mhdcv/\n",
      "loading file : /home/tkc004//oasis/philruns///m12m_mass7000/mhdcv///output//snapdir_600/snapshot_600.0.hdf5\n",
      "npart_file:  [4256397 9151905 1511331       0 2552816       0]\n",
      "npart_total: [113153381 140876456  10063684         0  29025856         0]\n",
      "flag_cooling 1\n",
      "this time 1.0\n",
      "hubble 0.702\n",
      "atime 1.0\n",
      "loading file : /home/tkc004//oasis/philruns///m12m_mass7000/mhdcv///output//snapdir_600/snapshot_600.0.hdf5\n",
      "npart_file:  [4256397 9151905 1511331       0 2552816       0]\n",
      "npart_total: [113153381 140876456  10063684         0  29025856         0]\n",
      "flag_cooling 1\n",
      "xvcen, yvcen, zvcen -181.29 -7.56 140.7\n",
      "rundir /m12m_mass7000/mhdcv/\n",
      "Gvx,Gvy,Gvz -9.172435431572618 1.2023559394754186 8.627861295398683\n",
      "loading file : /home/tkc004//oasis/philruns///m12m_mass7000/mhdcv///output//snapdir_600/snapshot_600.0.hdf5\n",
      "npart_file:  [4256397 9151905 1511331       0 2552816       0]\n",
      "npart_total: [113153381 140876456  10063684         0  29025856         0]\n",
      "flag_cooling 1\n",
      "this time 1.0\n",
      "hubble 0.702\n",
      "atime 1.0\n",
      "loading file : /home/tkc004//oasis/philruns///m12m_mass7000/mhdcv///output//snapdir_600/snapshot_600.0.hdf5\n",
      "npart_file:  [4256397 9151905 1511331       0 2552816       0]\n",
      "npart_total: [113153381 140876456  10063684         0  29025856         0]\n",
      "flag_cooling 1\n",
      "xvcen, yvcen, zvcen -181.29 -7.56 140.7\n",
      "rundir /m12m_mass7000/mhdcv/\n",
      "Gvx,Gvy,Gvz 86.8616693069925 -19.164435882383593 -85.22459593809734\n"
     ]
    }
   ],
   "source": [
    "from stdmodandoption import *\n",
    "\n",
    "wanted='nsrad'\n",
    "dirneed = ['m12mmhdcvhr']\n",
    "the_prefix = 'snapshot'\n",
    "the_suffix = '.hdf5'\n",
    "\n",
    "\n",
    "if wanted=='sfrrad' or wanted=='nsrad' or wanted == 'cumnsmrad':\n",
    "    withinr = 15.\n",
    "    minr = 0.5\n",
    "    maxlength=0.25\n",
    "    usecen=0\n",
    "    normalized=1\n",
    "    usenscen=1\n",
    "    usesphrad=1\n",
    "    uselog=1\n",
    "    Myrneed=600\n",
    "    ageneed=200 #Myr\n",
    "    radlist = np.linspace(minr, withinr,10)\n",
    "    for runtodo in dirneed:\n",
    "        info=SSF.outdirname(runtodo, Myrneed)\n",
    "        rundir=info['rundir']\n",
    "        runtitle=info['runtitle']\n",
    "        slabel=info['slabel']\n",
    "        snlabel=info['snlabel']\n",
    "        dclabel=info['dclabel']\n",
    "        resolabel=info['resolabel']\n",
    "        the_snapdir=info['the_snapdir']\n",
    "        Nsnapstring=info['Nsnapstring']\n",
    "        havecr=info['havecr']\n",
    "        haveB=info['haveB']\n",
    "        Fcal=info['Fcal']\n",
    "        iavesfr=info['iavesfr']\n",
    "        timestep=info['timestep']\n",
    "        color=info['color']\n",
    "        h0=info['h0']\n",
    "        cosmo=info['cosmo']\n",
    "        usepep=info['usepep']\n",
    "        maindir=info['maindir']\n",
    "        snumadd=info['snumadd']\n",
    "        halostr=info['halostr']\n",
    "        rotface = 1\n",
    "        loccen = 1\n",
    "        S = SSF.readsnapwcen(the_snapdir, Nsnapstring, 4, snapshot_name=the_prefix, extension=the_suffix,\\\n",
    "         havecr=havecr,h0=h0,cosmo=cosmo, usepep=usepep, maindir=maindir,snumadd=snumadd,rotface=rotface,\\\n",
    "         loccen=loccen,runtodo=runtodo,rundir=rundir,halostr=halostr)\n",
    "        Sage = S['age']\n",
    "        Spos = S['p']\n",
    "        Sx = Spos[:,0]\n",
    "        Sy = Spos[:,1]\n",
    "        Sz = Spos[:,2]\n",
    "        Sm = S['m']\n",
    "        agecutlow = np.amax(Sage)-0.001*ageneed\n",
    "        agecuthigh = np.amax(Sage)\n",
    "        cuta = (Sage> agecutlow) & (Sage <agecuthigh)\n",
    "        Sx=Sx[cuta]; Sy=Sy[cuta]; Sz=Sz[cuta]; Sm=Sm[cuta];\n",
    "        G = SSF.readsnapwcen(the_snapdir, Nsnapstring, 0, snapshot_name=the_prefix, extension=the_suffix,\\\n",
    "         havecr=havecr,h0=h0,cosmo=cosmo, usepep=usepep, maindir=maindir,snumadd=snumadd,rotface=rotface,\\\n",
    "         loccen=loccen,runtodo=runtodo,rundir=rundir,halostr=halostr)"
   ]
  },
  {
   "cell_type": "code",
   "execution_count": 2,
   "metadata": {},
   "outputs": [
    {
     "name": "stdout",
     "output_type": "stream",
     "text": [
      "Gsurdenlist [12.12835566 11.77986886  7.92329873  5.86467079  1.64950302  1.30904843\n",
      "  0.59828299  0.15847245  0.06794498  0.        ]\n",
      "Ssurdenlist [575.29745885  67.79256284  31.26027982  20.52071991  12.25178082\n",
      "   6.63467619   3.73676725   2.26464531   1.49583197   0.        ]\n",
      "disksurdenlist [587.42581451  79.57243171  39.18357855  26.3853907   13.90128384\n",
      "   7.94372462   4.33505024   2.42311777   1.56377695   0.        ]\n"
     ]
    }
   ],
   "source": [
    "Gsurdenlist = SSF.calsurden(G,radlist,maxlength)\n",
    "print 'Gsurdenlist', Gsurdenlist\n",
    "Ssurdenlist = SSF.calsurden(S,radlist,maxlength)\n",
    "print 'Ssurdenlist', Ssurdenlist\n",
    "print 'disksurdenlist', Ssurdenlist+Gsurdenlist"
   ]
  },
  {
   "cell_type": "code",
   "execution_count": 7,
   "metadata": {},
   "outputs": [],
   "source": [
    "def calsurdenxy(Gextra,xlist,ylist,maxlength): #length in kpc\n",
    "    xx, yy = np.meshgrid(xlist, ylist)\n",
    "    gasdenlist = 0.0*xx\n",
    "    Gp = Gextra['p']; Gx = Gp[:,0]; Gy = Gp[:,1]; Gz = Gp[:,2];\n",
    "    Gm = Gextra['m'];\n",
    "    for ix in range(len(xlist)-1):\n",
    "        for iy in range(len(ylist)-1):\n",
    "            cutx = (Gx > xlist[ix])*(Gx < xlist[ix+1])\n",
    "            cuty = (Gy > ylist[iy])*(Gy < ylist[iy+1])\n",
    "            cutz = (Gz)*(Gz) < maxlength*maxlength/4.\n",
    "            cut = cutx*cuty*cutz\n",
    "            Gm_in_Msun=Gm[cut]*1e10\n",
    "            area_in_pc2 = (xlist[ix+1]-xlist[ix])*(ylist[iy+1]-ylist[iy])*kpc_in_pc*kpc_in_pc\n",
    "            Gsurden_in_Msun_pc2 = np.sum(Gm_in_Msun)/area_in_pc2\n",
    "            gasdenlist[ix,iy] += Gsurden_in_Msun_pc2\n",
    "    return gasdenlist"
   ]
  },
  {
   "cell_type": "code",
   "execution_count": 35,
   "metadata": {},
   "outputs": [],
   "source": [
    "def readtime(firever=2):\n",
    "        file=open(programdir+'data/snapshot_times.txt','r')\n",
    "        file.readline()\n",
    "        file.readline()\n",
    "        file.readline()\n",
    "        dars = file.readlines()\n",
    "        file.close()\n",
    "        snap2list=[]\n",
    "        a2list=[]\n",
    "        time2list=[]\n",
    "        red2list=[]\n",
    "        for line in dars:\n",
    "                xsd = line.split()\n",
    "                snap2list.append(int(xsd[0]))\n",
    "                a2list.append(float(xsd[1]))\n",
    "                red2list.append(float(xsd[2]))\n",
    "                time2list.append(float(xsd[3]))\n",
    "        snap2list=np.array(snap2list)\n",
    "        time2list=np.array(time2list)\n",
    "        if firever==1:\n",
    "                file=open(programdir+'/data/output_times.txt','r')\n",
    "                dars = file.readlines()\n",
    "                file.close()\n",
    "                snaplist=[]\n",
    "                alist=[]\n",
    "                timelist=[]\n",
    "                redlist=[]\n",
    "                ncount=0\n",
    "                for line in dars:\n",
    "                        xsd = line.split()\n",
    "                        alist.append(float(xsd[0]))\n",
    "                        snaplist.append(ncount)\n",
    "                        ncount+=1\n",
    "                alist=np.array(alist)\n",
    "                snaplist=np.array(snaplist)\n",
    "                timelist=np.array(np.interp(alist,a2list,time2list))\n",
    "                return {'snaplist':snaplist, 'timelist':timelist, 'alist':alist, 'redlist':redlist}\n",
    "        if firever==2:\n",
    "                return {'snaplist':snap2list, 'timelist':time2list, 'alist':a2list, 'redlist':red2list}\n",
    "\n",
    "\n",
    "def ascaletoyear(time_in_ascale):\n",
    "    readtimelist=readtime(firever=2)\n",
    "    snap2list=readtimelist['snaplist']\n",
    "    time2list=readtimelist['timelist']\n",
    "    a2list=readtimelist['alist']\n",
    "    time_in_yr = np.interp(time_in_ascale,a2list,time2list)*1e9\n",
    "    return time_in_yr\n",
    "\n",
    "def yeartoascale(time_in_yr):\n",
    "    readtimelist=readtime(firever=2)\n",
    "    snap2list=readtimelist['snaplist']\n",
    "    time2list=readtimelist['timelist']\n",
    "    a2list=readtimelist['alist']\n",
    "    time_in_ascale = np.interp(time_in_yr/1e9,time2list,a2list)\n",
    "    return time_in_ascale\n",
    "\n",
    "\n",
    "def calsfr(S,tintval=0.01, # time interval in Gyr\n",
    "           cosmo=0,withinr=20):\n",
    "    #timenow: the time of the snapshot\n",
    "    # if cosmo==1, we use scale factor for time; otherwise, it is cosmic time in yr\n",
    "    timenow = S['header'][2]\n",
    "    timenow_in_yr = ascaletoyear(timenow)\n",
    "    pretime = yeartoascale(timenow_in_yr-tintval*1e9)\n",
    "    Sdata = calsfr_from_pretime(S,timenow,pretime,cosmo=cosmo,withinr=withinr)\n",
    "    return Sdata\n",
    "def calsfr_from_pretime(S,timenow,pretime,cosmo=0,withinr=20):\n",
    "    #timenow: the time of the snapshot\n",
    "    # if cosmo==1, we use scale factor for time; otherwise, it is cosmic time in yr\n",
    "    if cosmo==1:\n",
    "        readtimelist=readtime(firever=2)\n",
    "        snap2list=readtimelist['snaplist']\n",
    "        time2list=readtimelist['timelist']\n",
    "        a2list=readtimelist['alist']\n",
    "        tnow = np.interp(timenow,a2list,time2list)*1e9\n",
    "        pret = np.interp(pretime,a2list,time2list)*1e9\n",
    "    else:\n",
    "        tnow = timenow\n",
    "        pret = pretime\n",
    "    Smi=S['m']\n",
    "    Sage=S['age']\n",
    "    Sp = S['p']\n",
    "    Sx = Sp[:,0]\n",
    "    Sy = Sp[:,1]\n",
    "    Sz = Sp[:,2]\n",
    "    Sr = np.sqrt(Sx*Sx+Sy*Sy+Sz*Sz)\n",
    "    cutr = Sr<withinr    \n",
    "    Smi = Smi[cutr]\n",
    "    Sage = Sage[cutr]\n",
    "    Sxl = Sx[cutr]; Syl = Sy[cutr]; Szl = Sz[cutr]; \n",
    "    tcut=Sage>pretime\n",
    "    Nsml = Smi[tcut]*1e10 #in solar mass\n",
    "    Nsm = np.sum(Nsml)\n",
    "    sfrl = Nsml/(tnow-pret)\n",
    "    sfr = Nsm/(tnow-pret)\n",
    "    Sxl = Sxl[tcut]; Syl = Syl[tcut]; Szl = Szl[tcut]; \n",
    "    return {'sfr':sfr, 'Nsm':Nsm, 'sfrl':sfrl, 'Sxl':Sxl, 'Syl':Syl, 'Szl':Szl}\n",
    "\n",
    "def calSFRsurdenxy(sfrl,Sxl,Syl,Szl,xlist,ylist,maxlength): #length in kpc\n",
    "    xx, yy = np.meshgrid(xlist, ylist)\n",
    "    SFRdenlist = 0.0*xx\n",
    "    for ix in range(len(xlist)-1):\n",
    "        for iy in range(len(ylist)-1):\n",
    "            cutx = (Sxl > xlist[ix])*(Sxl < xlist[ix+1])\n",
    "            cuty = (Syl > ylist[iy])*(Syl < ylist[iy+1])\n",
    "            cutz = (Szl)*(Szl) < maxlength*maxlength/4.\n",
    "            cut = cutx*cuty*cutz\n",
    "            sfrcutl=sfrl[cut]\n",
    "            area_in_kpc2 = (xlist[ix+1]-xlist[ix])*(ylist[iy+1]-ylist[iy])\n",
    "            SFRsurden_in_Msun_yr_kpc2 = np.sum(sfrcutl)/area_in_kpc2\n",
    "            SFRdenlist[ix,iy] += SFRsurden_in_Msun_yr_kpc2\n",
    "    return SFRdenlist"
   ]
  },
  {
   "cell_type": "code",
   "execution_count": 44,
   "metadata": {
    "scrolled": true
   },
   "outputs": [
    {
     "name": "stdout",
     "output_type": "stream",
     "text": [
      "gasdenlist [[28.88241482  0.        ]\n",
      " [ 0.          0.        ]]\n"
     ]
    }
   ],
   "source": [
    "xlist=ylist=np.linspace(0.1,10,num=2)\n",
    "gasdenlist = calsurdenxy(G,xlist,ylist,maxlength)\n",
    "\n",
    "print 'gasdenlist', gasdenlist"
   ]
  },
  {
   "cell_type": "code",
   "execution_count": 45,
   "metadata": {},
   "outputs": [],
   "source": [
    "Sdata=calsfr(S,tintval=0.01,cosmo=1,withinr=20)\n",
    "maxlength=10\n",
    "sfrl = Sdata['sfrl']; Sxl = Sdata['Sxl']; Syl = Sdata['Syl']; Szl = Sdata['Szl']"
   ]
  },
  {
   "cell_type": "code",
   "execution_count": 46,
   "metadata": {},
   "outputs": [],
   "source": [
    "SFRdenlist = calSFRsurdenxy(sfrl,Sxl,Syl,Szl,xlist,ylist,maxlength)"
   ]
  },
  {
   "cell_type": "code",
   "execution_count": 47,
   "metadata": {},
   "outputs": [
    {
     "name": "stdout",
     "output_type": "stream",
     "text": [
      "[[0.05011482 0.        ]\n",
      " [0.         0.        ]]\n"
     ]
    }
   ],
   "source": [
    "print SFRdenlist"
   ]
  },
  {
   "cell_type": "code",
   "execution_count": 48,
   "metadata": {},
   "outputs": [
    {
     "data": {
      "text/plain": [
       "array([0.05011482, 0.        , 0.        , 0.        ])"
      ]
     },
     "execution_count": 48,
     "metadata": {},
     "output_type": "execute_result"
    }
   ],
   "source": [
    "np.ravel(SFRdenlist)"
   ]
  },
  {
   "cell_type": "code",
   "execution_count": 49,
   "metadata": {},
   "outputs": [
    {
     "data": {
      "image/png": "[encoded data removed]",
      "text/plain": [
       "<Figure size 432x288 with 1 Axes>"
      ]
     },
     "metadata": {
      "needs_background": "light"
     },
     "output_type": "display_data"
    }
   ],
   "source": [
    "plt.plot(np.ravel(gasdenlist),np.ravel(SFRdenlist),ls='none',marker='^')\n",
    "plt.yscale('log')\n",
    "plt.xscale('log')"
   ]
  },
  {
   "cell_type": "code",
   "execution_count": null,
   "metadata": {},
   "outputs": [],
   "source": []
  }
 ],
 "metadata": {
  "kernelspec": {
   "display_name": "Python 2",
   "language": "python",
   "name": "python2"
  },
  "language_info": {
   "codemirror_mode": {
    "name": "ipython",
    "version": 2
   },
   "file_extension": ".py",
   "mimetype": "text/x-python",
   "name": "python",
   "nbconvert_exporter": "python",
   "pygments_lexer": "ipython2",
   "version": "2.7.15"
  }
 },
 "nbformat": 4,
 "nbformat_minor": 2
}
