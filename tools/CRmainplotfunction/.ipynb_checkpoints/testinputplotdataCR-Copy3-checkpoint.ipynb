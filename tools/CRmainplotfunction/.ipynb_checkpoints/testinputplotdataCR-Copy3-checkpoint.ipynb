{
 "cells": [
  {
   "cell_type": "code",
   "execution_count": null,
   "metadata": {},
   "outputs": [
    {
     "name": "stdout",
     "output_type": "stream",
     "text": [
      "wanted Brmsmidplane\n",
      "runtodo m12bcr_700hr\n",
      "rundir /m12b_res7100/cr_700/\n",
      "rundir /m12b_res7100/cr_700/\n",
      "the_snapdir /home/tkc004//oasis/philruns///m12b_res7100/cr_700///output/\n",
      "Nsnapstring 600\n",
      "loading file : /home/tkc004//oasis/philruns///m12b_res7100/cr_700///output//snapdir_600/snapshot_600.0.hdf5\n",
      "npart_file:  [10002496 10976282  1659321        0   789203        0]\n",
      "npart_total: [67966121 74537000  6750970        0  6766852        0]\n",
      "flag_cooling 1\n",
      "this time 0.9999999999999996\n",
      "hubble 0.702\n",
      "atime 0.9999999999999996\n",
      "loading file : /home/tkc004//oasis/philruns///m12b_res7100/cr_700///output//snapdir_600/snapshot_600.0.hdf5\n",
      "npart_file:  [10002496 10976282  1659321        0   789203        0]\n",
      "npart_total: [67966121 74537000  6750970        0  6766852        0]\n",
      "flag_cooling 1\n"
     ]
    }
   ],
   "source": [
    "import collections\n",
    "from importplotfunctionsCR import *\n",
    "from inputplotdataCR import inputplotdict\n",
    "plotlist = ['figBrms_m12ihr2']\n",
    "for plotneed in plotlist:\n",
    "    inputplotdict[plotneed]['_plotfunction'](inputplotdict[plotneed])"
   ]
  },
  {
   "cell_type": "code",
   "execution_count": null,
   "metadata": {},
   "outputs": [],
   "source": []
  },
  {
   "cell_type": "code",
   "execution_count": null,
   "metadata": {},
   "outputs": [],
   "source": []
  }
 ],
 "metadata": {
  "kernelspec": {
   "display_name": "Python 2",
   "language": "python",
   "name": "python2"
  },
  "language_info": {
   "codemirror_mode": {
    "name": "ipython",
    "version": 2
   },
   "file_extension": ".py",
   "mimetype": "text/x-python",
   "name": "python",
   "nbconvert_exporter": "python",
   "pygments_lexer": "ipython2",
   "version": "2.7.15"
  }
 },
 "nbformat": 4,
 "nbformat_minor": 2
}
