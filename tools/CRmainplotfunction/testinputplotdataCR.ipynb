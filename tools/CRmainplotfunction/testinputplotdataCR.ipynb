{
 "cells": [
  {
   "cell_type": "code",
   "execution_count": 1,
   "metadata": {},
   "outputs": [
    {
     "name": "stdout",
     "output_type": "stream",
     "text": [
      "wanted crdenmidplane\n",
      "usez1kpc 0\n",
      "multz 0\n",
      "runtodo m12fcr_700hr\n",
      "rundir /m12f_mass7000/cr_700/\n",
      "rundir /m12f_mass7000/cr_700/\n",
      "the_snapdir /home/tkc004//oasis/philruns///m12f_mass7000/cr_700///output/\n",
      "Nsnapstring 580\n",
      "loading file : /home/tkc004//oasis/philruns///m12f_mass7000/cr_700///output//snapdir_580/snapshot_580.0.hdf5\n",
      "npart_file:  [4869556 5441430  717532       0  403325       0]\n",
      "npart_total: [74285596 81363848  7086235        0  7196400        0]\n",
      "flag_cooling 1\n",
      "this time 0.9824840917626294\n",
      "hubble 0.702\n",
      "atime 0.9824840917626294\n",
      "loading file : /home/tkc004//oasis/philruns///m12f_mass7000/cr_700///output//snapdir_580/snapshot_580.0.hdf5\n",
      "npart_file:  [4869556 5441430  717532       0  403325       0]\n",
      "npart_total: [74285596 81363848  7086235        0  7196400        0]\n",
      "flag_cooling 1\n",
      "xvcen, yvcen, zvcen -151.0958771387611 162.27111999117776 110.12873142731111\n",
      "rundir /m12f_mass7000/cr_700/\n",
      "Gvx,Gvy,Gvz 130.78332578071144 -49.06856221015347 63.0606889282627\n",
      "rundir /m12f_mass7000/cr_700/\n",
      "the_snapdir /home/tkc004//oasis/philruns///m12f_mass7000/cr_700///output/\n",
      "Nsnapstring 590\n",
      "loading file : /home/tkc004//oasis/philruns///m12f_mass7000/cr_700///output//snapdir_590/snapshot_590.0.hdf5\n",
      "npart_file:  [4553361 5586242  627963       0  440999       0]\n",
      "npart_total: [74172067 81363848  7086235        0  7310631        0]\n",
      "flag_cooling 1\n",
      "this time 0.9984075952600424\n",
      "hubble 0.702\n",
      "atime 0.9984075952600424\n",
      "loading file : /home/tkc004//oasis/philruns///m12f_mass7000/cr_700///output//snapdir_590/snapshot_590.0.hdf5\n",
      "npart_file:  [4553361 5586242  627963       0  440999       0]\n",
      "npart_total: [74172067 81363848  7086235        0  7310631        0]\n",
      "flag_cooling 1\n",
      "xvcen, yvcen, zvcen -150.6938235819775 161.41977947747188 110.01202205225282\n",
      "rundir /m12f_mass7000/cr_700/\n",
      "Gvx,Gvy,Gvz 18.088944517299453 -8.391557629707886 6.376662168462851\n",
      "rundir /m12f_mass7000/cr_700/\n",
      "the_snapdir /home/tkc004//oasis/philruns///m12f_mass7000/cr_700///output/\n",
      "Nsnapstring 600\n",
      "loading file : /home/tkc004//oasis/philruns///m12f_mass7000/cr_700///output//snapdir_600/snapshot_600.0.hdf5\n",
      "npart_file:  [4718159 5916631  584948       0  433656       0]\n",
      "npart_total: [74158826 81363848  7086235        0  7323953        0]\n",
      "flag_cooling 1\n",
      "this time 1.0\n",
      "hubble 0.702\n",
      "atime 1.0\n",
      "loading file : /home/tkc004//oasis/philruns///m12f_mass7000/cr_700///output//snapdir_600/snapshot_600.0.hdf5\n",
      "npart_file:  [4718159 5916631  584948       0  433656       0]\n",
      "npart_total: [74158826 81363848  7086235        0  7323953        0]\n",
      "flag_cooling 1\n",
      "xvcen, yvcen, zvcen -150.63 161.34 110.02\n",
      "rundir /m12f_mass7000/cr_700/\n",
      "Gvx,Gvy,Gvz 9.382301870350883 -9.373344920345167 -21.472149778631387\n",
      "filename /home/tkc004//samsonprogramdata/CRplot/crdenmidplane/CR_midplane_m12fres70002kpclog_sn580_601.pdf\n"
     ]
    }
   ],
   "source": [
    "import collections\n",
    "from importplotfunctionsCR import *\n",
    "from inputplotdataCR import inputplotdict\n",
    "plotlist = ['figcrden_m12fhrlog']\n",
    "for plotneed in plotlist:\n",
    "    inputplotdict[plotneed]['_plotfunction'](inputplotdict[plotneed])"
   ]
  },
  {
   "cell_type": "code",
   "execution_count": null,
   "metadata": {},
   "outputs": [],
   "source": []
  },
  {
   "cell_type": "code",
   "execution_count": null,
   "metadata": {},
   "outputs": [],
   "source": []
  }
 ],
 "metadata": {
  "kernelspec": {
   "display_name": "Python 2",
   "language": "python",
   "name": "python2"
  },
  "language_info": {
   "codemirror_mode": {
    "name": "ipython",
    "version": 2
   },
   "file_extension": ".py",
   "mimetype": "text/x-python",
   "name": "python",
   "nbconvert_exporter": "python",
   "pygments_lexer": "ipython2",
   "version": "2.7.15"
  }
 },
 "nbformat": 4,
 "nbformat_minor": 2
}
