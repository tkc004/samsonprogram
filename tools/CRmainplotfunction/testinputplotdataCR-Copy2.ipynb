{
 "cells": [
  {
   "cell_type": "code",
   "execution_count": null,
   "metadata": {},
   "outputs": [
    {
     "name": "stdout",
     "output_type": "stream",
     "text": [
      "wanted gasdenmidplane\n",
      "usez1kpc 0\n",
      "multz 1\n",
      "runtodo m12mmhdcvhr\n",
      "rundir /m12m_mass7000/mhdcv/\n",
      "the_snapdir /home/tkc004//oasis/philruns///m12m_mass7000/mhdcv///output/\n",
      "Nsnapstring 580\n",
      "loading file : /home/tkc004//oasis/philruns///m12m_mass7000/mhdcv///output//snapdir_580/snapshot_580.0.hdf5\n",
      "npart_file:  [7383672 8639700  721555       0 1753209       0]\n",
      "npart_total: [113624854 140876456  10063684         0  28411831         0]\n",
      "flag_cooling 1\n",
      "this time 0.9824840917626294\n",
      "hubble 0.702\n",
      "atime 0.9824840917626294\n",
      "loading file : /home/tkc004//oasis/philruns///m12m_mass7000/mhdcv///output//snapdir_580/snapshot_580.0.hdf5\n",
      "npart_file:  [7383672 8639700  721555       0 1753209       0]\n",
      "npart_total: [113624854 140876456  10063684         0  28411831         0]\n",
      "flag_cooling 1\n",
      "xvcen, yvcen, zvcen -182.9326628399185 -7.570211428781482 141.0439742797278\n",
      "rundir /m12m_mass7000/mhdcv/\n",
      "Gvx,Gvy,Gvz 79.90626294371769 -61.2621278353186 -121.85009826902493\n",
      "rundir /m12m_mass7000/mhdcv/\n",
      "the_snapdir /home/tkc004//oasis/philruns///m12m_mass7000/mhdcv///output/\n",
      "Nsnapstring 590\n",
      "loading file : /home/tkc004//oasis/philruns///m12m_mass7000/mhdcv///output//snapdir_590/snapshot_590.0.hdf5\n",
      "npart_file:  [8096191 8578753 1189278       0 1515513       0]\n",
      "npart_total: [113192568 140876456  10063684         0  28973716         0]\n",
      "flag_cooling 1\n",
      "this time 0.9984075952600424\n",
      "hubble 0.702\n",
      "atime 0.9984075952600424\n",
      "loading file : /home/tkc004//oasis/philruns///m12m_mass7000/mhdcv///output//snapdir_590/snapshot_590.0.hdf5\n",
      "npart_file:  [8096191 8578753 1189278       0 1515513       0]\n",
      "npart_total: [113192568 140876456  10063684         0  28973716         0]\n",
      "flag_cooling 1\n"
     ]
    }
   ],
   "source": [
    "import collections\n",
    "from importplotfunctionsCR import *\n",
    "from inputplotdataCR import inputplotdict\n",
    "plotlist = ['figgasden_m12mhr2']\n",
    "for plotneed in plotlist:\n",
    "    inputplotdict[plotneed]['_plotfunction'](inputplotdict[plotneed])"
   ]
  },
  {
   "cell_type": "code",
   "execution_count": null,
   "metadata": {},
   "outputs": [],
   "source": []
  },
  {
   "cell_type": "code",
   "execution_count": null,
   "metadata": {},
   "outputs": [],
   "source": []
  }
 ],
 "metadata": {
  "kernelspec": {
   "display_name": "Python 2",
   "language": "python",
   "name": "python2"
  },
  "language_info": {
   "codemirror_mode": {
    "name": "ipython",
    "version": 2
   },
   "file_extension": ".py",
   "mimetype": "text/x-python",
   "name": "python",
   "nbconvert_exporter": "python",
   "pygments_lexer": "ipython2",
   "version": "2.7.15"
  }
 },
 "nbformat": 4,
 "nbformat_minor": 2
}
