{
 "cells": [
  {
   "cell_type": "code",
   "execution_count": 1,
   "metadata": {},
   "outputs": [
    {
     "name": "stderr",
     "output_type": "stream",
     "text": [
      "/home/tkc004/samsonprogram/tools/crgridfunction.py:80: SyntaxWarning: import * only allowed at module level\n",
      "  def crgridfunction(gridag,runtodo,wanted,idir,plotupt,plotit,startno,Nsnap,snapsep,cbcolor='hot',\n"
     ]
    },
    {
     "name": "stdout",
     "output_type": "stream",
     "text": [
      "wanted pcrpth\n",
      "dirneed ['m12icr_700hr', 'm12fcr_700hr', 'm12mcr_700hr']\n",
      "extendedrange 0\n",
      "addtitleinbox 1\n",
      "nrows, ncols 1 3\n",
      "rundir /m12i_mass7000_MHDCR_tkFIX/cr_700/\n",
      "rundir /m12i_mass7000_MHDCR_tkFIX/cr_700/\n",
      "the_snapdir /home/tkc004//oasis/philruns///m12i_mass7000_MHDCR_tkFIX/cr_700///output/\n",
      "Nsnapstring 600\n",
      "loading file : /home/tkc004//oasis/philruns///m12i_mass7000_MHDCR_tkFIX/cr_700///output//snapdir_600/snapshot_600.0.hdf5\n",
      "npart_file:  [17197632 19107204  1167628        0  1376337        0]\n",
      "npart_total: [65046705 70514272  5513331        0  5550264        0]\n",
      "flag_cooling 1\n",
      "this time 1.0\n",
      "hubble 0.702\n",
      "atime 1.0\n",
      "loading file : /home/tkc004//oasis/philruns///m12i_mass7000_MHDCR_tkFIX/cr_700///output//snapdir_600/snapshot_600.0.hdf5\n",
      "npart_file:  [17197632 19107204  1167628        0  1376337        0]\n",
      "npart_total: [65046705 70514272  5513331        0  5550264        0]\n",
      "flag_cooling 1\n",
      "xvcen, yvcen, zvcen -48.4 73.38 95.92\n",
      "Gvx,Gvy,Gvz -23.258068254118538 13.947029834029795 -3.9100486875875857\n",
      "x [-12.05227739 -12.8866773  -12.24884133 ... -13.19583842 -13.03729171\n",
      " -12.79664208]\n",
      "y [-11.62404262 -11.58771931 -11.63803947 ... -11.64425784 -11.67066889\n",
      " -11.65705259]\n",
      "H [[0. 0. 0. ... 0. 0. 0.]\n",
      " [0. 0. 0. ... 0. 0. 0.]\n",
      " [0. 0. 0. ... 0. 0. 0.]\n",
      " ...\n",
      " [0. 0. 0. ... 0. 0. 0.]\n",
      " [0. 0. 0. ... 0. 0. 0.]\n",
      " [0. 0. 0. ... 0. 0. 0.]]\n",
      "np.sum(Hadd) 0.9998879720886679\n",
      "xedges [-17.   -16.84 -16.68 -16.52 -16.36 -16.2  -16.04 -15.88 -15.72 -15.56\n",
      " -15.4  -15.24 -15.08 -14.92 -14.76 -14.6  -14.44 -14.28 -14.12 -13.96\n",
      " -13.8  -13.64 -13.48 -13.32 -13.16 -13.   -12.84 -12.68 -12.52 -12.36\n",
      " -12.2  -12.04 -11.88 -11.72 -11.56 -11.4  -11.24 -11.08 -10.92 -10.76\n",
      " -10.6  -10.44 -10.28 -10.12  -9.96  -9.8   -9.64  -9.48  -9.32  -9.16\n",
      "  -9.  ]\n",
      "extent [-17, -9, -17, -9]\n",
      "rundir /m12f_mass7000/cr_700/\n",
      "rundir /m12f_mass7000/cr_700/\n",
      "the_snapdir /home/tkc004//oasis/philruns///m12f_mass7000/cr_700///output/\n",
      "Nsnapstring 600\n",
      "loading file : /home/tkc004//oasis/philruns///m12f_mass7000/cr_700///output//snapdir_600/snapshot_600.0.hdf5\n",
      "npart_file:  [4718159 5916631  584948       0  433656       0]\n",
      "npart_total: [74158826 81363848  7086235        0  7323953        0]\n",
      "flag_cooling 1\n",
      "this time 1.0\n",
      "hubble 0.702\n",
      "atime 1.0\n",
      "loading file : /home/tkc004//oasis/philruns///m12f_mass7000/cr_700///output//snapdir_600/snapshot_600.0.hdf5\n",
      "npart_file:  [4718159 5916631  584948       0  433656       0]\n",
      "npart_total: [74158826 81363848  7086235        0  7323953        0]\n",
      "flag_cooling 1\n"
     ]
    },
    {
     "name": "stderr",
     "output_type": "stream",
     "text": [
      "/home/tkc004/samsonprogram/tools/crgridfunction.py:255: RuntimeWarning: divide by zero encountered in log10\n",
      "  y = np.log10(pcr)\n",
      "/home/tkc004/samsonprogram/tools/crgridfunction.py:283: RuntimeWarning: divide by zero encountered in log10\n",
      "  im = gridag[idir].contourf(xedges[:-1], yedges[:-1], np.log10(Hadd),\\\n",
      "/home/tkc004/oasis/yt/yt-conda/lib/python2.7/site-packages/matplotlib/contour.py:1004: UserWarning: The following kwargs were not used by contour: 'aspect'\n",
      "  s)\n"
     ]
    },
    {
     "name": "stdout",
     "output_type": "stream",
     "text": [
      "xvcen, yvcen, zvcen -150.63 161.34 110.02\n",
      "Gvx,Gvy,Gvz -0.30702101338821736 -2.4934951736214304 -5.723111453745759\n",
      "x [-12.42026887 -12.76595544 -12.54106415 ... -12.3268374  -12.3629807\n",
      " -11.9121179 ]\n",
      "y [-11.25403083 -11.21865027 -11.33497822 ... -11.2969836  -11.74859031\n",
      " -11.54853943]\n",
      "H [[0. 0. 0. ... 0. 0. 0.]\n",
      " [0. 0. 0. ... 0. 0. 0.]\n",
      " [0. 0. 0. ... 0. 0. 0.]\n",
      " ...\n",
      " [0. 0. 0. ... 0. 0. 0.]\n",
      " [0. 0. 0. ... 0. 0. 0.]\n",
      " [0. 0. 0. ... 0. 0. 0.]]\n",
      "np.sum(Hadd) 0.9998492517896709\n",
      "xedges [-17.   -16.84 -16.68 -16.52 -16.36 -16.2  -16.04 -15.88 -15.72 -15.56\n",
      " -15.4  -15.24 -15.08 -14.92 -14.76 -14.6  -14.44 -14.28 -14.12 -13.96\n",
      " -13.8  -13.64 -13.48 -13.32 -13.16 -13.   -12.84 -12.68 -12.52 -12.36\n",
      " -12.2  -12.04 -11.88 -11.72 -11.56 -11.4  -11.24 -11.08 -10.92 -10.76\n",
      " -10.6  -10.44 -10.28 -10.12  -9.96  -9.8   -9.64  -9.48  -9.32  -9.16\n",
      "  -9.  ]\n",
      "extent [-17, -9, -17, -9]\n",
      "rundir /m12m_mass7000/cr_700/\n",
      "rundir /m12m_mass7000/cr_700/\n",
      "the_snapdir /home/tkc004//oasis/philruns///m12m_mass7000/cr_700///output/\n",
      "Nsnapstring 600\n",
      "loading file : /home/tkc004//oasis/philruns///m12m_mass7000/cr_700///output//snapdir_600/snapshot_600.0.hdf5\n",
      "npart_file:  [8530666 9355240  399118       0  550035       0]\n",
      "npart_total: [132832344 140876456  10063684         0   8072148         0]\n",
      "flag_cooling 1\n",
      "this time 1.0\n",
      "hubble 0.702\n",
      "atime 1.0\n",
      "loading file : /home/tkc004//oasis/philruns///m12m_mass7000/cr_700///output//snapdir_600/snapshot_600.0.hdf5\n",
      "npart_file:  [8530666 9355240  399118       0  550035       0]\n",
      "npart_total: [132832344 140876456  10063684         0   8072148         0]\n",
      "flag_cooling 1\n",
      "xvcen, yvcen, zvcen -185.72 -9.18 142.11\n",
      "Gvx,Gvy,Gvz -9.73978695210017 1.0613258453066825 13.470717006362582\n",
      "x [-12.90390524 -13.23237463 -13.02090587 ... -12.13158403 -12.9956799\n",
      " -12.835359  ]\n",
      "y [-12.1145021  -12.12615466 -12.12988646 ... -11.86322926 -12.11471554\n",
      " -12.0438277 ]\n",
      "H [[0. 0. 0. ... 0. 0. 0.]\n",
      " [0. 0. 0. ... 0. 0. 0.]\n",
      " [0. 0. 0. ... 0. 0. 0.]\n",
      " ...\n",
      " [0. 0. 0. ... 0. 0. 0.]\n",
      " [0. 0. 0. ... 0. 0. 0.]\n",
      " [0. 0. 0. ... 0. 0. 0.]]\n",
      "np.sum(Hadd) 0.9998757311949914\n",
      "xedges [-17.   -16.84 -16.68 -16.52 -16.36 -16.2  -16.04 -15.88 -15.72 -15.56\n",
      " -15.4  -15.24 -15.08 -14.92 -14.76 -14.6  -14.44 -14.28 -14.12 -13.96\n",
      " -13.8  -13.64 -13.48 -13.32 -13.16 -13.   -12.84 -12.68 -12.52 -12.36\n",
      " -12.2  -12.04 -11.88 -11.72 -11.56 -11.4  -11.24 -11.08 -10.92 -10.76\n",
      " -10.6  -10.44 -10.28 -10.12  -9.96  -9.8   -9.64  -9.48  -9.32  -9.16\n",
      "  -9.  ]\n",
      "extent [-17, -9, -17, -9]\n",
      "plotupt ['m12ires7000' 'm12fres7000' 'm12mres7000']\n",
      "totalname /home/tkc004//samsonprogramdata//CRplot/pcrpth/pcrpth_m12_sn600_601ag.pdf\n"
     ]
    },
    {
     "name": "stderr",
     "output_type": "stream",
     "text": [
      "/home/tkc004/oasis/yt/yt-conda/lib/python2.7/site-packages/matplotlib/figure.py:2299: UserWarning: This figure includes Axes that are not compatible with tight_layout, so results might be incorrect.\n",
      "  warnings.warn(\"This figure includes Axes that are not compatible \"\n"
     ]
    }
   ],
   "source": [
    "import collections\n",
    "from inputplotdataISM import inputplotdict\n",
    "plotlist = [\n",
    "'figrhopcrgrid_m12',\\\n",
    "#'figintrhogfrompardist_m12mhr0_5kpcr0_9_usekez',\\\n",
    "#    'figintrhogfrompardist_m11g0_5kpcr0_9_usekez',\\\n",
    "#    'gpm12mcr_700HI10'\n",
    "           ]\n",
    "for plotneed in plotlist:\n",
    "    inputplotdict[plotneed]['_plotfunction'](inputplotdict[plotneed])"
   ]
  },
  {
   "cell_type": "code",
   "execution_count": null,
   "metadata": {},
   "outputs": [],
   "source": []
  }
 ],
 "metadata": {
  "kernelspec": {
   "display_name": "Python 2",
   "language": "python",
   "name": "python2"
  },
  "language_info": {
   "codemirror_mode": {
    "name": "ipython",
    "version": 2
   },
   "file_extension": ".py",
   "mimetype": "text/x-python",
   "name": "python",
   "nbconvert_exporter": "python",
   "pygments_lexer": "ipython2",
   "version": "2.7.15"
  }
 },
 "nbformat": 4,
 "nbformat_minor": 2
}
