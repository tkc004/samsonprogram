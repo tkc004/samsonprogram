{
 "cells": [
  {
   "cell_type": "code",
   "execution_count": 1,
   "metadata": {},
   "outputs": [
    {
     "name": "stdout",
     "output_type": "stream",
     "text": [
      "gzl [-5.21197657e-09 -5.13890349e-09 -5.27569940e-09 ...  5.45790514e-09\n",
      "  5.64975209e-09  5.63813313e-09]\n"
     ]
    }
   ],
   "source": [
    "from stdmodandoption import *\n",
    "\n",
    "Nsnap=600\n",
    "\n",
    "fname='/home/tkc004/scratch/snipshot/philruns/m12m_res7000/mhdcv/output/withinr200spno100/snapshot_'+str(Nsnap)+'.hdf5'\n",
    "\n",
    "data = RSS.readsnipshot(fname,ptypelist = [0,1,4])\n",
    "\n",
    "G = data[0]; DM = data[1]; S = data[2];\n",
    "\n",
    "zmax=10\n",
    "nogrid = 11\n",
    "xlist = ylist = zlist = np.linspace(-zmax,zmax,num=nogrid)\n",
    "xl,yl,zl = np.meshgrid(xlist,ylist,zlist)\n",
    "xl = np.ravel(xl); yl = np.ravel(yl); zl = np.ravel(zl);\n",
    "gxl=np.array([]); gyl=np.array([]); gzl=np.array([]);\n",
    "for x,y,z in zip(xl,yl,zl):\n",
    "    Gdata = SSF.calgfrompar(G,pos=[x,y,z],withinr=200,spno=1) \n",
    "    Ggx = Gdata['gx']; Ggy = Gdata['gy']; Ggz = Gdata['gz']\n",
    "    Sdata = SSF.calgfrompar(S,pos=[x,y,z],withinr=200,spno=1) \n",
    "    Sgx = Sdata['gx']; Sgy = Sdata['gy']; Sgz = Sdata['gz']\n",
    "    DMdata = SSF.calgfrompar(DM,pos=[x,y,z],withinr=200,spno=1) \n",
    "    DMgx = DMdata['gx']; DMgy = DMdata['gy'];DMgz = DMdata['gz']\n",
    "    gx = Ggx+Sgx+DMgx\n",
    "    gy = Ggy+Sgy+DMgy\n",
    "    gz = Ggz+Sgz+DMgz\n",
    "    gxl=np.append(gxl,gx); gyl=np.append(gyl,gy); gzl=np.append(gzl,gz);\n",
    "    \n",
    "print 'gzl', gzl"
   ]
  },
  {
   "cell_type": "code",
   "execution_count": 4,
   "metadata": {},
   "outputs": [],
   "source": [
    "Gf = {}\n",
    "Gf['xlist']=xlist; Gf['ylist']=ylist; Gf['zlist']=zlist;\n",
    "Gf['xl']=xl; Gf['yl']=yl; Gf['zl']=zl;\n",
    "Gf['gxl']=gxl; Gf['gyl']=gyl; Gf['gzl']=gzl;\n"
   ]
  },
  {
   "cell_type": "code",
   "execution_count": null,
   "metadata": {},
   "outputs": [],
   "source": [
    "fhdf5 = h5py.File('/home/tkc004/scratch/snipshot/philruns/m12m_res7000/mhdcv/deriveddata/pandg/snapshot_600.hdf5', 'w')\n",
    "grp0 = fhdf5.create_group(\"gfield/\")\n",
    "RSS.write_layer(grp0, Gf)\n",
    "fhdf5.close()\n",
    "del fhdf5"
   ]
  },
  {
   "cell_type": "code",
   "execution_count": null,
   "metadata": {},
   "outputs": [],
   "source": []
  }
 ],
 "metadata": {
  "kernelspec": {
   "display_name": "Python 2",
   "language": "python",
   "name": "python2"
  },
  "language_info": {
   "codemirror_mode": {
    "name": "ipython",
    "version": 2
   },
   "file_extension": ".py",
   "mimetype": "text/x-python",
   "name": "python",
   "nbconvert_exporter": "python",
   "pygments_lexer": "ipython2",
   "version": "2.7.15"
  }
 },
 "nbformat": 4,
 "nbformat_minor": 2
}
