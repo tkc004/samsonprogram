{
 "cells": [
  {
   "cell_type": "code",
   "execution_count": null,
   "metadata": {},
   "outputs": [],
   "source": [
    "from stdmodandoption import *\n",
    "\n",
    "Nsnap=600\n",
    "\n",
    "from stdmodandoption import *\n",
    "\n",
    "runtodo ='m12mcr_700hr'\n",
    "\n",
    "Nsnap=600\n",
    "\n",
    "info=SSF.outdirname(runtodo, Nsnap)\n",
    "havecr=info['havecr']\n",
    "haveB=info['haveB']\n",
    "\n",
    "S=SSF.readsnapfromrun(runtodo,Nsnap,4,rotface=1,loccen=1)\n",
    "cenin = S['cen']; vcenin = S['vcen']; angLin = S['angL'];\n",
    "G = SSF.readsnapfromrun(runtodo,Nsnap,0,rotface=1,loccen=1,\\\n",
    "                       importLcen=1,angLin=angLin,cenin=cenin,vcenin=vcenin)\n",
    "\n",
    "zmax=10\n",
    "nogrid = 11\n",
    "xlist = ylist = zlist = np.linspace(-zmax,zmax,num=nogrid)\n",
    "xl,yl,zl = np.meshgrid(xlist,ylist,zlist)\n",
    "xl = np.ravel(xl); yl = np.ravel(yl); zl = np.ravel(zl);\n",
    "dx=dy=dz=np.absolute(zlist[1]-zlist[0])\n",
    "\n",
    "dendata = CRTF.pressureXYZ(G, xl, yl, zl, dx, dy, dz,havecr=havecr,haveB=haveB)\n",
    "rhol = dendata['rhol']; pthl = dendata['pthl']\n",
    "pturl = dendata['pturl']; pcrl = dendata['pcrl']\n",
    "pBl = dendata['pBl']\n",
    "\n",
    "\n"
   ]
  },
  {
   "cell_type": "code",
   "execution_count": 4,
   "metadata": {},
   "outputs": [],
   "source": [
    "Gpre = {}\n",
    "Gpre['xlist']=xlist; Gpre['ylist']=ylist; Gpre['zlist']=zlist;\n",
    "Gpre['xl']=xl; Gpre['yl']=yl; Gpre['zl']=zl;\n",
    "Gpre['gxl']=gxl; Gpre['gyl']=gyl; Gpre['gzl']=gzl;\n"
   ]
  },
  {
   "cell_type": "code",
   "execution_count": null,
   "metadata": {},
   "outputs": [],
   "source": [
    "fhdf5 = h5py.File('/home/tkc004/scratch/snipshot/philruns/m12m_res7000/mhdcv/deriveddata/pandg/snapshot_600.hdf5', 'w')\n",
    "grp0 = fhdf5.create_group(\"pressure/\")\n",
    "RSS.write_layer(grp0, Gf)\n",
    "fhdf5.close()\n",
    "del fhdf5"
   ]
  },
  {
   "cell_type": "code",
   "execution_count": null,
   "metadata": {},
   "outputs": [],
   "source": []
  }
 ],
 "metadata": {
  "kernelspec": {
   "display_name": "Python 2",
   "language": "python",
   "name": "python2"
  },
  "language_info": {
   "codemirror_mode": {
    "name": "ipython",
    "version": 2
   },
   "file_extension": ".py",
   "mimetype": "text/x-python",
   "name": "python",
   "nbconvert_exporter": "python",
   "pygments_lexer": "ipython2",
   "version": "2.7.15"
  }
 },
 "nbformat": 4,
 "nbformat_minor": 2
}
