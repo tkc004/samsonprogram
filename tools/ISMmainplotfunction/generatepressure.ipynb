{
 "cells": [
  {
   "cell_type": "code",
   "execution_count": null,
   "metadata": {},
   "outputs": [
    {
     "name": "stdout",
     "output_type": "stream",
     "text": [
      "rundir /m12m_mass7000/cr_700/\n",
      "rundir /m12m_mass7000/cr_700/\n",
      "loading file : /home/tkc004//oasis/philruns///m12m_mass7000/cr_700///output//snapdir_600/snapshot_600.0.hdf5\n",
      "npart_file:  [8530666 9355240  399118       0  550035       0]\n",
      "npart_total: [132832344 140876456  10063684         0   8072148         0]\n",
      "flag_cooling 1\n",
      "this time 1.0\n",
      "hubble 0.702\n",
      "atime 1.0\n",
      "loading file : /home/tkc004//oasis/philruns///m12m_mass7000/cr_700///output//snapdir_600/snapshot_600.0.hdf5\n",
      "npart_file:  [8530666 9355240  399118       0  550035       0]\n",
      "npart_total: [132832344 140876456  10063684         0   8072148         0]\n",
      "flag_cooling 1\n",
      "xvcen, yvcen, zvcen -185.72 -9.18 142.11\n",
      "rundir /m12m_mass7000/cr_700/\n",
      "Gvx,Gvy,Gvz -1.9083296337102158 -9.575566226227846 -0.25201589906004906\n",
      "rundir /m12m_mass7000/cr_700/\n",
      "loading file : /home/tkc004//oasis/philruns///m12m_mass7000/cr_700///output//snapdir_600/snapshot_600.0.hdf5\n",
      "npart_file:  [8530666 9355240  399118       0  550035       0]\n",
      "npart_total: [132832344 140876456  10063684         0   8072148         0]\n",
      "flag_cooling 1\n",
      "xvcen, yvcen, zvcen -185.72 -9.18 142.11\n"
     ]
    }
   ],
   "source": [
    "from stdmodandoption import *\n",
    "\n",
    "Nsnap=600\n",
    "\n",
    "from stdmodandoption import *\n",
    "\n",
    "runtodo ='m12mcr_700hr'\n",
    "\n",
    "Nsnap=600\n",
    "\n",
    "info=SSF.outdirname(runtodo, Nsnap)\n",
    "havecr=info['havecr']\n",
    "haveB=info['haveB']\n",
    "\n",
    "S=SSF.readsnapfromrun(runtodo,Nsnap,4,rotface=1,loccen=1)\n",
    "cenin = S['cen']; vcenin = S['vcen']; angLin = S['angL'];\n",
    "G = SSF.readsnapfromrun(runtodo,Nsnap,0,rotface=1,loccen=1,\\\n",
    "                       importLcen=1,angLin=angLin,cenin=cenin,vcenin=vcenin)\n",
    "\n",
    "zmax=10\n",
    "nogrid = 11\n",
    "xlist = ylist = zlist = np.linspace(-zmax,zmax,num=nogrid)\n",
    "xl,yl,zl = np.meshgrid(xlist,ylist,zlist)\n",
    "xl = np.ravel(xl); yl = np.ravel(yl); zl = np.ravel(zl);\n",
    "dx=dy=dz=np.absolute(zlist[1]-zlist[0])\n",
    "\n",
    "dendata = CRTF.pressureXYZ(G, xl, yl, zl, dx, dy, dz,havecr=havecr,haveB=haveB)\n",
    "rhol = dendata['rhol']; pthl = dendata['pthl']\n",
    "pturl = dendata['pturl']; pcrl = dendata['pcrl']\n",
    "pBl = dendata['pBl']\n",
    "\n",
    "\n"
   ]
  },
  {
   "cell_type": "code",
   "execution_count": null,
   "metadata": {},
   "outputs": [],
   "source": [
    "Gpre = {}\n",
    "Gpre['xlist']=xlist; Gpre['ylist']=ylist; Gpre['zlist']=zlist;\n",
    "Gpre['xl']=xl; Gpre['yl']=yl; Gpre['zl']=zl;\n",
    "Gpre['gxl']=gxl; Gpre['gyl']=gyl; Gpre['gzl']=gzl;\n"
   ]
  },
  {
   "cell_type": "code",
   "execution_count": null,
   "metadata": {},
   "outputs": [],
   "source": [
    "fhdf5 = h5py.File('/home/tkc004/scratch/snipshot/philruns/m12m_res7000/mhdcv/deriveddata/pressure/snapshot_600.hdf5', 'w')\n",
    "grp0 = fhdf5.create_group(\"pressure/\")\n",
    "RSS.write_layer(grp0, Gf)\n",
    "fhdf5.close()\n",
    "del fhdf5"
   ]
  },
  {
   "cell_type": "code",
   "execution_count": null,
   "metadata": {},
   "outputs": [],
   "source": []
  }
 ],
 "metadata": {
  "kernelspec": {
   "display_name": "Python 2",
   "language": "python",
   "name": "python2"
  },
  "language_info": {
   "codemirror_mode": {
    "name": "ipython",
    "version": 2
   },
   "file_extension": ".py",
   "mimetype": "text/x-python",
   "name": "python",
   "nbconvert_exporter": "python",
   "pygments_lexer": "ipython2",
   "version": "2.7.15"
  }
 },
 "nbformat": 4,
 "nbformat_minor": 2
}
