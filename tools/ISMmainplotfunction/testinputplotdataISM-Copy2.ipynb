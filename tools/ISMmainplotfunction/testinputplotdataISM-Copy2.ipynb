{
 "cells": [
  {
   "cell_type": "code",
   "execution_count": 3,
   "metadata": {},
   "outputs": [],
   "source": [
    "import collections\n",
    "from inputplotdataISM import inputplotdict\n",
    "plotlist = [\n",
    "'figsfr_m12'\n",
    "#'figtdspr_m12hr0_5kpc_usekez',\\\n",
    "#'figintrhogfrompardist_m11g0_5kpcr0_9_usekez'\n",
    "           ]\n",
    "for plotneed in plotlist:\n",
    "    inputplotdict[plotneed]['_plotfunction'](inputplotdict[plotneed])"
   ]
  },
  {
   "cell_type": "code",
   "execution_count": null,
   "metadata": {},
   "outputs": [],
   "source": []
  }
 ],
 "metadata": {
  "kernelspec": {
   "display_name": "Python 2",
   "language": "python",
   "name": "python2"
  },
  "language_info": {
   "codemirror_mode": {
    "name": "ipython",
    "version": 2
   },
   "file_extension": ".py",
   "mimetype": "text/x-python",
   "name": "python",
   "nbconvert_exporter": "python",
   "pygments_lexer": "ipython2",
   "version": "2.7.15"
  }
 },
 "nbformat": 4,
 "nbformat_minor": 2
}
